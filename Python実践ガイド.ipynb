{
  "cells": [
    {
      "cell_type": "markdown",
      "metadata": {
        "id": "view-in-github",
        "colab_type": "text"
      },
      "source": [
        "<a href=\"https://colab.research.google.com/github/xinxinxu2025/code_memo/blob/main/Python%E5%AE%9F%E8%B7%B5%E3%82%AC%E3%82%A4%E3%83%89.ipynb\" target=\"_parent\"><img src=\"https://colab.research.google.com/assets/colab-badge.svg\" alt=\"Open In Colab\"/></a>"
      ]
    },
    {
      "cell_type": "markdown",
      "source": [
        "小売店のデータを模擬した練習用DataFrameを作成します。"
      ],
      "metadata": {
        "id": "gMnwsxtvD80A"
      }
    },
    {
      "cell_type": "code",
      "source": [
        "# バージョン管理（最初に必ず確認）\n",
        "import pandas as pd\n",
        "print(f\"Pandas version: {pd.__version__}\")\n",
        "\n",
        "# 再現性の確保（乱数のシード設定）\n",
        "import numpy as np\n",
        "np.random.seed(42)  # 結果を再現可能にする"
      ],
      "metadata": {
        "colab": {
          "base_uri": "https://localhost:8080/"
        },
        "id": "RI6tanbcKmFs",
        "outputId": "c8cdcc4e-e938-4b96-c1f9-1cd1e6cfbf77"
      },
      "execution_count": 33,
      "outputs": [
        {
          "output_type": "stream",
          "name": "stdout",
          "text": [
            "Pandas version: 2.2.2\n"
          ]
        }
      ]
    },
    {
      "cell_type": "code",
      "source": [
        "import os\n",
        "\n",
        "# 現在の作業ディレクトリ\n",
        "print(\"Current working directory:\", os.getcwd())\n",
        "\n",
        "# ファイル一覧の表示\n",
        "print(\"Files in current directory:\", os.listdir('.'))"
      ],
      "metadata": {
        "colab": {
          "base_uri": "https://localhost:8080/"
        },
        "id": "zerCuu80QdhI",
        "outputId": "21e92f46-e40f-45e5-c088-d3ac6beb8d7d"
      },
      "execution_count": 18,
      "outputs": [
        {
          "output_type": "stream",
          "name": "stdout",
          "text": [
            "Current working directory: /content\n",
            "Files in current directory: ['.config', 'sample_data.csv', 'sample_data']\n"
          ]
        }
      ]
    },
    {
      "cell_type": "code",
      "source": [
        "import pandas as pd\n",
        "import numpy as np\n",
        "from datetime import datetime, timedelta\n",
        "import random\n",
        "\n",
        "# 乱数のシードを設定（再現性のため）\n",
        "np.random.seed(42)\n",
        "random.seed(42)\n",
        "\n",
        "# データサイズの設定\n",
        "n_rows = 1000\n",
        "\n",
        "# 基本データの生成\n",
        "dates = [datetime(2023, 1, 1) + timedelta(days=i) for i in range(n_rows)]\n",
        "store_ids = [f'Store_{i:03d}' for i in range(1, 11)]\n",
        "product_categories = ['Electronics', 'Clothing', 'Food', 'Books', 'Home']\n",
        "regions = ['Tokyo', 'Osaka', 'Nagoya', 'Fukuoka', 'Sapporo']\n",
        "payment_methods = ['Credit Card', 'Cash', 'E-money', 'QR Code']\n",
        "\n",
        "# 売上データの生成\n",
        "data = {\n",
        "    'order_id': [f'ORD_{i:05d}' for i in range(1, n_rows + 1)],\n",
        "    'order_date': dates,\n",
        "    'store_id': np.random.choice(store_ids, n_rows),\n",
        "    'product_category': np.random.choice(product_categories, n_rows, p=[0.2, 0.3, 0.25, 0.1, 0.15]),\n",
        "    'product_name': [],\n",
        "    'quantity': np.random.randint(1, 11, n_rows),\n",
        "    'unit_price': [],\n",
        "    'total_sales': [],\n",
        "    'customer_id': [f'CUST_{np.random.randint(1000, 9999)}' for _ in range(n_rows)],\n",
        "    'customer_age': np.random.randint(18, 80, n_rows),\n",
        "    'customer_gender': np.random.choice(['Male', 'Female', 'Other'], n_rows, p=[0.45, 0.45, 0.1]),\n",
        "    'region': np.random.choice(regions, n_rows),\n",
        "    'payment_method': np.random.choice(payment_methods, n_rows, p=[0.4, 0.3, 0.2, 0.1]),\n",
        "    'discount_rate': np.random.choice([0, 0.1, 0.2, 0.3], n_rows, p=[0.6, 0.2, 0.15, 0.05]),\n",
        "    'return_flag': np.random.choice([0, 1], n_rows, p=[0.9, 0.1]),\n",
        "    'rating': np.random.choice([1, 2, 3, 4, 5, np.nan], n_rows, p=[0.05, 0.1, 0.15, 0.3, 0.3, 0.1])\n",
        "}\n",
        "\n",
        "# 商品名と単価の設定（カテゴリごとに異なる）\n",
        "category_prices = {\n",
        "    'Electronics': (5000, 200000),\n",
        "    'Clothing': (1000, 15000),\n",
        "    'Food': (100, 5000),\n",
        "    'Books': (500, 3000),\n",
        "    'Home': (2000, 10000)\n",
        "}\n",
        "\n",
        "category_products = {\n",
        "    'Electronics': ['Smartphone', 'Laptop', 'Headphones', 'Tablet', 'Camera'],\n",
        "    'Clothing': ['T-Shirt', 'Jeans', 'Jacket', 'Dress', 'Shoes'],\n",
        "    'Food': ['Lunch Box', 'Snacks', 'Drinks', 'Bread', 'Dessert'],\n",
        "    'Books': ['Novel', 'Textbook', 'Manga', 'Cookbook', 'Magazine'],\n",
        "    'Home': ['Table', 'Chair', 'Lamp', 'Cookware', 'Decor']\n",
        "}\n",
        "\n",
        "# 商品名と単価を生成\n",
        "for i in range(n_rows):\n",
        "    category = data['product_category'][i]\n",
        "    product_name = random.choice(category_products[category])\n",
        "    min_price, max_price = category_prices[category]\n",
        "    unit_price = random.randint(min_price, max_price)\n",
        "\n",
        "    data['product_name'].append(product_name)\n",
        "    data['unit_price'].append(unit_price)\n",
        "\n",
        "    # 総売上額を計算（数量×単価×（1-割引率））\n",
        "    quantity = data['quantity'][i]\n",
        "    discount = data['discount_rate'][i]\n",
        "    total_sales = quantity * unit_price * (1 - discount)\n",
        "    data['total_sales'].append(total_sales)\n",
        "\n",
        "# DataFrameの作成\n",
        "df = pd.DataFrame(data)\n",
        "\n",
        "# 意図的に欠損値を作成（実務を想定）\n",
        "missing_indices = random.sample(range(n_rows), 50)\n",
        "for idx in missing_indices:\n",
        "    col = random.choice(['customer_age', 'rating', 'discount_rate'])\n",
        "    df.at[idx, col] = np.nan\n",
        "\n",
        "# 外れ値の追加（実務を想定）\n",
        "outlier_indices = random.sample(range(n_rows), 10)\n",
        "for idx in outlier_indices:\n",
        "    df.at[idx, 'quantity'] = random.randint(50, 100)  # 異常な数量\n",
        "    df.at[idx, 'unit_price'] = random.randint(500000, 1000000)  # 異常な単価\n",
        "\n",
        "# データ型の設定（CSV保存前の最適化）\n",
        "df['order_date'] = pd.to_datetime(df['order_date'])\n",
        "\n",
        "# CSVファイルとして保存\n",
        "csv_file_path = 'sales_data.csv'\n",
        "\n",
        "# 日本語環境でも読みやすい形式で保存\n",
        "df.to_csv(\n",
        "    csv_file_path,\n",
        "    index=False,               # インデックスは保存しない\n",
        "    encoding='utf-8-sig',      # Excelで開く場合の文字化け防止\n",
        "    date_format='%Y-%m-%d'     # 日付のフォーマット指定\n",
        ")\n",
        "\n",
        "print(\"✅ sales_data.csv の保存が完了しました！\")\n",
        "print(f\"保存先: {csv_file_path}\")\n",
        "print(f\"ファイルサイズ: {len(df)}\")\n",
        "print(f\"列数: {len(df.columns)}\")\n",
        "\n",
        "# 保存したファイルの情報を表示\n",
        "print(\"\\n📋 保存されたデータの情報:\")\n",
        "print(f\"行数: {len(df)}\")\n",
        "print(f\"列数: {len(df.columns)}\")\n",
        "print(\"\\n列一覧:\")\n",
        "for i, col in enumerate(df.columns, 1):\n",
        "    print(f\"{i:2d}. {col}\")\n",
        "\n",
        "print(\"\\nデータ型の内訳:\")\n",
        "print(df.dtypes.value_counts())"
      ],
      "metadata": {
        "colab": {
          "base_uri": "https://localhost:8080/"
        },
        "id": "ZRsvkH9KHuAr",
        "outputId": "5d4d6428-94a0-44b1-f368-696d68eba061"
      },
      "execution_count": 32,
      "outputs": [
        {
          "output_type": "stream",
          "name": "stdout",
          "text": [
            "✅ sales_data.csv の保存が完了しました！\n",
            "保存先: sales_data.csv\n",
            "ファイルサイズ: 1000\n",
            "列数: 16\n",
            "\n",
            "📋 保存されたデータの情報:\n",
            "行数: 1000\n",
            "列数: 16\n",
            "\n",
            "列一覧:\n",
            " 1. order_id\n",
            " 2. order_date\n",
            " 3. store_id\n",
            " 4. product_category\n",
            " 5. product_name\n",
            " 6. quantity\n",
            " 7. unit_price\n",
            " 8. total_sales\n",
            " 9. customer_id\n",
            "10. customer_age\n",
            "11. customer_gender\n",
            "12. region\n",
            "13. payment_method\n",
            "14. discount_rate\n",
            "15. return_flag\n",
            "16. rating\n",
            "\n",
            "データ型の内訳:\n",
            "object            8\n",
            "float64           4\n",
            "int64             3\n",
            "datetime64[ns]    1\n",
            "Name: count, dtype: int64\n"
          ]
        }
      ]
    },
    {
      "cell_type": "markdown",
      "source": [
        "1. データ読み込みと確認  \n",
        "\n",
        "\n"
      ],
      "metadata": {
        "id": "Q6gm6LLtEFt1"
      }
    },
    {
      "cell_type": "code",
      "source": [
        "import pandas as pd\n",
        "import numpy as np\n",
        "\n",
        "try:\n",
        "    df = pd.read_csv(\n",
        "        'sales_data.csv',\n",
        "        encoding='utf-8-sig',  # BOM付きUTF-8に対応\n",
        "        low_memory=False,      # メモリ効率より正確性を優先\n",
        "        na_values=['', 'NULL', 'NA', 'N/A', 'null', 'nan', 'NaN', '#N/A'],\n",
        "        keep_default_na=True\n",
        "    )\n",
        "    print(\"✅ データ読み込み成功\")\n",
        "except FileNotFoundError:\n",
        "    print(\"❌ ファイルが見つかりません\")\n",
        "except UnicodeDecodeError:\n",
        "    # 文字化けした場合のフォールバック\n",
        "    df = pd.read_csv('sales_data.csv', encoding='shift_jis')\n",
        "except Exception as e:\n",
        "    print(f\"❌ 予期せぬエラー: {e}\")"
      ],
      "metadata": {
        "colab": {
          "base_uri": "https://localhost:8080/"
        },
        "id": "J3WefFhbD678",
        "outputId": "b635c51b-50b2-4b9b-e6ec-5aecf0638f1d"
      },
      "execution_count": 27,
      "outputs": [
        {
          "output_type": "stream",
          "name": "stdout",
          "text": [
            "✅ データ読み込み成功\n"
          ]
        }
      ]
    },
    {
      "cell_type": "code",
      "source": [
        "# よく使うオプション集\n",
        "# df = pd.read_csv(\n",
        "#     'data.csv',\n",
        "#     encoding='utf-8',\n",
        "#     sep=',',                  # 区切り文字明示指定\n",
        "#     header=0,                 # ヘッダー行指定\n",
        "#     skiprows=3,               # 不要なヘッダー行をスキップ\n",
        "#     skipfooter=2,             # フッターの不要行をスキップ\n",
        "#     thousands=',',            # カンマ区切り数値対応\n",
        "#     decimal='.',              # 小数点の形式指定\n",
        "#     parse_dates=['order_date'], # 日付列の自動変換\n",
        "#     dayfirst=False,           # 日付形式の指定\n",
        "#     dtype={                   # データ型の明示的指定\n",
        "#         'store_id': 'category',\n",
        "#         'product_id': 'string'\n",
        "#     },\n",
        "#     usecols=lambda x: x not in ['temp_column', 'unused_col'],  # 不要列の除外\n",
        "#     nrows=1000 if DEBUG else None  # デバッグ時はデータ制限\n",
        "# )"
      ],
      "metadata": {
        "id": "sfB-7kqxGEq1"
      },
      "execution_count": 28,
      "outputs": []
    },
    {
      "cell_type": "markdown",
      "source": [
        "データ確認の必須チェック項目\n",
        "データを読み込んだら、必ず以下の確認を行いましょう。"
      ],
      "metadata": {
        "id": "k0iUlhw8GVS3"
      }
    },
    {
      "cell_type": "code",
      "source": [
        "# ① 最初のデータを確認\n",
        "\n",
        "# 最初の5行を表示（データの雰囲気をつかむ）\n",
        "print(\"データの先頭5行:\")\n",
        "print(df.head())\n",
        "\n",
        "# 最後の3行を確認\n",
        "print(\"\\nデータの最後の3行:\")\n",
        "print(df.tail(3))\n",
        "\n",
        "\n",
        "\n",
        "# ② データの基本情報を確認\n",
        "\n",
        "# データの形状（行数と列数）を確認\n",
        "print(f\"データの形状: {df.shape}\")\n",
        "print(f\"行数: {df.shape[0]}, 列数: {df.shape[1]}\")\n",
        "\n",
        "# 各列のデータ型と非NULL値の数を確認\n",
        "print(\"\\nデータの基本情報:\")\n",
        "df.info()\n",
        "\n",
        "\n",
        "\n",
        "# ③ 数値データの統計量を確認\n",
        "\n",
        "# 数値列の基本統計量（平均、標準偏差、最小値、最大値など）\n",
        "print(\"数値データの統計量:\")\n",
        "print(df.describe())\n",
        "\n",
        "# オブジェクト型（文字列）の要約統計量\n",
        "print(\"\\n文字列データの要約:\")\n",
        "print(df.describe(include='object'))\n",
        "\n",
        "\n",
        "\n",
        "# ④ 列名とデータ型の確認\n",
        "\n",
        "# 列名の一覧を確認\n",
        "print(\"列名一覧:\")\n",
        "print(df.columns.tolist())\n",
        "\n",
        "# 各列のデータ型を確認\n",
        "print(\"\\nデータ型一覧:\")\n",
        "print(df.dtypes)\n",
        "\n",
        "\n",
        "\n",
        "# ⑤ 欠損値の確認\n",
        "\n",
        "# 各列の欠損値の数を確認\n",
        "print(\"各列の欠損値数:\")\n",
        "print(df.isnull().sum())\n",
        "\n",
        "# 欠損値の割合を確認（％表示）\n",
        "print(\"\\n欠損値の割合:\")\n",
        "print((df.isnull().sum() / len(df) * 100).round(2))"
      ],
      "metadata": {
        "colab": {
          "base_uri": "https://localhost:8080/"
        },
        "id": "BMTIeS_iGUZk",
        "outputId": "b17bc862-1c23-4cd9-ea63-238042481a77"
      },
      "execution_count": 30,
      "outputs": [
        {
          "output_type": "stream",
          "name": "stdout",
          "text": [
            "データの先頭5行:\n",
            "    order_id  order_date   store_id product_category product_name  quantity  \\\n",
            "0  ORD_00001  2023-01-01  Store_007         Clothing      T-Shirt         8   \n",
            "1  ORD_00002  2023-01-02  Store_004             Food       Drinks         8   \n",
            "2  ORD_00003  2023-01-03  Store_008             Food       Snacks         9   \n",
            "3  ORD_00004  2023-01-04  Store_005      Electronics   Smartphone         7   \n",
            "4  ORD_00005  2023-01-05  Store_007             Home        Decor         1   \n",
            "\n",
            "   unit_price  total_sales customer_id  customer_age customer_gender   region  \\\n",
            "0        1409      11272.0   CUST_9851          29.0            Male  Sapporo   \n",
            "1        2106      16848.0   CUST_1159          66.0           Other    Osaka   \n",
            "2        1243      11187.0   CUST_7555          34.0           Other    Osaka   \n",
            "3      182392    1149069.6   CUST_9244          59.0          Female  Sapporo   \n",
            "4        2712       2169.6   CUST_7846          47.0          Female    Tokyo   \n",
            "\n",
            "  payment_method  discount_rate  return_flag  rating  \n",
            "0        E-money            0.0            0     5.0  \n",
            "1        QR Code            0.0            0     5.0  \n",
            "2    Credit Card            0.0            0     2.0  \n",
            "3    Credit Card            0.1            0     1.0  \n",
            "4    Credit Card            0.2            0     5.0  \n",
            "\n",
            "データの最後の3行:\n",
            "      order_id  order_date   store_id product_category product_name  quantity  \\\n",
            "997  ORD_00998  2025-09-24  Store_008      Electronics       Tablet         4   \n",
            "998  ORD_00999  2025-09-25  Store_002             Home     Cookware         8   \n",
            "999  ORD_01000  2025-09-26  Store_009         Clothing        Dress         6   \n",
            "\n",
            "     unit_price  total_sales customer_id  customer_age customer_gender  \\\n",
            "997       48684     194736.0   CUST_4805          30.0          Female   \n",
            "998        4879      39032.0   CUST_7419          59.0          Female   \n",
            "999        1693       8126.4   CUST_6750          26.0          Female   \n",
            "\n",
            "      region payment_method  discount_rate  return_flag  rating  \n",
            "997   Nagoya        QR Code            0.0            0     3.0  \n",
            "998  Fukuoka        E-money            0.0            0     4.0  \n",
            "999    Tokyo           Cash            0.2            0     1.0  \n",
            "データの形状: (1000, 16)\n",
            "行数: 1000, 列数: 16\n",
            "\n",
            "データの基本情報:\n",
            "<class 'pandas.core.frame.DataFrame'>\n",
            "RangeIndex: 1000 entries, 0 to 999\n",
            "Data columns (total 16 columns):\n",
            " #   Column            Non-Null Count  Dtype  \n",
            "---  ------            --------------  -----  \n",
            " 0   order_id          1000 non-null   object \n",
            " 1   order_date        1000 non-null   object \n",
            " 2   store_id          1000 non-null   object \n",
            " 3   product_category  1000 non-null   object \n",
            " 4   product_name      1000 non-null   object \n",
            " 5   quantity          1000 non-null   int64  \n",
            " 6   unit_price        1000 non-null   int64  \n",
            " 7   total_sales       1000 non-null   float64\n",
            " 8   customer_id       1000 non-null   object \n",
            " 9   customer_age      985 non-null    float64\n",
            " 10  customer_gender   1000 non-null   object \n",
            " 11  region            1000 non-null   object \n",
            " 12  payment_method    1000 non-null   object \n",
            " 13  discount_rate     982 non-null    float64\n",
            " 14  return_flag       1000 non-null   int64  \n",
            " 15  rating            896 non-null    float64\n",
            "dtypes: float64(4), int64(3), object(9)\n",
            "memory usage: 125.1+ KB\n",
            "数値データの統計量:\n",
            "          quantity     unit_price   total_sales  customer_age  discount_rate  \\\n",
            "count  1000.000000    1000.000000  1.000000e+03    985.000000     982.000000   \n",
            "mean      6.179000   30968.470000  1.238404e+05     49.100508       0.068941   \n",
            "std       7.808709   86334.944223  2.647734e+05     17.962728       0.091997   \n",
            "min       1.000000     113.000000  1.130000e+02     18.000000       0.000000   \n",
            "25%       3.000000    2436.500000  8.821575e+03     34.000000       0.000000   \n",
            "50%       5.000000    4918.000000  2.296945e+04     49.000000       0.000000   \n",
            "75%       8.000000   12837.500000  7.198875e+04     65.000000       0.100000   \n",
            "max      95.000000  963599.000000  1.705167e+06     79.000000       0.300000   \n",
            "\n",
            "       return_flag      rating  \n",
            "count  1000.000000  896.000000  \n",
            "mean      0.104000    3.775670  \n",
            "std       0.305413    1.187415  \n",
            "min       0.000000    1.000000  \n",
            "25%       0.000000    3.000000  \n",
            "50%       0.000000    4.000000  \n",
            "75%       0.000000    5.000000  \n",
            "max       1.000000    5.000000  \n",
            "\n",
            "文字列データの要約:\n",
            "         order_id  order_date   store_id product_category product_name  \\\n",
            "count        1000        1000       1000             1000         1000   \n",
            "unique       1000        1000         10                5           25   \n",
            "top     ORD_01000  2025-09-26  Store_001         Clothing        Shoes   \n",
            "freq            1           1        118              292           69   \n",
            "\n",
            "       customer_id customer_gender region payment_method  \n",
            "count         1000            1000   1000           1000  \n",
            "unique         944               3      5              4  \n",
            "top      CUST_6520            Male  Osaka    Credit Card  \n",
            "freq             2             464    231            391  \n",
            "列名一覧:\n",
            "['order_id', 'order_date', 'store_id', 'product_category', 'product_name', 'quantity', 'unit_price', 'total_sales', 'customer_id', 'customer_age', 'customer_gender', 'region', 'payment_method', 'discount_rate', 'return_flag', 'rating']\n",
            "\n",
            "データ型一覧:\n",
            "order_id             object\n",
            "order_date           object\n",
            "store_id             object\n",
            "product_category     object\n",
            "product_name         object\n",
            "quantity              int64\n",
            "unit_price            int64\n",
            "total_sales         float64\n",
            "customer_id          object\n",
            "customer_age        float64\n",
            "customer_gender      object\n",
            "region               object\n",
            "payment_method       object\n",
            "discount_rate       float64\n",
            "return_flag           int64\n",
            "rating              float64\n",
            "dtype: object\n",
            "各列の欠損値数:\n",
            "order_id              0\n",
            "order_date            0\n",
            "store_id              0\n",
            "product_category      0\n",
            "product_name          0\n",
            "quantity              0\n",
            "unit_price            0\n",
            "total_sales           0\n",
            "customer_id           0\n",
            "customer_age         15\n",
            "customer_gender       0\n",
            "region                0\n",
            "payment_method        0\n",
            "discount_rate        18\n",
            "return_flag           0\n",
            "rating              104\n",
            "dtype: int64\n",
            "\n",
            "欠損値の割合:\n",
            "order_id             0.0\n",
            "order_date           0.0\n",
            "store_id             0.0\n",
            "product_category     0.0\n",
            "product_name         0.0\n",
            "quantity             0.0\n",
            "unit_price           0.0\n",
            "total_sales          0.0\n",
            "customer_id          0.0\n",
            "customer_age         1.5\n",
            "customer_gender      0.0\n",
            "region               0.0\n",
            "payment_method       0.0\n",
            "discount_rate        1.8\n",
            "return_flag          0.0\n",
            "rating              10.4\n",
            "dtype: float64\n"
          ]
        }
      ]
    },
    {
      "cell_type": "code",
      "source": [
        "# 最初の5ステップ確認法\n",
        "\n",
        "def initial_data_assessment(df, name=\"データ\"):\n",
        "    \"\"\"プロが最初に行う5ステップ確認\"\"\"\n",
        "\n",
        "    print(f\"🔍 {name} 初期評価\")\n",
        "    print(\"=\" * 50)\n",
        "\n",
        "    # ステップ1: 基本形状\n",
        "    print(f\"1. データ形状: {df.shape} (行×列)\")\n",
        "    print(f\"   メモリ使用量: {df.memory_usage(deep=True).sum() / 1024**2:.1f} MB\")\n",
        "\n",
        "    # ステップ2: データ型確認\n",
        "    print(f\"2. データ型分布:\")\n",
        "    dtype_counts = df.dtypes.value_counts()\n",
        "    for dtype, count in dtype_counts.items():\n",
        "        print(f\"   {dtype}: {count}列\")\n",
        "\n",
        "    # ステップ3: 欠損値状況\n",
        "    missing_total = df.isnull().sum().sum()\n",
        "    missing_percent = (missing_total / (df.shape[0] * df.shape[1])) * 100\n",
        "    print(f\"3. 欠損値: {missing_total}箇所 ({missing_percent:.2f}%)\")\n",
        "\n",
        "    # ステップ4: 重複チェック\n",
        "    duplicates = df.duplicated().sum()\n",
        "    print(f\"4. 完全重複行: {duplicates}行\")\n",
        "\n",
        "    # ステップ5: 基本統計量\n",
        "    print(\"5. 数値列の基本統計:\")\n",
        "    print(df.describe().round(2))\n",
        "\n",
        "# 実行例\n",
        "initial_data_assessment(df, \"売上データ\")"
      ],
      "metadata": {
        "colab": {
          "base_uri": "https://localhost:8080/"
        },
        "id": "vh_Cb0zoTNqX",
        "outputId": "b56444c6-554c-4540-b54c-920e52695c4f"
      },
      "execution_count": 29,
      "outputs": [
        {
          "output_type": "stream",
          "name": "stdout",
          "text": [
            "🔍 売上データ 初期評価\n",
            "==================================================\n",
            "1. データ形状: (1000, 16) (行×列)\n",
            "   メモリ使用量: 0.5 MB\n",
            "2. データ型分布:\n",
            "   object: 9列\n",
            "   float64: 4列\n",
            "   int64: 3列\n",
            "3. 欠損値: 137箇所 (0.86%)\n",
            "4. 完全重複行: 0行\n",
            "5. 数値列の基本統計:\n",
            "       quantity  unit_price  total_sales  customer_age  discount_rate  \\\n",
            "count   1000.00     1000.00      1000.00        985.00         982.00   \n",
            "mean       6.18    30968.47    123840.35         49.10           0.07   \n",
            "std        7.81    86334.94    264773.43         17.96           0.09   \n",
            "min        1.00      113.00       113.00         18.00           0.00   \n",
            "25%        3.00     2436.50      8821.58         34.00           0.00   \n",
            "50%        5.00     4918.00     22969.45         49.00           0.00   \n",
            "75%        8.00    12837.50     71988.75         65.00           0.10   \n",
            "max       95.00   963599.00   1705167.00         79.00           0.30   \n",
            "\n",
            "       return_flag  rating  \n",
            "count      1000.00  896.00  \n",
            "mean          0.10    3.78  \n",
            "std           0.31    1.19  \n",
            "min           0.00    1.00  \n",
            "25%           0.00    3.00  \n",
            "50%           0.00    4.00  \n",
            "75%           0.00    5.00  \n",
            "max           1.00    5.00  \n"
          ]
        }
      ]
    },
    {
      "cell_type": "code",
      "source": [
        "# 詳細なデータ品質チェック\n",
        "\n",
        "def detailed_quality_check(df):\n",
        "    \"\"\"データ品質の詳細チェック\"\"\"\n",
        "\n",
        "    results = {}\n",
        "\n",
        "    # 各列の詳細分析\n",
        "    for column in df.columns:\n",
        "        col_info = {\n",
        "            'データ型': str(df[column].dtype),\n",
        "            'ユニーク値数': df[column].nunique(),\n",
        "            '欠損値数': df[column].isnull().sum(),\n",
        "            '欠損率(%)': (df[column].isnull().sum() / len(df) * 100).round(2),\n",
        "            'サンプル値': df[column].iloc[0] if not df[column].empty else None\n",
        "        }\n",
        "\n",
        "        # 数値列の追加チェック\n",
        "        if pd.api.types.is_numeric_dtype(df[column]):\n",
        "            col_info.update({\n",
        "                '最小値': df[column].min(),\n",
        "                '最大値': df[column].max(),\n",
        "                '平均値': df[column].mean(),\n",
        "                'ゼロ値数': (df[column] == 0).sum()\n",
        "            })\n",
        "\n",
        "        results[column] = col_info\n",
        "\n",
        "    return pd.DataFrame(results).T\n",
        "\n",
        "# 品質チェックの実行\n",
        "quality_report = detailed_quality_check(df)\n",
        "print(quality_report)"
      ],
      "metadata": {
        "colab": {
          "base_uri": "https://localhost:8080/"
        },
        "id": "q3xNMho4TfnQ",
        "outputId": "cabf05bf-ca3b-4be4-a251-2b0487adcc5e"
      },
      "execution_count": 31,
      "outputs": [
        {
          "output_type": "stream",
          "name": "stdout",
          "text": [
            "                     データ型 ユニーク値数 欠損値数 欠損率(%)       サンプル値    最小値        最大値  \\\n",
            "order_id           object   1000    0    0.0   ORD_00001    NaN        NaN   \n",
            "order_date         object   1000    0    0.0  2023-01-01    NaN        NaN   \n",
            "store_id           object     10    0    0.0   Store_007    NaN        NaN   \n",
            "product_category   object      5    0    0.0    Clothing    NaN        NaN   \n",
            "product_name       object     25    0    0.0     T-Shirt    NaN        NaN   \n",
            "quantity            int64     20    0    0.0           8      1         95   \n",
            "unit_price          int64    984    0    0.0        1409    113     963599   \n",
            "total_sales       float64    996    0    0.0     11272.0  113.0  1705167.0   \n",
            "customer_id        object    944    0    0.0   CUST_9851    NaN        NaN   \n",
            "customer_age      float64     62   15    1.5        29.0   18.0       79.0   \n",
            "customer_gender    object      3    0    0.0        Male    NaN        NaN   \n",
            "region             object      5    0    0.0     Sapporo    NaN        NaN   \n",
            "payment_method     object      4    0    0.0     E-money    NaN        NaN   \n",
            "discount_rate     float64      4   18    1.8         0.0    0.0        0.3   \n",
            "return_flag         int64      2    0    0.0           0      0          1   \n",
            "rating            float64      5  104   10.4         5.0    1.0        5.0   \n",
            "\n",
            "                          平均値 ゼロ値数  \n",
            "order_id                  NaN  NaN  \n",
            "order_date                NaN  NaN  \n",
            "store_id                  NaN  NaN  \n",
            "product_category          NaN  NaN  \n",
            "product_name              NaN  NaN  \n",
            "quantity                6.179    0  \n",
            "unit_price           30968.47    0  \n",
            "total_sales       123840.3549    0  \n",
            "customer_id               NaN  NaN  \n",
            "customer_age        49.100508    0  \n",
            "customer_gender           NaN  NaN  \n",
            "region                    NaN  NaN  \n",
            "payment_method            NaN  NaN  \n",
            "discount_rate        0.068941  568  \n",
            "return_flag             0.104  896  \n",
            "rating                3.77567    0  \n"
          ]
        }
      ]
    },
    {
      "cell_type": "markdown",
      "source": [
        "よくあるデータ問題と対処法  \n",
        "・文字化け問題  \n",
        "・メモリ問題  "
      ],
      "metadata": {
        "id": "xxlNnMdRTsp2"
      }
    },
    {
      "cell_type": "code",
      "source": [
        "# 文字化け対策の関数\n",
        "def safe_read_csv(file_path):\n",
        "    encodings = ['utf-8', 'utf-8-sig', 'shift_jis', 'cp932', 'euc-jp']\n",
        "\n",
        "    for encoding in encodings:\n",
        "        try:\n",
        "            df = pd.read_csv(file_path, encoding=encoding, nrows=5)\n",
        "            print(f\"✅ 成功: {encoding}\")\n",
        "            return pd.read_csv(file_path, encoding=encoding)\n",
        "        except UnicodeDecodeError:\n",
        "            continue\n",
        "\n",
        "    print(\"❌ 適切なエンコーディングが見つかりませんでした\")\n",
        "    return None\n",
        "\n",
        "# 使用例\n",
        "df = safe_read_csv('sales_data.csv')"
      ],
      "metadata": {
        "id": "C1zFCpc9Tt-V"
      },
      "execution_count": null,
      "outputs": []
    },
    {
      "cell_type": "code",
      "source": [
        "# 大規模データ用の読み込み\n",
        "def memory_efficient_read(file_path):\n",
        "    # まずは軽く読み込んでデータ型を確認\n",
        "    sample_df = pd.read_csv(file_path, nrows=1000)\n",
        "\n",
        "    # 最適なデータ型を決定\n",
        "    dtype_dict = {}\n",
        "    for col in sample_df.columns:\n",
        "        if sample_df[col].dtype == 'object':\n",
        "            # カテゴリ型に変換可能かチェック\n",
        "            unique_ratio = sample_df[col].nunique() / len(sample_df)\n",
        "            dtype_dict[col] = 'category' if unique_ratio < 0.5 else 'string'\n",
        "        else:\n",
        "            dtype_dict[col] = sample_df[col].dtype\n",
        "\n",
        "    # 最適なデータ型で読み込み\n",
        "    return pd.read_csv(file_path, dtype=dtype_dict, low_memory=False)"
      ],
      "metadata": {
        "id": "aiE6KHnqTuCI"
      },
      "execution_count": null,
      "outputs": []
    },
    {
      "cell_type": "markdown",
      "source": [
        "チェックリスト\n",
        "\n",
        "読み込み前の確認事項\n",
        "- [ ] ファイルサイズの確認\n",
        "- [ ] エンコーディングの予想\n",
        "- [ ] 必要な列の特定\n",
        "- [ ] データ型の計画\n",
        "\n",
        "読み込み時の確認事項\n",
        "- [ ] エラーハンドリングの実装\n",
        "- [ ] 適切なデータ型の指定\n",
        "- [ ] 不要な列の除外\n",
        "- [ ] 日付列の適切な処理\n",
        "\n",
        "読み込み後の確認事項\n",
        "- [ ] データ形状の確認\n",
        "- [ ] 欠損値の状況把握\n",
        "- [ ] データ型の再確認\n",
        "- [ ] 基本統計量の確認\n",
        "- [ ] サンプルデータの目視確認\n"
      ],
      "metadata": {
        "id": "gLEDFwq3UUxh"
      }
    },
    {
      "cell_type": "code",
      "source": [
        "# データの軽量化\n",
        "def reduce_memory_usage(df):\n",
        "    for col in df.columns:\n",
        "        if df[col].dtype == 'float64':\n",
        "            df[col] = df[col].astype('float32')\n",
        "        elif df[col].dtype == 'int64':\n",
        "            df[col] = df[col].astype('int32')\n",
        "    return df\n",
        "\n",
        "# 進行状況の表示\n",
        "from tqdm import tqdm\n",
        "tqdm.pandas()  # apply処理の進捗表示用"
      ],
      "metadata": {
        "id": "IyyF9ZwrTuE_"
      },
      "execution_count": null,
      "outputs": []
    },
    {
      "cell_type": "markdown",
      "source": [
        "3. データクリーニング"
      ],
      "metadata": {
        "id": "SUhRDAAbcQsm"
      }
    },
    {
      "cell_type": "markdown",
      "source": [
        "データクリーニングは難しく考えず、**基本的なことから始めよう**：\n",
        "\n",
        "1. **コピーを作る** - 元データを守る\n",
        "2. **空欄を埋める** - 欠損値処理\n",
        "3. **変な数字を直す** - 外れ値処理\n",
        "4. **重複を消す** - 重複削除\n",
        "5. **型を整える** - データ型整理"
      ],
      "metadata": {
        "id": "rApZ8v7_D7bn"
      }
    },
    {
      "cell_type": "code",
      "source": [
        "# 欠損値の確認\n",
        "# df.isnull().sum()\n",
        "\n",
        "# 欠損値を平均値で埋める\n",
        "# df['column_name'].fillna(df['column_name'].mean(), inplace=True)\n",
        "\n",
        "# 重複行の削除\n",
        "# df.drop_duplicates(inplace=True)\n",
        "\n",
        "# 列名の変更\n",
        "# df.rename(columns={'old_name': 'new_name'}, inplace=True)"
      ],
      "metadata": {
        "id": "Jdy6VvoGEPbi"
      },
      "execution_count": 35,
      "outputs": []
    },
    {
      "cell_type": "markdown",
      "source": [
        "欠損値の処理 - 空欄を埋めよう"
      ],
      "metadata": {
        "id": "Hh6J2CfRYysC"
      }
    },
    {
      "cell_type": "code",
      "source": [
        "# データをコピー（元データを残す）\n",
        "df_clean = df.copy()\n",
        "\n",
        "print(\"欠損値の数を確認:\")\n",
        "print(df_clean.isnull().sum())\n",
        "\n",
        "# 数値の列の空欄を平均値で埋める\n",
        "numeric_cols = ['customer_age', 'rating', 'discount_rate']\n",
        "for col in numeric_cols:\n",
        "    if col in df_clean.columns:\n",
        "        avg_value = df_clean[col].mean()\n",
        "        df_clean[col] = df_clean[col].fillna(avg_value)\n",
        "        print(f\"{col}の空欄を平均値({avg_value:.1f})で埋めました\")\n",
        "\n",
        "# 文字の列の空欄を'不明'で埋める\n",
        "text_cols = ['customer_gender', 'payment_method']\n",
        "for col in text_cols:\n",
        "    if col in df_clean.columns:\n",
        "        df_clean[col] = df_clean[col].fillna('不明')\n",
        "        print(f\"{col}の空欄を'不明'で埋めました\")"
      ],
      "metadata": {
        "colab": {
          "base_uri": "https://localhost:8080/"
        },
        "id": "dHrkMTtzY4DF",
        "outputId": "3e3eb265-1d4e-4088-d376-b0bae9a77967"
      },
      "execution_count": 41,
      "outputs": [
        {
          "output_type": "stream",
          "name": "stdout",
          "text": [
            "欠損値の数を確認:\n",
            "order_id              0\n",
            "order_date            0\n",
            "store_id              0\n",
            "product_category      0\n",
            "product_name          0\n",
            "quantity              0\n",
            "unit_price            0\n",
            "total_sales           0\n",
            "customer_id           0\n",
            "customer_age         15\n",
            "customer_gender       0\n",
            "region                0\n",
            "payment_method        0\n",
            "discount_rate        18\n",
            "return_flag           0\n",
            "rating              104\n",
            "dtype: int64\n",
            "customer_ageの空欄を平均値(49.1)で埋めました\n",
            "ratingの空欄を平均値(3.8)で埋めました\n",
            "discount_rateの空欄を平均値(0.1)で埋めました\n",
            "customer_genderの空欄を'不明'で埋めました\n",
            "payment_methodの空欄を'不明'で埋めました\n"
          ]
        }
      ]
    },
    {
      "cell_type": "markdown",
      "source": [
        "外れ値の処理 - 変な数字を直そう"
      ],
      "metadata": {
        "id": "ZjHs6MhuZFqz"
      }
    },
    {
      "cell_type": "code",
      "source": [
        "print(\"\\n 外れ値チェック:\")\n",
        "\n",
        "# 数量の異常値を見つける\n",
        "q_low = df_clean['quantity'].quantile(0.01)  # 下1%\n",
        "q_high = df_clean['quantity'].quantile(0.99) # 上1%\n",
        "\n",
        "print(f\"数量の正常範囲: {q_low} ～ {q_high}\")\n",
        "\n",
        "# 異常値を範囲内に収める\n",
        "df_clean['quantity'] = np.clip(df_clean['quantity'], q_low, q_high)\n",
        "print(\"数量の異常値を修正しました\")\n",
        "\n",
        "# 単価も同様に\n",
        "price_low = df_clean['unit_price'].quantile(0.01)\n",
        "price_high = df_clean['unit_price'].quantile(0.99)\n",
        "df_clean['unit_price'] = np.clip(df_clean['unit_price'], price_low, price_high)\n",
        "print(\"単価の異常値を修正しました\")"
      ],
      "metadata": {
        "colab": {
          "base_uri": "https://localhost:8080/"
        },
        "id": "exAEo3KNZIcu",
        "outputId": "11bc0170-c2a9-4df9-d874-a45e9fab34a1"
      },
      "execution_count": 42,
      "outputs": [
        {
          "output_type": "stream",
          "name": "stdout",
          "text": [
            "\n",
            " 外れ値チェック:\n",
            "数量の正常範囲: 1.0 ～ 10.44999999999959\n",
            "数量の異常値を修正しました\n",
            "単価の異常値を修正しました\n"
          ]
        }
      ]
    },
    {
      "cell_type": "markdown",
      "source": [
        "重複データの削除 - 同じデータを消そう"
      ],
      "metadata": {
        "id": "NvRjvx9lZWtN"
      }
    },
    {
      "cell_type": "code",
      "source": [
        "print(f\"\\n重複データ: {df_clean.duplicated().sum()}件見つかりました\")\n",
        "\n",
        "# 重複データを削除\n",
        "before_rows = len(df_clean)\n",
        "df_clean = df_clean.drop_duplicates()\n",
        "after_rows = len(df_clean)\n",
        "\n",
        "print(f\"重複データを{before_rows - after_rows}件削除しました\")"
      ],
      "metadata": {
        "colab": {
          "base_uri": "https://localhost:8080/"
        },
        "id": "hma9erCZZZX3",
        "outputId": "e1f4347f-ee91-47f1-be5e-f507b3c34ade"
      },
      "execution_count": 43,
      "outputs": [
        {
          "output_type": "stream",
          "name": "stdout",
          "text": [
            "\n",
            "重複データ: 0件見つかりました\n",
            "重複データを0件削除しました\n"
          ]
        }
      ]
    },
    {
      "cell_type": "markdown",
      "source": [
        "データ型の整理 - 数字は数字、文字は文字に"
      ],
      "metadata": {
        "id": "55Ddic4iZfCA"
      }
    },
    {
      "cell_type": "code",
      "source": [
        "# 数字の列を適切な型に\n",
        "df_clean['quantity'] = df_clean['quantity'].astype(int)\n",
        "df_clean['unit_price'] = df_clean['unit_price'].astype(int)\n",
        "df_clean['total_sales'] = df_clean['total_sales'].astype(int)\n",
        "\n",
        "print(\"数値データの型を整理しました\")\n",
        "\n",
        "# カテゴリデータを整理\n",
        "category_cols = ['product_category', 'customer_gender', 'payment_method', 'region']\n",
        "for col in category_cols:\n",
        "    df_clean[col] = df_clean[col].astype('category')\n",
        "\n",
        "print(\"カテゴリデータの型を整理しました\")"
      ],
      "metadata": {
        "colab": {
          "base_uri": "https://localhost:8080/"
        },
        "id": "QndIcdHoZhZI",
        "outputId": "ca884107-d034-4a73-908b-9df5da8f6337"
      },
      "execution_count": 44,
      "outputs": [
        {
          "output_type": "stream",
          "name": "stdout",
          "text": [
            "数値データの型を整理しました\n",
            "カテゴリデータの型を整理しました\n"
          ]
        }
      ]
    },
    {
      "cell_type": "markdown",
      "source": [
        "前処理前後の比較"
      ],
      "metadata": {
        "id": "ZyQO1sp7ZpTO"
      }
    },
    {
      "cell_type": "code",
      "source": [
        "def simple_quality_check(df, name):\n",
        "    \"\"\"簡単なデータ品質チェック\"\"\"\n",
        "    print(f\"\\n {name}の品質:\")\n",
        "    print(f\"  行数: {len(df):,}行\")\n",
        "    print(f\"  欠損値: {df.isnull().sum().sum():,}箇所\")\n",
        "    print(f\"  重複: {df.duplicated().sum():,}件\")\n",
        "\n",
        "    # 数値データの基本統計\n",
        "    if len(df) > 0:\n",
        "        print(f\"  平均単価: {df['unit_price'].mean():.0f}円\")\n",
        "        print(f\"  平均数量: {df['quantity'].mean():.1f}個\")\n",
        "\n",
        "# 比較表示\n",
        "print(\"=\" * 50)\n",
        "simple_quality_check(df, \"クリーニング前\")\n",
        "simple_quality_check(df_clean, \"クリーニング後\")\n",
        "print(\"=\" * 50)"
      ],
      "metadata": {
        "colab": {
          "base_uri": "https://localhost:8080/"
        },
        "id": "Ye5-8U_WZtjg",
        "outputId": "a448f8cd-ab42-48b3-a578-e6d079cb4a92"
      },
      "execution_count": 45,
      "outputs": [
        {
          "output_type": "stream",
          "name": "stdout",
          "text": [
            "==================================================\n",
            "\n",
            " お掃除前の品質:\n",
            "  行数: 1,000行\n",
            "  欠損値: 137箇所\n",
            "  重複: 0件\n",
            "  平均単価: 30968円\n",
            "  平均数量: 6.2個\n",
            "\n",
            " お掃除後の品質:\n",
            "  行数: 1,000行\n",
            "  欠損値: 0箇所\n",
            "  重複: 0件\n",
            "  平均単価: 25512円\n",
            "  平均数量: 5.5個\n",
            "==================================================\n"
          ]
        }
      ]
    },
    {
      "cell_type": "markdown",
      "source": [
        "データをさらに使いやすくする工夫"
      ],
      "metadata": {
        "id": "aZnFQ8AIZ3LU"
      }
    },
    {
      "cell_type": "code",
      "source": [
        "# 新しい列を作って分析しやすく\n",
        "\n",
        "# 売上金額でランク分け\n",
        "df_clean['sales_rank'] = pd.cut(df_clean['total_sales'],\n",
        "                               bins=[0, 1000, 5000, 10000, 50000, 1000000],\n",
        "                               labels=['超少額', '少額', '中額', '高額', '超高額'])\n",
        "\n",
        "# 時間に関する情報を追加\n",
        "df_clean['order_month'] = df_clean['order_date'].dt.month\n",
        "df_clean['order_dayofweek'] = df_clean['order_date'].dt.dayofweek\n",
        "df_clean['is_weekend'] = df_clean['order_dayofweek'].isin([5, 6])\n",
        "\n",
        "print(\"分析用の新しい列を作成しました\")"
      ],
      "metadata": {
        "colab": {
          "base_uri": "https://localhost:8080/"
        },
        "id": "Rl062Uk5Z4nw",
        "outputId": "b41b75f6-38fd-4ffb-f30a-a3252c682f16"
      },
      "execution_count": 46,
      "outputs": [
        {
          "output_type": "stream",
          "name": "stdout",
          "text": [
            "✅ 分析用の新しい列を作成しました\n"
          ]
        }
      ]
    },
    {
      "cell_type": "markdown",
      "source": [
        "文字データをきれいに"
      ],
      "metadata": {
        "id": "5ucT_DvvaFR9"
      }
    },
    {
      "cell_type": "code",
      "source": [
        "# 表記ゆれを統一\n",
        "df_clean['payment_method'] = df_clean['payment_method'].replace({\n",
        "    'credit card': 'Credit Card',\n",
        "    'Credit Card': 'Credit Card',\n",
        "    'cash': 'Cash',\n",
        "    'Cash': 'Cash',\n",
        "    'e-money': 'E-money',\n",
        "    'E-money': 'E-money',\n",
        "    'qr code': 'QR Code',\n",
        "    'QR code': 'QR Code'\n",
        "})\n",
        "\n",
        "print(\"支払方法の表記を統一しました\")"
      ],
      "metadata": {
        "colab": {
          "base_uri": "https://localhost:8080/"
        },
        "id": "d6kisZQuaGiU",
        "outputId": "0c6c4052-71f7-4e5e-b1dc-5fe91a71b3d5"
      },
      "execution_count": 47,
      "outputs": [
        {
          "output_type": "stream",
          "name": "stdout",
          "text": [
            "✅ 支払方法の表記を統一しました\n"
          ]
        }
      ]
    },
    {
      "cell_type": "markdown",
      "source": [
        "前処理作業の記録"
      ],
      "metadata": {
        "id": "cmgJAOsQaNfB"
      }
    },
    {
      "cell_type": "code",
      "source": [
        "# どんなお掃除をしたか記録\n",
        "cleaning_log = \"\"\"\n",
        "データクリーニング作業記録\n",
        "\n",
        "1. 欠損値処理:\n",
        "   - 数値列: 平均値で補完\n",
        "   - 文字列: '不明'で補完\n",
        "\n",
        "2. 外れ値処理:\n",
        "   - 数量: 上下1%の範囲に収める\n",
        "   - 単価: 上下1%の範囲に収める\n",
        "\n",
        "3. 重複処理:\n",
        "   - 重複行を削除\n",
        "\n",
        "4. データ型整理:\n",
        "   - 数値列を適切な型に変換\n",
        "   - カテゴリ列を整理\n",
        "\n",
        "5. データ強化:\n",
        "   - 売上ランク列を追加\n",
        "   - 時間情報を追加\n",
        "   - 表記ゆれを統一\n",
        "\"\"\"\n",
        "\n",
        "print(cleaning_log)"
      ],
      "metadata": {
        "colab": {
          "base_uri": "https://localhost:8080/"
        },
        "id": "Tv96GiYoabVC",
        "outputId": "e3320c4f-21d8-4933-e284-bb73a9128315"
      },
      "execution_count": 49,
      "outputs": [
        {
          "output_type": "stream",
          "name": "stdout",
          "text": [
            "\n",
            "データクリーニング作業記録\n",
            "\n",
            "1. 欠損値処理:\n",
            "   - 数値列: 平均値で補完\n",
            "   - 文字列: '不明'で補完\n",
            "\n",
            "2. 外れ値処理:\n",
            "   - 数量: 上下1%の範囲に収める\n",
            "   - 単価: 上下1%の範囲に収める\n",
            "\n",
            "3. 重複処理:\n",
            "   - 重複行を削除\n",
            "\n",
            "4. データ型整理:\n",
            "   - 数値列を適切な型に変換\n",
            "   - カテゴリ列を整理\n",
            "\n",
            "5. データ強化:\n",
            "   - 売上ランク列を追加\n",
            "   - 時間情報を追加\n",
            "   - 表記ゆれを統一\n",
            "\n"
          ]
        }
      ]
    },
    {
      "cell_type": "markdown",
      "source": [
        "よくある失敗と対策  \n",
        "・失敗例1: 元データを壊してしまう  \n",
        "・失敗例2: 全部削除してしまう  "
      ],
      "metadata": {
        "id": "Xu02GPcMahWv"
      }
    },
    {
      "cell_type": "code",
      "source": [
        "# ダメな例\n",
        "# df = df.dropna()  # 元データが壊れる！\n",
        "\n",
        "# 良い例\n",
        "# df_clean = df.copy()  # まずコピー\n",
        "# df_clean = df_clean.dropna()  # コピーを変更\n",
        "\n",
        "# ダメな例\n",
        "# df_clean = df.dropna()  # 空欄がある行を全部削除\n",
        "\n",
        "# 良い例\n",
        "# 重要な列だけチェックして、必要なら部分削除\n",
        "# important_cols = ['order_id', 'total_sales']\n",
        "# df_clean = df.dropna(subset=important_cols)"
      ],
      "metadata": {
        "id": "KzLtznehan75"
      },
      "execution_count": 51,
      "outputs": []
    },
    {
      "cell_type": "markdown",
      "source": [
        "守るべき3つのルール  \n",
        "・コピーしてから始める: df_clean = df.copy()\n",
        "\n",
        "・少しずつ直す: 一気にやらず、1つずつ確認\n",
        "\n",
        "・結果を確認する: 直したら必ずチェック\n",
        "\n",
        "段階的に進めよう"
      ],
      "metadata": {
        "id": "yl3a0B4pa8Fb"
      }
    },
    {
      "cell_type": "code",
      "source": [
        "# # ステップ1: 欠損値だけ処理\n",
        "# step1 = df.copy()\n",
        "# step1 = handle_missing_values(step1)\n",
        "\n",
        "# # ステップ2: 外れ値処理\n",
        "# step2 = step1.copy()\n",
        "# step2 = handle_outliers(step2)\n",
        "\n",
        "# # ステップ3: 重複処理\n",
        "# step3 = step2.copy()\n",
        "# step3 = remove_duplicates(step3)"
      ],
      "metadata": {
        "id": "Lq6eHVPWbMi_"
      },
      "execution_count": 53,
      "outputs": []
    },
    {
      "cell_type": "code",
      "source": [
        "# 自動化の第一歩\n",
        "def simple_cleaner(df):\n",
        "    \"\"\"初心者向け簡単クリーナー\"\"\"\n",
        "    df_clean = df.copy()\n",
        "\n",
        "    # 基本的な処理\n",
        "    df_clean = df_clean.dropna(subset=['total_sales', 'order_id'])  # 重要列の空欄行削除\n",
        "    df_clean = df_clean.drop_duplicates()  # 重複削除\n",
        "\n",
        "    # 数値の異常値を直す\n",
        "    for col in ['quantity', 'unit_price']:\n",
        "        if col in df_clean.columns:\n",
        "            low = df_clean[col].quantile(0.01)\n",
        "            high = df_clean[col].quantile(0.99)\n",
        "            df_clean[col] = np.clip(df_clean[col], low, high)\n",
        "\n",
        "    return df_clean\n",
        "\n",
        "# 使ってみよう\n",
        "df_clean = simple_cleaner(df)\n",
        "print(\"簡単前処理完了！\")"
      ],
      "metadata": {
        "colab": {
          "base_uri": "https://localhost:8080/"
        },
        "id": "gEgVXJ67bnyU",
        "outputId": "d49de05d-4fdf-4c39-d3bb-4d9c40898a87"
      },
      "execution_count": 55,
      "outputs": [
        {
          "output_type": "stream",
          "name": "stdout",
          "text": [
            " 簡単全処理完了！\n"
          ]
        }
      ]
    },
    {
      "cell_type": "markdown",
      "source": [
        "データフィルタリングと集計"
      ],
      "metadata": {
        "id": "96zlDADEEVvd"
      }
    },
    {
      "cell_type": "code",
      "source": [
        "# 条件によるフィルタリング\n",
        "filtered_df = df[df['sales'] > 1000]\n",
        "\n",
        "# グループ化集計（地域別平均売上）\n",
        "grouped_df = df.groupby('region')['sales'].mean().reset_index()"
      ],
      "metadata": {
        "id": "0IlpfOk-EYh8"
      },
      "execution_count": null,
      "outputs": []
    },
    {
      "cell_type": "markdown",
      "source": [
        "自動化とファイル操作 (OS, Shutil)"
      ],
      "metadata": {
        "id": "tau3NHgUEhnj"
      }
    },
    {
      "cell_type": "markdown",
      "source": [
        "1. ファイルの一括処理"
      ],
      "metadata": {
        "id": "mA0heHvBEkmF"
      }
    },
    {
      "cell_type": "code",
      "source": [
        "import os\n",
        "\n",
        "# ディレクトリ内の全ファイルを処理\n",
        "for file in os.listdir('path/to/directory'):\n",
        "    if file.endswith('.csv'):\n",
        "        file_path = os.path.join('path/to/directory', file)\n",
        "        # ファイル処理..."
      ],
      "metadata": {
        "id": "I8LXXc7VErd1"
      },
      "execution_count": null,
      "outputs": []
    },
    {
      "cell_type": "markdown",
      "source": [
        "API連携 (Requests)\n",
        "\n",
        "外部サービスからデータを取得する一般的な方法です。"
      ],
      "metadata": {
        "id": "WfQAOhaAExVd"
      }
    },
    {
      "cell_type": "code",
      "source": [
        "import requests\n",
        "\n",
        "# GETリクエストの送信（データ取得）\n",
        "url = 'https://api.example.com/data'\n",
        "response = requests.get(url, params={'key': 'your_api_key'})\n",
        "\n",
        "if response.status_code == 200:\n",
        "    data = response.json()\n",
        "    df = pd.DataFrame(data)"
      ],
      "metadata": {
        "id": "hxjGdf_9E7Et"
      },
      "execution_count": null,
      "outputs": []
    },
    {
      "cell_type": "markdown",
      "source": [
        "日付処理 (Datetime)"
      ],
      "metadata": {
        "id": "JjDQ3Cc8FGc4"
      }
    },
    {
      "cell_type": "code",
      "source": [
        "from datetime import datetime, timedelta\n",
        "\n",
        "# 現在日時の取得\n",
        "now = datetime.now()\n",
        "\n",
        "# 日付の計算（30日前）\n",
        "thirty_days_ago = now - timedelta(days=30)\n",
        "\n",
        "# 日付のフォーマット\n",
        "formatted_date = now.strftime('%Y-%m-%d')"
      ],
      "metadata": {
        "id": "XPkca9AeFJic"
      },
      "execution_count": 3,
      "outputs": []
    }
  ],
  "metadata": {
    "kernelspec": {
      "display_name": "Python 3",
      "language": "python",
      "name": "python3"
    },
    "language_info": {
      "codemirror_mode": {
        "name": "ipython",
        "version": 3
      },
      "file_extension": ".py",
      "mimetype": "text/x-python",
      "name": "python",
      "nbconvert_exporter": "python",
      "pygments_lexer": "ipython3",
      "version": "3.9.13"
    },
    "orig_nbformat": 4,
    "colab": {
      "provenance": [],
      "include_colab_link": true
    }
  },
  "nbformat": 4,
  "nbformat_minor": 0
}