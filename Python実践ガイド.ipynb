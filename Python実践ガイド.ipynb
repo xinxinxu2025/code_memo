{
  "cells": [
    {
      "cell_type": "markdown",
      "metadata": {
        "id": "view-in-github",
        "colab_type": "text"
      },
      "source": [
        "<a href=\"https://colab.research.google.com/github/xinxinxu2025/code_memo/blob/main/Python%E5%AE%9F%E8%B7%B5%E3%82%AC%E3%82%A4%E3%83%89.ipynb\" target=\"_parent\"><img src=\"https://colab.research.google.com/assets/colab-badge.svg\" alt=\"Open In Colab\"/></a>"
      ]
    },
    {
      "cell_type": "markdown",
      "source": [
        "### 小売店のデータを模擬した練習用DataFrameを作成します。\n"
      ],
      "metadata": {
        "id": "gMnwsxtvD80A"
      }
    },
    {
      "cell_type": "code",
      "source": [
        "# バージョン管理（最初に必ず確認）\n",
        "import pandas as pd\n",
        "print(f\"Pandas version: {pd.__version__}\")\n",
        "\n",
        "# 再現性の確保（乱数のシード設定）\n",
        "import numpy as np\n",
        "np.random.seed(42)  # 結果を再現可能にする"
      ],
      "metadata": {
        "colab": {
          "base_uri": "https://localhost:8080/"
        },
        "id": "RI6tanbcKmFs",
        "outputId": "be93808c-ea79-449d-f286-469b6c390d88"
      },
      "execution_count": 1,
      "outputs": [
        {
          "output_type": "stream",
          "name": "stdout",
          "text": [
            "Pandas version: 2.2.2\n"
          ]
        }
      ]
    },
    {
      "cell_type": "code",
      "source": [
        "import os\n",
        "\n",
        "# 現在の作業ディレクトリ\n",
        "print(\"Current working directory:\", os.getcwd())\n",
        "\n",
        "# ファイル一覧の表示\n",
        "print(\"Files in current directory:\", os.listdir('.'))"
      ],
      "metadata": {
        "colab": {
          "base_uri": "https://localhost:8080/"
        },
        "id": "zerCuu80QdhI",
        "outputId": "68c9e3c5-f986-4938-f55e-e8c49dbae39b"
      },
      "execution_count": 2,
      "outputs": [
        {
          "output_type": "stream",
          "name": "stdout",
          "text": [
            "Current working directory: /content\n",
            "Files in current directory: ['.config', 'sample_data']\n"
          ]
        }
      ]
    },
    {
      "cell_type": "code",
      "source": [
        "import pandas as pd\n",
        "import numpy as np\n",
        "from datetime import datetime, timedelta\n",
        "import random\n",
        "\n",
        "# 乱数のシードを設定（再現性のため）\n",
        "np.random.seed(42)\n",
        "random.seed(42)\n",
        "\n",
        "# データサイズの設定\n",
        "n_rows = 1000\n",
        "\n",
        "# 基本データの生成\n",
        "dates = [datetime(2023, 1, 1) + timedelta(days=i) for i in range(n_rows)]\n",
        "store_ids = [f'Store_{i:03d}' for i in range(1, 11)]\n",
        "product_categories = ['Electronics', 'Clothing', 'Food', 'Books', 'Home']\n",
        "regions = ['Tokyo', 'Osaka', 'Nagoya', 'Fukuoka', 'Sapporo']\n",
        "payment_methods = ['Credit Card', 'Cash', 'E-money', 'QR Code']\n",
        "\n",
        "# 売上データの生成\n",
        "data = {\n",
        "    'order_id': [f'ORD_{i:05d}' for i in range(1, n_rows + 1)],\n",
        "    'order_date': dates,\n",
        "    'store_id': np.random.choice(store_ids, n_rows),\n",
        "    'product_category': np.random.choice(product_categories, n_rows, p=[0.2, 0.3, 0.25, 0.1, 0.15]),\n",
        "    'product_name': [],\n",
        "    'quantity': np.random.randint(1, 11, n_rows),\n",
        "    'unit_price': [],\n",
        "    'total_sales': [],\n",
        "    'customer_id': [f'CUST_{np.random.randint(1000, 9999)}' for _ in range(n_rows)],\n",
        "    'customer_age': np.random.randint(18, 80, n_rows),\n",
        "    'customer_gender': np.random.choice(['Male', 'Female', 'Other'], n_rows, p=[0.45, 0.45, 0.1]),\n",
        "    'region': np.random.choice(regions, n_rows),\n",
        "    'payment_method': np.random.choice(payment_methods, n_rows, p=[0.4, 0.3, 0.2, 0.1]),\n",
        "    'discount_rate': np.random.choice([0, 0.1, 0.2, 0.3], n_rows, p=[0.6, 0.2, 0.15, 0.05]),\n",
        "    'return_flag': np.random.choice([0, 1], n_rows, p=[0.9, 0.1]),\n",
        "    'rating': np.random.choice([1, 2, 3, 4, 5, np.nan], n_rows, p=[0.05, 0.1, 0.15, 0.3, 0.3, 0.1])\n",
        "}\n",
        "\n",
        "# 商品名と単価の設定（カテゴリごとに異なる）\n",
        "category_prices = {\n",
        "    'Electronics': (5000, 200000),\n",
        "    'Clothing': (1000, 15000),\n",
        "    'Food': (100, 5000),\n",
        "    'Books': (500, 3000),\n",
        "    'Home': (2000, 10000)\n",
        "}\n",
        "\n",
        "category_products = {\n",
        "    'Electronics': ['Smartphone', 'Laptop', 'Headphones', 'Tablet', 'Camera'],\n",
        "    'Clothing': ['T-Shirt', 'Jeans', 'Jacket', 'Dress', 'Shoes'],\n",
        "    'Food': ['Lunch Box', 'Snacks', 'Drinks', 'Bread', 'Dessert'],\n",
        "    'Books': ['Novel', 'Textbook', 'Manga', 'Cookbook', 'Magazine'],\n",
        "    'Home': ['Table', 'Chair', 'Lamp', 'Cookware', 'Decor']\n",
        "}\n",
        "\n",
        "# 商品名と単価を生成\n",
        "for i in range(n_rows):\n",
        "    category = data['product_category'][i]\n",
        "    product_name = random.choice(category_products[category])\n",
        "    min_price, max_price = category_prices[category]\n",
        "    unit_price = random.randint(min_price, max_price)\n",
        "\n",
        "    data['product_name'].append(product_name)\n",
        "    data['unit_price'].append(unit_price)\n",
        "\n",
        "    # 総売上額を計算（数量×単価×（1-割引率））\n",
        "    quantity = data['quantity'][i]\n",
        "    discount = data['discount_rate'][i]\n",
        "    total_sales = quantity * unit_price * (1 - discount)\n",
        "    data['total_sales'].append(total_sales)\n",
        "\n",
        "# DataFrameの作成\n",
        "df = pd.DataFrame(data)\n",
        "\n",
        "# 意図的に欠損値を作成（実務を想定）\n",
        "missing_indices = random.sample(range(n_rows), 50)\n",
        "for idx in missing_indices:\n",
        "    col = random.choice(['customer_age', 'rating', 'discount_rate'])\n",
        "    df.at[idx, col] = np.nan\n",
        "\n",
        "# 外れ値の追加（実務を想定）\n",
        "outlier_indices = random.sample(range(n_rows), 10)\n",
        "for idx in outlier_indices:\n",
        "    df.at[idx, 'quantity'] = random.randint(50, 100)  # 異常な数量\n",
        "    df.at[idx, 'unit_price'] = random.randint(500000, 1000000)  # 異常な単価\n",
        "\n",
        "# データ型の設定（CSV保存前の最適化）\n",
        "df['order_date'] = pd.to_datetime(df['order_date'])\n",
        "\n",
        "# CSVファイルとして保存\n",
        "csv_file_path = 'sales_data.csv'\n",
        "\n",
        "# 日本語環境でも読みやすい形式で保存\n",
        "df.to_csv(\n",
        "    csv_file_path,\n",
        "    index=False,               # インデックスは保存しない\n",
        "    encoding='utf-8-sig',      # Excelで開く場合の文字化け防止\n",
        "    date_format='%Y-%m-%d'     # 日付のフォーマット指定\n",
        ")\n",
        "\n",
        "print(\"✅ sales_data.csv の保存が完了しました！\")\n",
        "print(f\"保存先: {csv_file_path}\")\n",
        "print(f\"ファイルサイズ: {len(df)}\")\n",
        "print(f\"列数: {len(df.columns)}\")\n",
        "\n",
        "# 保存したファイルの情報を表示\n",
        "print(\"\\n📋 保存されたデータの情報:\")\n",
        "print(f\"行数: {len(df)}\")\n",
        "print(f\"列数: {len(df.columns)}\")\n",
        "print(\"\\n列一覧:\")\n",
        "for i, col in enumerate(df.columns, 1):\n",
        "    print(f\"{i:2d}. {col}\")\n",
        "\n",
        "print(\"\\nデータ型の内訳:\")\n",
        "print(df.dtypes.value_counts())"
      ],
      "metadata": {
        "colab": {
          "base_uri": "https://localhost:8080/"
        },
        "id": "ZRsvkH9KHuAr",
        "outputId": "d2f6e56f-cf4e-4b13-c655-2509b71385b4"
      },
      "execution_count": 3,
      "outputs": [
        {
          "output_type": "stream",
          "name": "stdout",
          "text": [
            "✅ sales_data.csv の保存が完了しました！\n",
            "保存先: sales_data.csv\n",
            "ファイルサイズ: 1000\n",
            "列数: 16\n",
            "\n",
            "📋 保存されたデータの情報:\n",
            "行数: 1000\n",
            "列数: 16\n",
            "\n",
            "列一覧:\n",
            " 1. order_id\n",
            " 2. order_date\n",
            " 3. store_id\n",
            " 4. product_category\n",
            " 5. product_name\n",
            " 6. quantity\n",
            " 7. unit_price\n",
            " 8. total_sales\n",
            " 9. customer_id\n",
            "10. customer_age\n",
            "11. customer_gender\n",
            "12. region\n",
            "13. payment_method\n",
            "14. discount_rate\n",
            "15. return_flag\n",
            "16. rating\n",
            "\n",
            "データ型の内訳:\n",
            "object            8\n",
            "float64           4\n",
            "int64             3\n",
            "datetime64[ns]    1\n",
            "Name: count, dtype: int64\n"
          ]
        }
      ]
    },
    {
      "cell_type": "markdown",
      "source": [
        "## 1. データ読み込みと確認  \n",
        "\n",
        "\n"
      ],
      "metadata": {
        "id": "Q6gm6LLtEFt1"
      }
    },
    {
      "cell_type": "code",
      "source": [
        "import pandas as pd\n",
        "import numpy as np\n",
        "\n",
        "try:\n",
        "    df = pd.read_csv(\n",
        "        'sales_data.csv',\n",
        "        encoding='utf-8-sig',  # BOM付きUTF-8に対応\n",
        "        low_memory=False,      # メモリ効率より正確性を優先\n",
        "        na_values=['', 'NULL', 'NA', 'N/A', 'null', 'nan', 'NaN', '#N/A'],\n",
        "        keep_default_na=True\n",
        "    )\n",
        "    print(\"データ読み込み成功\")\n",
        "except FileNotFoundError:\n",
        "    print(\"ファイルが見つかりません\")\n",
        "except UnicodeDecodeError:\n",
        "    # 文字化けした場合のフォールバック\n",
        "    df = pd.read_csv('sales_data.csv', encoding='shift_jis')\n",
        "except Exception as e:\n",
        "    print(f\"予期せぬエラー: {e}\")"
      ],
      "metadata": {
        "colab": {
          "base_uri": "https://localhost:8080/"
        },
        "id": "J3WefFhbD678",
        "outputId": "62a3afde-1d40-4a9c-c9d4-b2cc2395ebb6"
      },
      "execution_count": 4,
      "outputs": [
        {
          "output_type": "stream",
          "name": "stdout",
          "text": [
            "データ読み込み成功\n"
          ]
        }
      ]
    },
    {
      "cell_type": "code",
      "source": [
        "# よく使うオプション集\n",
        "# df = pd.read_csv(\n",
        "#     'data.csv',\n",
        "#     encoding='utf-8',\n",
        "#     sep=',',                  # 区切り文字明示指定\n",
        "#     header=0,                 # ヘッダー行指定\n",
        "#     skiprows=3,               # 不要なヘッダー行をスキップ\n",
        "#     skipfooter=2,             # フッターの不要行をスキップ\n",
        "#     thousands=',',            # カンマ区切り数値対応\n",
        "#     decimal='.',              # 小数点の形式指定\n",
        "#     parse_dates=['order_date'], # 日付列の自動変換\n",
        "#     dayfirst=False,           # 日付形式の指定\n",
        "#     dtype={                   # データ型の明示的指定\n",
        "#         'store_id': 'category',\n",
        "#         'product_id': 'string'\n",
        "#     },\n",
        "#     usecols=lambda x: x not in ['temp_column', 'unused_col'],  # 不要列の除外\n",
        "#     nrows=1000 if DEBUG else None  # デバッグ時はデータ制限\n",
        "# )"
      ],
      "metadata": {
        "id": "sfB-7kqxGEq1"
      },
      "execution_count": 5,
      "outputs": []
    },
    {
      "cell_type": "markdown",
      "source": [
        "データ確認の必須チェック項目\n",
        "データを読み込んだら、必ず以下の確認を行いましょう。"
      ],
      "metadata": {
        "id": "k0iUlhw8GVS3"
      }
    },
    {
      "cell_type": "code",
      "source": [
        "# ① 最初のデータを確認\n",
        "\n",
        "# 最初の5行を表示（データの雰囲気をつかむ）\n",
        "print(\"データの先頭5行:\")\n",
        "print(df.head())\n",
        "\n",
        "# 最後の3行を確認\n",
        "print(\"\\nデータの最後の3行:\")\n",
        "print(df.tail(3))\n",
        "\n",
        "\n",
        "\n",
        "# ② データの基本情報を確認\n",
        "\n",
        "# データの形状（行数と列数）を確認\n",
        "print(f\"データの形状: {df.shape}\")\n",
        "print(f\"行数: {df.shape[0]}, 列数: {df.shape[1]}\")\n",
        "\n",
        "# 各列のデータ型と非NULL値の数を確認\n",
        "print(\"\\nデータの基本情報:\")\n",
        "df.info()\n",
        "\n",
        "\n",
        "\n",
        "# ③ 数値データの統計量を確認\n",
        "\n",
        "# 数値列の基本統計量（平均、標準偏差、最小値、最大値など）\n",
        "print(\"数値データの統計量:\")\n",
        "print(df.describe())\n",
        "\n",
        "# オブジェクト型（文字列）の要約統計量\n",
        "print(\"\\n文字列データの要約:\")\n",
        "print(df.describe(include='object'))\n",
        "\n",
        "\n",
        "\n",
        "# ④ 列名とデータ型の確認\n",
        "\n",
        "# 列名の一覧を確認\n",
        "print(\"列名一覧:\")\n",
        "print(df.columns.tolist())\n",
        "\n",
        "# 各列のデータ型を確認\n",
        "print(\"\\nデータ型一覧:\")\n",
        "print(df.dtypes)\n",
        "\n",
        "\n",
        "\n",
        "# ⑤ 欠損値の確認\n",
        "\n",
        "# 各列の欠損値の数を確認\n",
        "print(\"各列の欠損値数:\")\n",
        "print(df.isnull().sum())\n",
        "\n",
        "# 欠損値の割合を確認（％表示）\n",
        "print(\"\\n欠損値の割合:\")\n",
        "print((df.isnull().sum() / len(df) * 100).round(2))"
      ],
      "metadata": {
        "colab": {
          "base_uri": "https://localhost:8080/"
        },
        "id": "BMTIeS_iGUZk",
        "outputId": "5b4e9427-1432-4ca9-ed21-b5c7ce4b1981"
      },
      "execution_count": 6,
      "outputs": [
        {
          "output_type": "stream",
          "name": "stdout",
          "text": [
            "データの先頭5行:\n",
            "    order_id  order_date   store_id product_category product_name  quantity  \\\n",
            "0  ORD_00001  2023-01-01  Store_007         Clothing      T-Shirt         8   \n",
            "1  ORD_00002  2023-01-02  Store_004             Food       Drinks         8   \n",
            "2  ORD_00003  2023-01-03  Store_008             Food       Snacks         9   \n",
            "3  ORD_00004  2023-01-04  Store_005      Electronics   Smartphone         7   \n",
            "4  ORD_00005  2023-01-05  Store_007             Home        Decor         1   \n",
            "\n",
            "   unit_price  total_sales customer_id  customer_age customer_gender   region  \\\n",
            "0        1409      11272.0   CUST_9851          29.0            Male  Sapporo   \n",
            "1        2106      16848.0   CUST_1159          66.0           Other    Osaka   \n",
            "2        1243      11187.0   CUST_7555          34.0           Other    Osaka   \n",
            "3      182392    1149069.6   CUST_9244          59.0          Female  Sapporo   \n",
            "4        2712       2169.6   CUST_7846          47.0          Female    Tokyo   \n",
            "\n",
            "  payment_method  discount_rate  return_flag  rating  \n",
            "0        E-money            0.0            0     5.0  \n",
            "1        QR Code            0.0            0     5.0  \n",
            "2    Credit Card            0.0            0     2.0  \n",
            "3    Credit Card            0.1            0     1.0  \n",
            "4    Credit Card            0.2            0     5.0  \n",
            "\n",
            "データの最後の3行:\n",
            "      order_id  order_date   store_id product_category product_name  quantity  \\\n",
            "997  ORD_00998  2025-09-24  Store_008      Electronics       Tablet         4   \n",
            "998  ORD_00999  2025-09-25  Store_002             Home     Cookware         8   \n",
            "999  ORD_01000  2025-09-26  Store_009         Clothing        Dress         6   \n",
            "\n",
            "     unit_price  total_sales customer_id  customer_age customer_gender  \\\n",
            "997       48684     194736.0   CUST_4805          30.0          Female   \n",
            "998        4879      39032.0   CUST_7419          59.0          Female   \n",
            "999        1693       8126.4   CUST_6750          26.0          Female   \n",
            "\n",
            "      region payment_method  discount_rate  return_flag  rating  \n",
            "997   Nagoya        QR Code            0.0            0     3.0  \n",
            "998  Fukuoka        E-money            0.0            0     4.0  \n",
            "999    Tokyo           Cash            0.2            0     1.0  \n",
            "データの形状: (1000, 16)\n",
            "行数: 1000, 列数: 16\n",
            "\n",
            "データの基本情報:\n",
            "<class 'pandas.core.frame.DataFrame'>\n",
            "RangeIndex: 1000 entries, 0 to 999\n",
            "Data columns (total 16 columns):\n",
            " #   Column            Non-Null Count  Dtype  \n",
            "---  ------            --------------  -----  \n",
            " 0   order_id          1000 non-null   object \n",
            " 1   order_date        1000 non-null   object \n",
            " 2   store_id          1000 non-null   object \n",
            " 3   product_category  1000 non-null   object \n",
            " 4   product_name      1000 non-null   object \n",
            " 5   quantity          1000 non-null   int64  \n",
            " 6   unit_price        1000 non-null   int64  \n",
            " 7   total_sales       1000 non-null   float64\n",
            " 8   customer_id       1000 non-null   object \n",
            " 9   customer_age      985 non-null    float64\n",
            " 10  customer_gender   1000 non-null   object \n",
            " 11  region            1000 non-null   object \n",
            " 12  payment_method    1000 non-null   object \n",
            " 13  discount_rate     982 non-null    float64\n",
            " 14  return_flag       1000 non-null   int64  \n",
            " 15  rating            896 non-null    float64\n",
            "dtypes: float64(4), int64(3), object(9)\n",
            "memory usage: 125.1+ KB\n",
            "数値データの統計量:\n",
            "          quantity     unit_price   total_sales  customer_age  discount_rate  \\\n",
            "count  1000.000000    1000.000000  1.000000e+03    985.000000     982.000000   \n",
            "mean      6.179000   30968.470000  1.238404e+05     49.100508       0.068941   \n",
            "std       7.808709   86334.944223  2.647734e+05     17.962728       0.091997   \n",
            "min       1.000000     113.000000  1.130000e+02     18.000000       0.000000   \n",
            "25%       3.000000    2436.500000  8.821575e+03     34.000000       0.000000   \n",
            "50%       5.000000    4918.000000  2.296945e+04     49.000000       0.000000   \n",
            "75%       8.000000   12837.500000  7.198875e+04     65.000000       0.100000   \n",
            "max      95.000000  963599.000000  1.705167e+06     79.000000       0.300000   \n",
            "\n",
            "       return_flag      rating  \n",
            "count  1000.000000  896.000000  \n",
            "mean      0.104000    3.775670  \n",
            "std       0.305413    1.187415  \n",
            "min       0.000000    1.000000  \n",
            "25%       0.000000    3.000000  \n",
            "50%       0.000000    4.000000  \n",
            "75%       0.000000    5.000000  \n",
            "max       1.000000    5.000000  \n",
            "\n",
            "文字列データの要約:\n",
            "         order_id  order_date   store_id product_category product_name  \\\n",
            "count        1000        1000       1000             1000         1000   \n",
            "unique       1000        1000         10                5           25   \n",
            "top     ORD_01000  2025-09-26  Store_001         Clothing        Shoes   \n",
            "freq            1           1        118              292           69   \n",
            "\n",
            "       customer_id customer_gender region payment_method  \n",
            "count         1000            1000   1000           1000  \n",
            "unique         944               3      5              4  \n",
            "top      CUST_6520            Male  Osaka    Credit Card  \n",
            "freq             2             464    231            391  \n",
            "列名一覧:\n",
            "['order_id', 'order_date', 'store_id', 'product_category', 'product_name', 'quantity', 'unit_price', 'total_sales', 'customer_id', 'customer_age', 'customer_gender', 'region', 'payment_method', 'discount_rate', 'return_flag', 'rating']\n",
            "\n",
            "データ型一覧:\n",
            "order_id             object\n",
            "order_date           object\n",
            "store_id             object\n",
            "product_category     object\n",
            "product_name         object\n",
            "quantity              int64\n",
            "unit_price            int64\n",
            "total_sales         float64\n",
            "customer_id          object\n",
            "customer_age        float64\n",
            "customer_gender      object\n",
            "region               object\n",
            "payment_method       object\n",
            "discount_rate       float64\n",
            "return_flag           int64\n",
            "rating              float64\n",
            "dtype: object\n",
            "各列の欠損値数:\n",
            "order_id              0\n",
            "order_date            0\n",
            "store_id              0\n",
            "product_category      0\n",
            "product_name          0\n",
            "quantity              0\n",
            "unit_price            0\n",
            "total_sales           0\n",
            "customer_id           0\n",
            "customer_age         15\n",
            "customer_gender       0\n",
            "region                0\n",
            "payment_method        0\n",
            "discount_rate        18\n",
            "return_flag           0\n",
            "rating              104\n",
            "dtype: int64\n",
            "\n",
            "欠損値の割合:\n",
            "order_id             0.0\n",
            "order_date           0.0\n",
            "store_id             0.0\n",
            "product_category     0.0\n",
            "product_name         0.0\n",
            "quantity             0.0\n",
            "unit_price           0.0\n",
            "total_sales          0.0\n",
            "customer_id          0.0\n",
            "customer_age         1.5\n",
            "customer_gender      0.0\n",
            "region               0.0\n",
            "payment_method       0.0\n",
            "discount_rate        1.8\n",
            "return_flag          0.0\n",
            "rating              10.4\n",
            "dtype: float64\n"
          ]
        }
      ]
    },
    {
      "cell_type": "code",
      "source": [
        "# 最初の5ステップ確認法\n",
        "\n",
        "def initial_data_assessment(df, name=\"データ\"):\n",
        "    \"\"\"プロが最初に行う5ステップ確認\"\"\"\n",
        "\n",
        "    print(f\"🔍 {name} 初期評価\")\n",
        "    print(\"=\" * 50)\n",
        "\n",
        "    # ステップ1: 基本形状\n",
        "    print(f\"1. データ形状: {df.shape} (行×列)\")\n",
        "    print(f\"   メモリ使用量: {df.memory_usage(deep=True).sum() / 1024**2:.1f} MB\")\n",
        "\n",
        "    # ステップ2: データ型確認\n",
        "    print(f\"2. データ型分布:\")\n",
        "    dtype_counts = df.dtypes.value_counts()\n",
        "    for dtype, count in dtype_counts.items():\n",
        "        print(f\"   {dtype}: {count}列\")\n",
        "\n",
        "    # ステップ3: 欠損値状況\n",
        "    missing_total = df.isnull().sum().sum()\n",
        "    missing_percent = (missing_total / (df.shape[0] * df.shape[1])) * 100\n",
        "    print(f\"3. 欠損値: {missing_total}箇所 ({missing_percent:.2f}%)\")\n",
        "\n",
        "    # ステップ4: 重複チェック\n",
        "    duplicates = df.duplicated().sum()\n",
        "    print(f\"4. 完全重複行: {duplicates}行\")\n",
        "\n",
        "    # ステップ5: 基本統計量\n",
        "    print(\"5. 数値列の基本統計:\")\n",
        "    print(df.describe().round(2))\n",
        "\n",
        "# 実行例\n",
        "initial_data_assessment(df, \"売上データ\")"
      ],
      "metadata": {
        "colab": {
          "base_uri": "https://localhost:8080/"
        },
        "id": "vh_Cb0zoTNqX",
        "outputId": "f28fe377-9883-4e08-882d-ad8a933c1f93"
      },
      "execution_count": 7,
      "outputs": [
        {
          "output_type": "stream",
          "name": "stdout",
          "text": [
            "🔍 売上データ 初期評価\n",
            "==================================================\n",
            "1. データ形状: (1000, 16) (行×列)\n",
            "   メモリ使用量: 0.5 MB\n",
            "2. データ型分布:\n",
            "   object: 9列\n",
            "   float64: 4列\n",
            "   int64: 3列\n",
            "3. 欠損値: 137箇所 (0.86%)\n",
            "4. 完全重複行: 0行\n",
            "5. 数値列の基本統計:\n",
            "       quantity  unit_price  total_sales  customer_age  discount_rate  \\\n",
            "count   1000.00     1000.00      1000.00        985.00         982.00   \n",
            "mean       6.18    30968.47    123840.35         49.10           0.07   \n",
            "std        7.81    86334.94    264773.43         17.96           0.09   \n",
            "min        1.00      113.00       113.00         18.00           0.00   \n",
            "25%        3.00     2436.50      8821.58         34.00           0.00   \n",
            "50%        5.00     4918.00     22969.45         49.00           0.00   \n",
            "75%        8.00    12837.50     71988.75         65.00           0.10   \n",
            "max       95.00   963599.00   1705167.00         79.00           0.30   \n",
            "\n",
            "       return_flag  rating  \n",
            "count      1000.00  896.00  \n",
            "mean          0.10    3.78  \n",
            "std           0.31    1.19  \n",
            "min           0.00    1.00  \n",
            "25%           0.00    3.00  \n",
            "50%           0.00    4.00  \n",
            "75%           0.00    5.00  \n",
            "max           1.00    5.00  \n"
          ]
        }
      ]
    },
    {
      "cell_type": "code",
      "source": [
        "# 詳細なデータ品質チェック\n",
        "\n",
        "def detailed_quality_check(df):\n",
        "    \"\"\"データ品質の詳細チェック\"\"\"\n",
        "\n",
        "    results = {}\n",
        "\n",
        "    # 各列の詳細分析\n",
        "    for column in df.columns:\n",
        "        col_info = {\n",
        "            'データ型': str(df[column].dtype),\n",
        "            'ユニーク値数': df[column].nunique(),\n",
        "            '欠損値数': df[column].isnull().sum(),\n",
        "            '欠損率(%)': (df[column].isnull().sum() / len(df) * 100).round(2),\n",
        "            'サンプル値': df[column].iloc[0] if not df[column].empty else None\n",
        "        }\n",
        "\n",
        "        # 数値列の追加チェック\n",
        "        if pd.api.types.is_numeric_dtype(df[column]):\n",
        "            col_info.update({\n",
        "                '最小値': df[column].min(),\n",
        "                '最大値': df[column].max(),\n",
        "                '平均値': df[column].mean(),\n",
        "                'ゼロ値数': (df[column] == 0).sum()\n",
        "            })\n",
        "\n",
        "        results[column] = col_info\n",
        "\n",
        "    return pd.DataFrame(results).T\n",
        "\n",
        "# 品質チェックの実行\n",
        "quality_report = detailed_quality_check(df)\n",
        "print(quality_report)"
      ],
      "metadata": {
        "colab": {
          "base_uri": "https://localhost:8080/"
        },
        "id": "q3xNMho4TfnQ",
        "outputId": "cd465d4f-0596-4f24-fc56-a85b9f63e482"
      },
      "execution_count": 8,
      "outputs": [
        {
          "output_type": "stream",
          "name": "stdout",
          "text": [
            "                     データ型 ユニーク値数 欠損値数 欠損率(%)       サンプル値    最小値        最大値  \\\n",
            "order_id           object   1000    0    0.0   ORD_00001    NaN        NaN   \n",
            "order_date         object   1000    0    0.0  2023-01-01    NaN        NaN   \n",
            "store_id           object     10    0    0.0   Store_007    NaN        NaN   \n",
            "product_category   object      5    0    0.0    Clothing    NaN        NaN   \n",
            "product_name       object     25    0    0.0     T-Shirt    NaN        NaN   \n",
            "quantity            int64     20    0    0.0           8      1         95   \n",
            "unit_price          int64    984    0    0.0        1409    113     963599   \n",
            "total_sales       float64    996    0    0.0     11272.0  113.0  1705167.0   \n",
            "customer_id        object    944    0    0.0   CUST_9851    NaN        NaN   \n",
            "customer_age      float64     62   15    1.5        29.0   18.0       79.0   \n",
            "customer_gender    object      3    0    0.0        Male    NaN        NaN   \n",
            "region             object      5    0    0.0     Sapporo    NaN        NaN   \n",
            "payment_method     object      4    0    0.0     E-money    NaN        NaN   \n",
            "discount_rate     float64      4   18    1.8         0.0    0.0        0.3   \n",
            "return_flag         int64      2    0    0.0           0      0          1   \n",
            "rating            float64      5  104   10.4         5.0    1.0        5.0   \n",
            "\n",
            "                          平均値 ゼロ値数  \n",
            "order_id                  NaN  NaN  \n",
            "order_date                NaN  NaN  \n",
            "store_id                  NaN  NaN  \n",
            "product_category          NaN  NaN  \n",
            "product_name              NaN  NaN  \n",
            "quantity                6.179    0  \n",
            "unit_price           30968.47    0  \n",
            "total_sales       123840.3549    0  \n",
            "customer_id               NaN  NaN  \n",
            "customer_age        49.100508    0  \n",
            "customer_gender           NaN  NaN  \n",
            "region                    NaN  NaN  \n",
            "payment_method            NaN  NaN  \n",
            "discount_rate        0.068941  568  \n",
            "return_flag             0.104  896  \n",
            "rating                3.77567    0  \n"
          ]
        }
      ]
    },
    {
      "cell_type": "markdown",
      "source": [
        "よくあるデータ問題と対処法  \n",
        "・文字化け問題  \n",
        "・メモリ問題  "
      ],
      "metadata": {
        "id": "xxlNnMdRTsp2"
      }
    },
    {
      "cell_type": "code",
      "source": [
        "# 文字化け対策の関数\n",
        "def safe_read_csv(file_path):\n",
        "    encodings = ['utf-8', 'utf-8-sig', 'shift_jis', 'cp932', 'euc-jp']\n",
        "\n",
        "    for encoding in encodings:\n",
        "        try:\n",
        "            df = pd.read_csv(file_path, encoding=encoding, nrows=5)\n",
        "            print(f\"✅ 成功: {encoding}\")\n",
        "            return pd.read_csv(file_path, encoding=encoding)\n",
        "        except UnicodeDecodeError:\n",
        "            continue\n",
        "\n",
        "    print(\"❌ 適切なエンコーディングが見つかりませんでした\")\n",
        "    return None\n",
        "\n",
        "# 使用例\n",
        "df = safe_read_csv('sales_data.csv')"
      ],
      "metadata": {
        "id": "C1zFCpc9Tt-V",
        "colab": {
          "base_uri": "https://localhost:8080/"
        },
        "outputId": "e1b0faa8-6735-4bc6-c047-1201aec5c39e"
      },
      "execution_count": 9,
      "outputs": [
        {
          "output_type": "stream",
          "name": "stdout",
          "text": [
            "✅ 成功: utf-8\n"
          ]
        }
      ]
    },
    {
      "cell_type": "code",
      "source": [
        "# 大規模データ用の読み込み\n",
        "def memory_efficient_read(file_path):\n",
        "    # まずは軽く読み込んでデータ型を確認\n",
        "    sample_df = pd.read_csv(file_path, nrows=1000)\n",
        "\n",
        "    # 最適なデータ型を決定\n",
        "    dtype_dict = {}\n",
        "    for col in sample_df.columns:\n",
        "        if sample_df[col].dtype == 'object':\n",
        "            # カテゴリ型に変換可能かチェック\n",
        "            unique_ratio = sample_df[col].nunique() / len(sample_df)\n",
        "            dtype_dict[col] = 'category' if unique_ratio < 0.5 else 'string'\n",
        "        else:\n",
        "            dtype_dict[col] = sample_df[col].dtype\n",
        "\n",
        "    # 最適なデータ型で読み込み\n",
        "    return pd.read_csv(file_path, dtype=dtype_dict, low_memory=False)"
      ],
      "metadata": {
        "id": "aiE6KHnqTuCI"
      },
      "execution_count": 10,
      "outputs": []
    },
    {
      "cell_type": "markdown",
      "source": [
        "チェックリスト\n",
        "\n",
        "読み込み前の確認事項\n",
        "- [ ] ファイルサイズの確認\n",
        "- [ ] エンコーディングの予想\n",
        "- [ ] 必要な列の特定\n",
        "- [ ] データ型の計画\n",
        "\n",
        "読み込み時の確認事項\n",
        "- [ ] エラーハンドリングの実装\n",
        "- [ ] 適切なデータ型の指定\n",
        "- [ ] 不要な列の除外\n",
        "- [ ] 日付列の適切な処理\n",
        "\n",
        "読み込み後の確認事項\n",
        "- [ ] データ形状の確認\n",
        "- [ ] 欠損値の状況把握\n",
        "- [ ] データ型の再確認\n",
        "- [ ] 基本統計量の確認\n",
        "- [ ] サンプルデータの目視確認\n"
      ],
      "metadata": {
        "id": "gLEDFwq3UUxh"
      }
    },
    {
      "cell_type": "code",
      "source": [
        "# データの軽量化\n",
        "def reduce_memory_usage(df):\n",
        "    for col in df.columns:\n",
        "        if df[col].dtype == 'float64':\n",
        "            df[col] = df[col].astype('float32')\n",
        "        elif df[col].dtype == 'int64':\n",
        "            df[col] = df[col].astype('int32')\n",
        "    return df\n",
        "\n",
        "# 進行状況の表示\n",
        "from tqdm import tqdm\n",
        "tqdm.pandas()  # apply処理の進捗表示用"
      ],
      "metadata": {
        "id": "IyyF9ZwrTuE_"
      },
      "execution_count": 11,
      "outputs": []
    },
    {
      "cell_type": "markdown",
      "source": [
        "## 2. データクリーニング"
      ],
      "metadata": {
        "id": "SUhRDAAbcQsm"
      }
    },
    {
      "cell_type": "markdown",
      "source": [
        "データクリーニングは難しく考えず、**基本的なことから始めよう**：\n",
        "\n",
        "1. **コピーを作る** - 元データを守る\n",
        "2. **空欄を埋める** - 欠損値処理\n",
        "3. **変な数字を直す** - 外れ値処理\n",
        "4. **重複を消す** - 重複削除\n",
        "5. **型を整える** - データ型整理"
      ],
      "metadata": {
        "id": "rApZ8v7_D7bn"
      }
    },
    {
      "cell_type": "code",
      "source": [
        "# 欠損値の確認\n",
        "# df.isnull().sum()\n",
        "\n",
        "# 欠損値を平均値で埋める\n",
        "# df['column_name'].fillna(df['column_name'].mean(), inplace=True)\n",
        "\n",
        "# 重複行の削除\n",
        "# df.drop_duplicates(inplace=True)\n",
        "\n",
        "# 列名の変更\n",
        "# df.rename(columns={'old_name': 'new_name'}, inplace=True)"
      ],
      "metadata": {
        "id": "Jdy6VvoGEPbi"
      },
      "execution_count": 12,
      "outputs": []
    },
    {
      "cell_type": "markdown",
      "source": [
        "欠損値の処理 - 空欄を埋めよう"
      ],
      "metadata": {
        "id": "Hh6J2CfRYysC"
      }
    },
    {
      "cell_type": "code",
      "source": [
        "# データをコピー（元データを残す）\n",
        "df_clean = df.copy()\n",
        "\n",
        "print(\"欠損値の数を確認:\")\n",
        "print(df_clean.isnull().sum())\n",
        "\n",
        "# 数値の列の空欄を平均値で埋める\n",
        "numeric_cols = ['customer_age', 'rating', 'discount_rate']\n",
        "for col in numeric_cols:\n",
        "    if col in df_clean.columns:\n",
        "        avg_value = df_clean[col].mean()\n",
        "        df_clean[col] = df_clean[col].fillna(avg_value)\n",
        "        print(f\"{col}の空欄を平均値({avg_value:.1f})で埋めました\")\n",
        "\n",
        "# 文字の列の空欄を'不明'で埋める\n",
        "text_cols = ['customer_gender', 'payment_method']\n",
        "for col in text_cols:\n",
        "    if col in df_clean.columns:\n",
        "        df_clean[col] = df_clean[col].fillna('不明')\n",
        "        print(f\"{col}の空欄を'不明'で埋めました\")"
      ],
      "metadata": {
        "colab": {
          "base_uri": "https://localhost:8080/"
        },
        "id": "dHrkMTtzY4DF",
        "outputId": "6d42e041-8ca1-46c7-dc7f-e0309287a423"
      },
      "execution_count": 13,
      "outputs": [
        {
          "output_type": "stream",
          "name": "stdout",
          "text": [
            "欠損値の数を確認:\n",
            "order_id              0\n",
            "order_date            0\n",
            "store_id              0\n",
            "product_category      0\n",
            "product_name          0\n",
            "quantity              0\n",
            "unit_price            0\n",
            "total_sales           0\n",
            "customer_id           0\n",
            "customer_age         15\n",
            "customer_gender       0\n",
            "region                0\n",
            "payment_method        0\n",
            "discount_rate        18\n",
            "return_flag           0\n",
            "rating              104\n",
            "dtype: int64\n",
            "customer_ageの空欄を平均値(49.1)で埋めました\n",
            "ratingの空欄を平均値(3.8)で埋めました\n",
            "discount_rateの空欄を平均値(0.1)で埋めました\n",
            "customer_genderの空欄を'不明'で埋めました\n",
            "payment_methodの空欄を'不明'で埋めました\n"
          ]
        }
      ]
    },
    {
      "cell_type": "markdown",
      "source": [
        "外れ値の処理 - 変な数字を直そう"
      ],
      "metadata": {
        "id": "ZjHs6MhuZFqz"
      }
    },
    {
      "cell_type": "code",
      "source": [
        "print(\"\\n 外れ値チェック:\")\n",
        "\n",
        "# 数量の異常値を見つける\n",
        "q_low = df_clean['quantity'].quantile(0.01)  # 下1%\n",
        "q_high = df_clean['quantity'].quantile(0.99) # 上1%\n",
        "\n",
        "print(f\"数量の正常範囲: {q_low} ～ {q_high}\")\n",
        "\n",
        "# 異常値を範囲内に収める\n",
        "df_clean['quantity'] = np.clip(df_clean['quantity'], q_low, q_high)\n",
        "print(\"数量の異常値を修正しました\")\n",
        "\n",
        "# 単価も同様に\n",
        "price_low = df_clean['unit_price'].quantile(0.01)\n",
        "price_high = df_clean['unit_price'].quantile(0.99)\n",
        "df_clean['unit_price'] = np.clip(df_clean['unit_price'], price_low, price_high)\n",
        "print(\"単価の異常値を修正しました\")"
      ],
      "metadata": {
        "colab": {
          "base_uri": "https://localhost:8080/"
        },
        "id": "exAEo3KNZIcu",
        "outputId": "d42c2934-dfcf-4945-a902-e45a8184e153"
      },
      "execution_count": 14,
      "outputs": [
        {
          "output_type": "stream",
          "name": "stdout",
          "text": [
            "\n",
            " 外れ値チェック:\n",
            "数量の正常範囲: 1.0 ～ 10.44999999999959\n",
            "数量の異常値を修正しました\n",
            "単価の異常値を修正しました\n"
          ]
        }
      ]
    },
    {
      "cell_type": "markdown",
      "source": [
        "重複データの削除 - 同じデータを消そう"
      ],
      "metadata": {
        "id": "NvRjvx9lZWtN"
      }
    },
    {
      "cell_type": "code",
      "source": [
        "print(f\"\\n重複データ: {df_clean.duplicated().sum()}件見つかりました\")\n",
        "\n",
        "# 重複データを削除\n",
        "before_rows = len(df_clean)\n",
        "df_clean = df_clean.drop_duplicates()\n",
        "after_rows = len(df_clean)\n",
        "\n",
        "print(f\"重複データを{before_rows - after_rows}件削除しました\")"
      ],
      "metadata": {
        "colab": {
          "base_uri": "https://localhost:8080/"
        },
        "id": "hma9erCZZZX3",
        "outputId": "c566df2c-6d7c-411c-df2b-78b5c313381e"
      },
      "execution_count": 15,
      "outputs": [
        {
          "output_type": "stream",
          "name": "stdout",
          "text": [
            "\n",
            "重複データ: 0件見つかりました\n",
            "重複データを0件削除しました\n"
          ]
        }
      ]
    },
    {
      "cell_type": "markdown",
      "source": [
        "データ型の整理 - 数字は数字、文字は文字に"
      ],
      "metadata": {
        "id": "55Ddic4iZfCA"
      }
    },
    {
      "cell_type": "code",
      "source": [
        "# 数字の列を適切な型に\n",
        "df_clean['quantity'] = df_clean['quantity'].astype(int)\n",
        "df_clean['unit_price'] = df_clean['unit_price'].astype(int)\n",
        "df_clean['total_sales'] = df_clean['total_sales'].astype(int)\n",
        "\n",
        "print(\"数値データの型を整理しました\")\n",
        "\n",
        "# カテゴリデータを整理\n",
        "category_cols = ['product_category', 'customer_gender', 'payment_method', 'region']\n",
        "for col in category_cols:\n",
        "    df_clean[col] = df_clean[col].astype('category')\n",
        "\n",
        "print(\"カテゴリデータの型を整理しました\")"
      ],
      "metadata": {
        "colab": {
          "base_uri": "https://localhost:8080/"
        },
        "id": "QndIcdHoZhZI",
        "outputId": "721fad8c-87ed-41ae-bc95-7661ab8cda20"
      },
      "execution_count": 16,
      "outputs": [
        {
          "output_type": "stream",
          "name": "stdout",
          "text": [
            "数値データの型を整理しました\n",
            "カテゴリデータの型を整理しました\n"
          ]
        }
      ]
    },
    {
      "cell_type": "markdown",
      "source": [
        "前処理前後の比較"
      ],
      "metadata": {
        "id": "ZyQO1sp7ZpTO"
      }
    },
    {
      "cell_type": "code",
      "source": [
        "def simple_quality_check(df, name):\n",
        "    \"\"\"簡単なデータ品質チェック\"\"\"\n",
        "    print(f\"\\n {name}の品質:\")\n",
        "    print(f\"  行数: {len(df):,}行\")\n",
        "    print(f\"  欠損値: {df.isnull().sum().sum():,}箇所\")\n",
        "    print(f\"  重複: {df.duplicated().sum():,}件\")\n",
        "\n",
        "    # 数値データの基本統計\n",
        "    if len(df) > 0:\n",
        "        print(f\"  平均単価: {df['unit_price'].mean():.0f}円\")\n",
        "        print(f\"  平均数量: {df['quantity'].mean():.1f}個\")\n",
        "\n",
        "# 比較表示\n",
        "print(\"=\" * 50)\n",
        "simple_quality_check(df, \"クリーニング前\")\n",
        "simple_quality_check(df_clean, \"クリーニング後\")\n",
        "print(\"=\" * 50)"
      ],
      "metadata": {
        "colab": {
          "base_uri": "https://localhost:8080/"
        },
        "id": "Ye5-8U_WZtjg",
        "outputId": "588631c0-8198-4e24-8937-c78764d8ca2c"
      },
      "execution_count": 17,
      "outputs": [
        {
          "output_type": "stream",
          "name": "stdout",
          "text": [
            "==================================================\n",
            "\n",
            " クリーニング前の品質:\n",
            "  行数: 1,000行\n",
            "  欠損値: 137箇所\n",
            "  重複: 0件\n",
            "  平均単価: 30968円\n",
            "  平均数量: 6.2個\n",
            "\n",
            " クリーニング後の品質:\n",
            "  行数: 1,000行\n",
            "  欠損値: 0箇所\n",
            "  重複: 0件\n",
            "  平均単価: 25512円\n",
            "  平均数量: 5.5個\n",
            "==================================================\n"
          ]
        }
      ]
    },
    {
      "cell_type": "markdown",
      "source": [
        "文字データをきれいに"
      ],
      "metadata": {
        "id": "5ucT_DvvaFR9"
      }
    },
    {
      "cell_type": "code",
      "source": [
        "# 表記ゆれを統一\n",
        "df_clean['payment_method'] = df_clean['payment_method'].replace({\n",
        "    'credit card': 'Credit Card',\n",
        "    'Credit Card': 'Credit Card',\n",
        "    'cash': 'Cash',\n",
        "    'Cash': 'Cash',\n",
        "    'e-money': 'E-money',\n",
        "    'E-money': 'E-money',\n",
        "    'qr code': 'QR Code',\n",
        "    'QR code': 'QR Code'\n",
        "})\n",
        "\n",
        "print(\"支払方法の表記を統一しました\")"
      ],
      "metadata": {
        "colab": {
          "base_uri": "https://localhost:8080/"
        },
        "id": "d6kisZQuaGiU",
        "outputId": "141cb3af-5718-4064-d67f-c63dafbd4e00"
      },
      "execution_count": 19,
      "outputs": [
        {
          "output_type": "stream",
          "name": "stdout",
          "text": [
            "支払方法の表記を統一しました\n"
          ]
        }
      ]
    },
    {
      "cell_type": "markdown",
      "source": [
        "前処理作業の記録"
      ],
      "metadata": {
        "id": "cmgJAOsQaNfB"
      }
    },
    {
      "cell_type": "code",
      "source": [
        "# どんなクリーニングをしたか記録\n",
        "cleaning_log = \"\"\"\n",
        "データクリーニング作業記録\n",
        "\n",
        "1. 欠損値処理:\n",
        "   - 数値列: 平均値で補完\n",
        "   - 文字列: '不明'で補完\n",
        "\n",
        "2. 外れ値処理:\n",
        "   - 数量: 上下1%の範囲に収める\n",
        "   - 単価: 上下1%の範囲に収める\n",
        "\n",
        "3. 重複処理:\n",
        "   - 重複行を削除\n",
        "\n",
        "4. データ型整理:\n",
        "   - 数値列を適切な型に変換\n",
        "   - カテゴリ列を整理\n",
        "\n",
        "5. データ強化:\n",
        "   - 売上ランク列を追加\n",
        "   - 時間情報を追加\n",
        "   - 表記ゆれを統一\n",
        "\"\"\"\n",
        "\n",
        "print(cleaning_log)"
      ],
      "metadata": {
        "colab": {
          "base_uri": "https://localhost:8080/"
        },
        "id": "Tv96GiYoabVC",
        "outputId": "aaa721ac-3589-4522-f880-8cd1c3cc1ee8"
      },
      "execution_count": 20,
      "outputs": [
        {
          "output_type": "stream",
          "name": "stdout",
          "text": [
            "\n",
            "データクリーニング作業記録\n",
            "\n",
            "1. 欠損値処理:\n",
            "   - 数値列: 平均値で補完\n",
            "   - 文字列: '不明'で補完\n",
            "\n",
            "2. 外れ値処理:\n",
            "   - 数量: 上下1%の範囲に収める\n",
            "   - 単価: 上下1%の範囲に収める\n",
            "\n",
            "3. 重複処理:\n",
            "   - 重複行を削除\n",
            "\n",
            "4. データ型整理:\n",
            "   - 数値列を適切な型に変換\n",
            "   - カテゴリ列を整理\n",
            "\n",
            "5. データ強化:\n",
            "   - 売上ランク列を追加\n",
            "   - 時間情報を追加\n",
            "   - 表記ゆれを統一\n",
            "\n"
          ]
        }
      ]
    },
    {
      "cell_type": "markdown",
      "source": [
        "よくある失敗と対策  \n",
        "・失敗例1: 元データを壊してしまう  \n",
        "・失敗例2: 全部削除してしまう  "
      ],
      "metadata": {
        "id": "Xu02GPcMahWv"
      }
    },
    {
      "cell_type": "code",
      "source": [
        "# ダメな例\n",
        "# df = df.dropna()  # 元データが壊れる！\n",
        "\n",
        "# 良い例\n",
        "# df_clean = df.copy()  # まずコピー\n",
        "# df_clean = df_clean.dropna()  # コピーを変更\n",
        "\n",
        "# ダメな例\n",
        "# df_clean = df.dropna()  # 空欄がある行を全部削除\n",
        "\n",
        "# 良い例\n",
        "# 重要な列だけチェックして、必要なら部分削除\n",
        "# important_cols = ['order_id', 'total_sales']\n",
        "# df_clean = df.dropna(subset=important_cols)"
      ],
      "metadata": {
        "id": "KzLtznehan75"
      },
      "execution_count": 21,
      "outputs": []
    },
    {
      "cell_type": "markdown",
      "source": [
        "守るべき3つのルール:\n",
        "\n",
        "・コピーしてから始める: df_clean = df.copy()\n",
        "\n",
        "・少しずつ直す: 一気にやらず、1つずつ確認\n",
        "\n",
        "・結果を確認する: 直したら必ずチェック"
      ],
      "metadata": {
        "id": "yl3a0B4pa8Fb"
      }
    },
    {
      "cell_type": "code",
      "source": [
        "# 段階的に進めよう\n",
        "\n",
        "# # ステップ1: 欠損値だけ処理\n",
        "# step1 = df.copy()\n",
        "# step1 = handle_missing_values(step1)\n",
        "\n",
        "# # ステップ2: 外れ値処理\n",
        "# step2 = step1.copy()\n",
        "# step2 = handle_outliers(step2)\n",
        "\n",
        "# # ステップ3: 重複処理\n",
        "# step3 = step2.copy()\n",
        "# step3 = remove_duplicates(step3)"
      ],
      "metadata": {
        "id": "Lq6eHVPWbMi_"
      },
      "execution_count": 22,
      "outputs": []
    },
    {
      "cell_type": "code",
      "source": [
        "# 自動化の第一歩\n",
        "def simple_cleaner(df):\n",
        "    \"\"\"初心者向け簡単クリーナー\"\"\"\n",
        "    df_clean = df.copy()\n",
        "\n",
        "    # 基本的な処理\n",
        "    df_clean = df_clean.dropna(subset=['total_sales', 'order_id'])  # 重要列の空欄行削除\n",
        "    df_clean = df_clean.drop_duplicates()  # 重複削除\n",
        "\n",
        "    # 数値の異常値を直す\n",
        "    for col in ['quantity', 'unit_price']:\n",
        "        if col in df_clean.columns:\n",
        "            low = df_clean[col].quantile(0.01)\n",
        "            high = df_clean[col].quantile(0.99)\n",
        "            df_clean[col] = np.clip(df_clean[col], low, high)\n",
        "\n",
        "    return df_clean\n",
        "\n",
        "# 使ってみよう\n",
        "df_clean = simple_cleaner(df)\n",
        "print(\"簡単前処理完了！\")"
      ],
      "metadata": {
        "colab": {
          "base_uri": "https://localhost:8080/"
        },
        "id": "gEgVXJ67bnyU",
        "outputId": "986d239f-6502-480e-dc01-fadf76eb6f7b"
      },
      "execution_count": 23,
      "outputs": [
        {
          "output_type": "stream",
          "name": "stdout",
          "text": [
            "簡単前処理完了！\n"
          ]
        }
      ]
    },
    {
      "cell_type": "markdown",
      "source": [
        "## 3. データ変換と特徴量作成\n",
        "①基本的なデータ変換ビジネス洞察を得るための特徴量  \n",
        "*  日付データから便利な情報を作ろう  \n",
        "*  カテゴリデータを数字に変換しよう\n",
        "\n",
        "②ビジネスに役立つ特徴量作成\n",
        "*   売上に関する特徴量\n",
        "*   顧客に関する特徴量\n",
        "\n",
        "③分析用の集計特徴量\n",
        "*   カテゴリ別の統計量\n",
        "*   時系列の特徴量\n",
        "\n",
        "④特徴量の確認と評価\n",
        "*   作成した特徴量の確認\n",
        "*   特徴量の相関関係を確認\n",
        "\n",
        "⑤ビジネス洞察を得るための特徴量\n",
        "*   購買行動の特徴量\n",
        "*   季節性の特徴量\n"
      ],
      "metadata": {
        "id": "96zlDADEEVvd"
      }
    },
    {
      "cell_type": "markdown",
      "source": [
        "- 日付データから便利な情報を作ろう"
      ],
      "metadata": {
        "id": "lGiu4Jb3SBqW"
      }
    },
    {
      "cell_type": "code",
      "source": [
        "# データをコピー（元データを残す）\n",
        "df_featured = df_clean.copy()\n",
        "\n",
        "print(\"データ型を確認:\")\n",
        "print(df_featured.dtypes)\n",
        "\n",
        "# 日付列が文字列ならdatetimeに変換\n",
        "if 'order_date' in df_featured.columns:\n",
        "    # まず現在のデータ型を確認\n",
        "    print(f\"\\norder_dateのデータ型: {df_featured['order_date'].dtype}\")\n",
        "\n",
        "    # 文字列ならdatetimeに変換\n",
        "    if df_featured['order_date'].dtype == 'object':\n",
        "        df_featured['order_date'] = pd.to_datetime(df_featured['order_date'], errors='coerce')\n",
        "        print(\"日付データをdatetime型に変換しました\")\n",
        "    elif 'datetime' in str(df_featured['order_date'].dtype):\n",
        "        print(\"日付データは既にdatetime型です\")\n",
        "    else:\n",
        "        print(\"日付データの型が不明です\")"
      ],
      "metadata": {
        "colab": {
          "base_uri": "https://localhost:8080/"
        },
        "id": "AvdcLaFtSsFo",
        "outputId": "75356875-2610-4cf4-d08e-5de7634059aa"
      },
      "execution_count": 26,
      "outputs": [
        {
          "output_type": "stream",
          "name": "stdout",
          "text": [
            "データ型を確認:\n",
            "order_id             object\n",
            "order_date           object\n",
            "store_id             object\n",
            "product_category     object\n",
            "product_name         object\n",
            "quantity            float64\n",
            "unit_price          float64\n",
            "total_sales         float64\n",
            "customer_id          object\n",
            "customer_age        float64\n",
            "customer_gender      object\n",
            "region               object\n",
            "payment_method       object\n",
            "discount_rate       float64\n",
            "return_flag           int64\n",
            "rating              float64\n",
            "dtype: object\n",
            "\n",
            "order_dateのデータ型: object\n",
            "日付データをdatetime型に変換しました\n"
          ]
        }
      ]
    },
    {
      "cell_type": "code",
      "source": [
        "print(\"\\n日付データから新しい情報を作成:\")\n",
        "\n",
        "# 日付データがdatetime型であることを確認\n",
        "if pd.api.types.is_datetime64_any_dtype(df_featured['order_date']):\n",
        "    # 基本的な日付情報\n",
        "    df_featured['order_year'] = df_featured['order_date'].dt.year\n",
        "    df_featured['order_month'] = df_featured['order_date'].dt.month\n",
        "    df_featured['order_day'] = df_featured['order_date'].dt.day\n",
        "    df_featured['order_weekday'] = df_featured['order_date'].dt.dayofweek  # 0=月曜, 6=日曜\n",
        "\n",
        "    print(\"年、月、日、曜日を追加\")\n",
        "\n",
        "    # 日本語の曜日を追加\n",
        "    weekday_jp = {\n",
        "        0: '月曜',\n",
        "        1: '火曜',\n",
        "        2: '水曜',\n",
        "        3: '木曜',\n",
        "        4: '金曜',\n",
        "        5: '土曜',\n",
        "        6: '日曜'\n",
        "    }\n",
        "    df_featured['order_weekday_jp'] = df_featured['order_weekday'].map(weekday_jp)\n",
        "\n",
        "    print(\"日本語の曜日を追加\")\n",
        "\n",
        "    # 週末フラグ（営業分析で重要）\n",
        "    df_featured['is_weekend'] = df_featured['order_weekday'].isin([5, 6])  # 5=土曜, 6=日曜\n",
        "    print(\"週末フラグを追加\")\n",
        "else:\n",
        "    print(\"日付データがdatetime型ではないため、日付特徴量を作成できません\")"
      ],
      "metadata": {
        "colab": {
          "base_uri": "https://localhost:8080/"
        },
        "id": "lWo-SqjqS2ze",
        "outputId": "861b81b8-b16e-464c-c4ad-fb05b684faac"
      },
      "execution_count": 28,
      "outputs": [
        {
          "output_type": "stream",
          "name": "stdout",
          "text": [
            "\n",
            "日付データから新しい情報を作成:\n",
            "年、月、日、曜日を追加\n",
            "日本語の曜日を追加\n",
            "週末フラグを追加\n"
          ]
        }
      ]
    },
    {
      "cell_type": "markdown",
      "source": [
        "- カテゴリデータを数字に変換しよう\n",
        "\n"
      ],
      "metadata": {
        "id": "VtOhBKqCSJ9S"
      }
    },
    {
      "cell_type": "code",
      "source": [
        "print(\"\\nカテゴリデータを分析用に変換:\")\n",
        "\n",
        "# 支払方法を数字に（機械学習で必要）\n",
        "payment_mapping = {\n",
        "    'Credit Card': 0,\n",
        "    'Cash': 1,\n",
        "    'E-money': 2,\n",
        "    'QR Code': 3,\n",
        "    '不明': 4\n",
        "}\n",
        "df_featured['payment_method_code'] = df_featured['payment_method'].map(payment_mapping)\n",
        "print(\"支払方法を数字に変換\")\n",
        "\n",
        "# 性別も数字に\n",
        "gender_mapping = {'Male': 0, 'Female': 1, 'Other': 2, '不明': 3}\n",
        "df_featured['gender_code'] = df_featured['customer_gender'].map(gender_mapping)\n",
        "print(\"性別を数字に変換\")"
      ],
      "metadata": {
        "colab": {
          "base_uri": "https://localhost:8080/"
        },
        "id": "9-2M2BqLR7yP",
        "outputId": "502b1ae0-6360-4831-fb34-f75bcbb4dc4e"
      },
      "execution_count": 29,
      "outputs": [
        {
          "output_type": "stream",
          "name": "stdout",
          "text": [
            "\n",
            "カテゴリデータを分析用に変換:\n",
            "支払方法を数字に変換\n",
            "性別を数字に変換\n"
          ]
        }
      ]
    },
    {
      "cell_type": "markdown",
      "source": [
        "- 売上に関する特徴量"
      ],
      "metadata": {
        "id": "bxR6AbjBTS1r"
      }
    },
    {
      "cell_type": "code",
      "source": [
        "print(\"\\n売上分析用の特徴量を作成:\")\n",
        "\n",
        "# 単価帯の分類（安い・普通・高い）\n",
        "if 'unit_price' in df_featured.columns:\n",
        "    df_featured['price_range'] = pd.cut(df_featured['unit_price'],\n",
        "                                       bins=[0, 1000, 5000, 10000, float('inf')],\n",
        "                                       labels=['超安価', '安価', '中価格', '高価'])\n",
        "    print(\"価格帯を分類\")\n",
        "\n",
        "# 売上金額の分類\n",
        "if 'total_sales' in df_featured.columns:\n",
        "    df_featured['sales_range'] = pd.cut(df_featured['total_sales'],\n",
        "                                       bins=[0, 1000, 5000, 10000, 50000, float('inf')],\n",
        "                                       labels=['超少額', '少額', '中額', '高額', '超高額'])\n",
        "    print(\"売上金額帯を分類\")\n",
        "\n",
        "# 割引率の有無\n",
        "if 'discount_rate' in df_featured.columns:\n",
        "    df_featured['has_discount'] = df_featured['discount_rate'] > 0\n",
        "    print(\"割引有無フラグを追加\")"
      ],
      "metadata": {
        "colab": {
          "base_uri": "https://localhost:8080/"
        },
        "id": "FoySDJmNTJiv",
        "outputId": "c9553cd6-8e4f-41fe-c091-55b3e1bf7cc8"
      },
      "execution_count": 31,
      "outputs": [
        {
          "output_type": "stream",
          "name": "stdout",
          "text": [
            "\n",
            "売上分析用の特徴量を作成:\n",
            "価格帯を分類\n",
            "売上金額帯を分類\n",
            "割引有無フラグを追加\n"
          ]
        }
      ]
    },
    {
      "cell_type": "markdown",
      "source": [
        "- 顧客に関する特徴量"
      ],
      "metadata": {
        "id": "Sc5QcexhTb1-"
      }
    },
    {
      "cell_type": "code",
      "source": [
        "print(\"\\n顧客分析用の特徴量を作成:\")\n",
        "\n",
        "# 年齢層の分類\n",
        "if 'customer_age' in df_featured.columns:\n",
        "    df_featured['age_group'] = pd.cut(df_featured['customer_age'],\n",
        "                                     bins=[0, 20, 30, 40, 50, 60, 100],\n",
        "                                     labels=['20代未満', '20代', '30代', '40代', '50代', '60代以上'])\n",
        "    print(\"年齢層を分類\")\n",
        "\n",
        "# 購買力の指標（単価×数量）\n",
        "if all(col in df_featured.columns for col in ['unit_price', 'quantity']):\n",
        "    df_featured['purchase_power'] = df_featured['unit_price'] * df_featured['quantity']\n",
        "    print(\"購買力指標を追加\")"
      ],
      "metadata": {
        "colab": {
          "base_uri": "https://localhost:8080/"
        },
        "id": "yDUVCqLtTdoP",
        "outputId": "3255fb4c-0b53-47cd-9229-0124f25fad78"
      },
      "execution_count": 32,
      "outputs": [
        {
          "output_type": "stream",
          "name": "stdout",
          "text": [
            "\n",
            "顧客分析用の特徴量を作成:\n",
            "年齢層を分類\n",
            "購買力指標を追加\n"
          ]
        }
      ]
    },
    {
      "cell_type": "markdown",
      "source": [
        "- カテゴリ別の統計量"
      ],
      "metadata": {
        "id": "WKG7Im0nVd6F"
      }
    },
    {
      "cell_type": "code",
      "source": [
        "print(\"\\nカテゴリ別の統計特徴量を作成:\")\n",
        "\n",
        "# 商品カテゴリ別の平均単価\n",
        "if all(col in df_featured.columns for col in ['product_category', 'unit_price']):\n",
        "    category_avg_price = df_featured.groupby('product_category')['unit_price'].mean().to_dict()\n",
        "    df_featured['category_avg_price'] = df_featured['product_category'].map(category_avg_price)\n",
        "    print(\"カテゴリ平均単価を追加\")\n",
        "\n",
        "    # カテゴリ平均単価との比較\n",
        "    df_featured['price_vs_category'] = df_featured['unit_price'] - df_featured['category_avg_price']\n",
        "    df_featured['price_ratio_to_category'] = df_featured['unit_price'] / df_featured['category_avg_price']\n",
        "    print(\"カテゴリ比較指標を追加\")"
      ],
      "metadata": {
        "colab": {
          "base_uri": "https://localhost:8080/"
        },
        "id": "2Gm9kdtIVgkn",
        "outputId": "b9bda1d8-376e-47d3-cf07-3bd0243e5fd1"
      },
      "execution_count": 34,
      "outputs": [
        {
          "output_type": "stream",
          "name": "stdout",
          "text": [
            "\n",
            "カテゴリ別の統計特徴量を作成:\n",
            "カテゴリ平均単価を追加\n",
            "カテゴリ比較指標を追加\n"
          ]
        }
      ]
    },
    {
      "cell_type": "markdown",
      "source": [
        "- 時系列の特徴量"
      ],
      "metadata": {
        "id": "uZ-ldv4hVfmy"
      }
    },
    {
      "cell_type": "code",
      "source": [
        "print(\"\\n時系列特徴量を作成:\")\n",
        "\n",
        "# 月別売上トレンド\n",
        "if all(col in df_featured.columns for col in ['order_month', 'total_sales']):\n",
        "    monthly_sales = df_featured.groupby('order_month')['total_sales'].mean().to_dict()\n",
        "    df_featured['monthly_avg_sales'] = df_featured['order_month'].map(monthly_sales)\n",
        "    print(\"月別平均売上を追加\")\n",
        "\n",
        "# 曜日別売上トレンド\n",
        "if all(col in df_featured.columns for col in ['order_weekday', 'total_sales']):\n",
        "    weekday_sales = df_featured.groupby('order_weekday')['total_sales'].mean().to_dict()\n",
        "    df_featured['weekday_avg_sales'] = df_featured['order_weekday'].map(weekday_sales)\n",
        "    print(\"曜日別平均売上を追加\")"
      ],
      "metadata": {
        "colab": {
          "base_uri": "https://localhost:8080/"
        },
        "id": "Hq4ewvmIV7y0",
        "outputId": "b9c027a8-524d-4cec-b1c8-4e05f3eb56c6"
      },
      "execution_count": 35,
      "outputs": [
        {
          "output_type": "stream",
          "name": "stdout",
          "text": [
            "\n",
            "時系列特徴量を作成:\n",
            "月別平均売上を追加\n",
            "曜日別平均売上を追加\n"
          ]
        }
      ]
    },
    {
      "cell_type": "markdown",
      "source": [
        "- 作成した特徴量の確認"
      ],
      "metadata": {
        "id": "tau3NHgUEhnj"
      }
    },
    {
      "cell_type": "code",
      "source": [
        "print(\"作成した特徴量を確認:\")\n",
        "\n",
        "# 数値特徴量の基本統計\n",
        "numeric_features = [col for col in df_featured.columns\n",
        "                   if pd.api.types.is_numeric_dtype(df_featured[col])\n",
        "                   and col not in ['order_year', 'order_month', 'order_day', 'order_weekday']]\n",
        "\n",
        "if numeric_features:\n",
        "    print(\"数値特徴量の統計:\")\n",
        "    print(df_featured[numeric_features].describe().round(2))\n",
        "else:\n",
        "    print(\"数値特徴量が見つかりません\")\n",
        "\n",
        "# カテゴリ特徴量の分布\n",
        "category_features = [col for col in df_featured.columns\n",
        "                    if pd.api.types.is_categorical_dtype(df_featured[col])\n",
        "                    or df_featured[col].dtype == 'object']\n",
        "\n",
        "if category_features:\n",
        "    print(\"\\nカテゴリ特徴量の分布:\")\n",
        "    for col in category_features[:3]:  # 最初の3つだけ表示\n",
        "        print(f\"{col}分布:\\n{df_featured[col].value_counts().head()}\")\n",
        "        print()"
      ],
      "metadata": {
        "colab": {
          "base_uri": "https://localhost:8080/"
        },
        "id": "kodGg4FAWTmP",
        "outputId": "8b9a0bee-c174-4098-cce4-e48106d07e8a"
      },
      "execution_count": 36,
      "outputs": [
        {
          "output_type": "stream",
          "name": "stdout",
          "text": [
            "作成した特徴量を確認:\n",
            "数値特徴量の統計:\n",
            "       quantity  unit_price  total_sales  customer_age  discount_rate  \\\n",
            "count   1000.00     1000.00      1000.00        985.00         982.00   \n",
            "mean       5.51    25511.87    123840.35         49.10           0.07   \n",
            "std        2.86    48010.43    264773.43         17.96           0.09   \n",
            "min        1.00      356.36       113.00         18.00           0.00   \n",
            "25%        3.00     2436.50      8821.58         34.00           0.00   \n",
            "50%        5.00     4918.00     22969.45         49.00           0.00   \n",
            "75%        8.00    12837.50     71988.75         65.00           0.10   \n",
            "max       10.45   202722.99   1705167.00         79.00           0.30   \n",
            "\n",
            "       return_flag  rating  payment_method_code  gender_code  purchase_power  \\\n",
            "count      1000.00  896.00              1000.00      1000.00         1000.00   \n",
            "mean          0.10    3.78                 1.00         0.63       153417.83   \n",
            "std           0.31    1.19                 0.99         0.65       346008.30   \n",
            "min           0.00    1.00                 0.00         0.00          356.36   \n",
            "25%           0.00    3.00                 0.00         0.00         9651.00   \n",
            "50%           0.00    4.00                 1.00         1.00        25803.00   \n",
            "75%           0.00    5.00                 2.00         1.00        81378.00   \n",
            "max           1.00    5.00                 3.00         2.00      2118455.25   \n",
            "\n",
            "       category_avg_price  price_vs_category  price_ratio_to_category  \\\n",
            "count             1000.00            1000.00                  1000.00   \n",
            "mean             25511.87               0.00                     1.00   \n",
            "std              37375.79           30133.89                     3.06   \n",
            "min               4796.52          -94929.43                     0.06   \n",
            "25%               4796.52           -4416.75                     0.37   \n",
            "50%               8684.49           -2613.26                     0.67   \n",
            "75%               8753.88             328.76                     1.04   \n",
            "max             100858.43          197926.47                    42.26   \n",
            "\n",
            "       monthly_avg_sales  weekday_avg_sales  \n",
            "count            1000.00            1000.00  \n",
            "mean           123840.35          123840.35  \n",
            "std             30224.90           20371.26  \n",
            "min             75723.93           97931.24  \n",
            "25%             97359.28          100738.23  \n",
            "50%            131073.92          125584.80  \n",
            "75%            145899.81          138059.15  \n",
            "max            175257.90          160544.53  \n",
            "\n",
            "カテゴリ特徴量の分布:\n",
            "order_id分布:\n",
            "order_id\n",
            "ORD_01000    1\n",
            "ORD_00001    1\n",
            "ORD_00002    1\n",
            "ORD_00003    1\n",
            "ORD_00004    1\n",
            "Name: count, dtype: int64\n",
            "\n",
            "store_id分布:\n",
            "store_id\n",
            "Store_001    118\n",
            "Store_003    110\n",
            "Store_010    107\n",
            "Store_005    107\n",
            "Store_008    100\n",
            "Name: count, dtype: int64\n",
            "\n",
            "product_category分布:\n",
            "product_category\n",
            "Clothing       292\n",
            "Food           262\n",
            "Electronics    197\n",
            "Home           142\n",
            "Books          107\n",
            "Name: count, dtype: int64\n",
            "\n"
          ]
        },
        {
          "output_type": "stream",
          "name": "stderr",
          "text": [
            "/tmp/ipython-input-2426395687.py:16: DeprecationWarning: is_categorical_dtype is deprecated and will be removed in a future version. Use isinstance(dtype, pd.CategoricalDtype) instead\n",
            "  if pd.api.types.is_categorical_dtype(df_featured[col])\n"
          ]
        }
      ]
    },
    {
      "cell_type": "markdown",
      "source": [
        "- 特徴量の相関関係を確認"
      ],
      "metadata": {
        "id": "WXBtnjQYWhty"
      }
    },
    {
      "cell_type": "code",
      "source": [
        "# 売上との相関関係を確認\n",
        "if 'total_sales' in df_featured.columns:\n",
        "    numeric_cols = df_featured.select_dtypes(include=[np.number]).columns\n",
        "    if len(numeric_cols) > 1:\n",
        "        correlation_with_sales = df_featured[numeric_cols].corr()['total_sales'].sort_values(ascending=False)\n",
        "\n",
        "        print(\"売上との相関係数（高い順）:\")\n",
        "        for feature, corr in correlation_with_sales.items():\n",
        "            if abs(corr) > 0.1 and feature != 'total_sales':  # ある程度相関があるものだけ\n",
        "                print(f\"  {feature}: {corr:.3f}\")\n",
        "    else:\n",
        "        print(\"数値列が不足しているため相関分析できません\")\n",
        "else:\n",
        "    print(\"total_sales列がないため相関分析できません\")"
      ],
      "metadata": {
        "colab": {
          "base_uri": "https://localhost:8080/"
        },
        "id": "jgw6Z2P0Wlj6",
        "outputId": "081cfad3-ce45-4841-bc09-63a928a798c2"
      },
      "execution_count": 37,
      "outputs": [
        {
          "output_type": "stream",
          "name": "stdout",
          "text": [
            "売上との相関係数（高い順）:\n",
            "  unit_price: 0.809\n",
            "  purchase_power: 0.798\n",
            "  category_avg_price: 0.749\n",
            "  price_vs_category: 0.360\n",
            "  quantity: 0.235\n",
            "  monthly_avg_sales: 0.114\n"
          ]
        }
      ]
    },
    {
      "cell_type": "markdown",
      "source": [
        "- 購買行動の特徴量"
      ],
      "metadata": {
        "id": "Xs_RiXqmYENl"
      }
    },
    {
      "cell_type": "code",
      "source": [
        "print(\"\\n購買行動の特徴量を作成:\")\n",
        "\n",
        "# 高額購買フラグ（上位10%）\n",
        "if 'total_sales' in df_featured.columns:\n",
        "    sales_threshold = df_featured['total_sales'].quantile(0.9)\n",
        "    df_featured['is_high_value'] = df_featured['total_sales'] > sales_threshold\n",
        "    print(\"高額購買フラグを追加\")\n",
        "\n",
        "# 数量多めフラグ\n",
        "if 'quantity' in df_featured.columns:\n",
        "    quantity_threshold = df_featured['quantity'].quantile(0.75)\n",
        "    df_featured['is_bulk_purchase'] = df_featured['quantity'] > quantity_threshold\n",
        "    print(\"大量購買フラグを追加\")"
      ],
      "metadata": {
        "colab": {
          "base_uri": "https://localhost:8080/"
        },
        "id": "f6r_Yrg5YC5t",
        "outputId": "bbfbddc7-778a-4abf-a6c8-2d4ea88de4c8"
      },
      "execution_count": 38,
      "outputs": [
        {
          "output_type": "stream",
          "name": "stdout",
          "text": [
            "\n",
            "購買行動の特徴量を作成:\n",
            "高額購買フラグを追加\n",
            "大量購買フラグを追加\n"
          ]
        }
      ]
    },
    {
      "cell_type": "code",
      "source": [
        "df_featured"
      ],
      "metadata": {
        "colab": {
          "base_uri": "https://localhost:8080/",
          "height": 617
        },
        "id": "eKRXpVrfYMhb",
        "outputId": "247fc594-9318-49f7-d299-ad169c2b8e21"
      },
      "execution_count": 39,
      "outputs": [
        {
          "output_type": "execute_result",
          "data": {
            "text/plain": [
              "      order_id order_date   store_id product_category product_name  quantity  \\\n",
              "0    ORD_00001 2023-01-01  Store_007         Clothing      T-Shirt       8.0   \n",
              "1    ORD_00002 2023-01-02  Store_004             Food       Drinks       8.0   \n",
              "2    ORD_00003 2023-01-03  Store_008             Food       Snacks       9.0   \n",
              "3    ORD_00004 2023-01-04  Store_005      Electronics   Smartphone       7.0   \n",
              "4    ORD_00005 2023-01-05  Store_007             Home        Decor       1.0   \n",
              "..         ...        ...        ...              ...          ...       ...   \n",
              "995  ORD_00996 2025-09-22  Store_010         Clothing       Jacket      10.0   \n",
              "996  ORD_00997 2025-09-23  Store_010             Home     Cookware      10.0   \n",
              "997  ORD_00998 2025-09-24  Store_008      Electronics       Tablet       4.0   \n",
              "998  ORD_00999 2025-09-25  Store_002             Home     Cookware       8.0   \n",
              "999  ORD_01000 2025-09-26  Store_009         Clothing        Dress       6.0   \n",
              "\n",
              "     unit_price  total_sales customer_id  customer_age  ... has_discount  \\\n",
              "0        1409.0      11272.0   CUST_9851          29.0  ...        False   \n",
              "1        2106.0      16848.0   CUST_1159          66.0  ...        False   \n",
              "2        1243.0      11187.0   CUST_7555          34.0  ...        False   \n",
              "3      182392.0    1149069.6   CUST_9244          59.0  ...         True   \n",
              "4        2712.0       2169.6   CUST_7846          47.0  ...         True   \n",
              "..          ...          ...         ...           ...  ...          ...   \n",
              "995      6021.0      60210.0   CUST_8431          61.0  ...        False   \n",
              "996      6936.0      48552.0   CUST_2230          51.0  ...         True   \n",
              "997     48684.0     194736.0   CUST_4805          30.0  ...        False   \n",
              "998      4879.0      39032.0   CUST_7419          59.0  ...        False   \n",
              "999      1693.0       8126.4   CUST_6750          26.0  ...         True   \n",
              "\n",
              "    age_group purchase_power  category_avg_price  price_vs_category  \\\n",
              "0         20代        11272.0         8753.883527       -7344.883527   \n",
              "1       60代以上        16848.0         4796.521260       -2690.521260   \n",
              "2         30代        11187.0         4796.521260       -3553.521260   \n",
              "3         50代      1276744.0       100858.426294       81533.573706   \n",
              "4         40代         2712.0         8684.485775       -5972.485775   \n",
              "..        ...            ...                 ...                ...   \n",
              "995     60代以上        60210.0         8753.883527       -2732.883527   \n",
              "996       50代        69360.0         8684.485775       -1748.485775   \n",
              "997       20代       194736.0       100858.426294      -52174.426294   \n",
              "998       50代        39032.0         8684.485775       -3805.485775   \n",
              "999       20代        10158.0         8753.883527       -7060.883527   \n",
              "\n",
              "     price_ratio_to_category  monthly_avg_sales  weekday_avg_sales  \\\n",
              "0                   0.160957      175257.903226      113583.806993   \n",
              "1                   0.439068      175257.903226      100738.226573   \n",
              "2                   0.259146      175257.903226      130259.546853   \n",
              "3                   1.808396      175257.903226      125584.804196   \n",
              "4                   0.312281      175257.903226      160544.525874   \n",
              "..                       ...                ...                ...   \n",
              "995                 0.687809      160485.423256      100738.226573   \n",
              "996                 0.798666      160485.423256      130259.546853   \n",
              "997                 0.482696      160485.423256      125584.804196   \n",
              "998                 0.561806      160485.423256      160544.525874   \n",
              "999                 0.193400      160485.423256      138059.148951   \n",
              "\n",
              "     is_high_value  is_bulk_purchase  \n",
              "0            False             False  \n",
              "1            False             False  \n",
              "2            False              True  \n",
              "3             True             False  \n",
              "4            False             False  \n",
              "..             ...               ...  \n",
              "995          False              True  \n",
              "996          False              True  \n",
              "997          False             False  \n",
              "998          False             False  \n",
              "999          False             False  \n",
              "\n",
              "[1000 rows x 36 columns]"
            ],
            "text/html": [
              "\n",
              "  <div id=\"df-e7e062dc-f605-4dc3-8994-6268b0c3f0c9\" class=\"colab-df-container\">\n",
              "    <div>\n",
              "<style scoped>\n",
              "    .dataframe tbody tr th:only-of-type {\n",
              "        vertical-align: middle;\n",
              "    }\n",
              "\n",
              "    .dataframe tbody tr th {\n",
              "        vertical-align: top;\n",
              "    }\n",
              "\n",
              "    .dataframe thead th {\n",
              "        text-align: right;\n",
              "    }\n",
              "</style>\n",
              "<table border=\"1\" class=\"dataframe\">\n",
              "  <thead>\n",
              "    <tr style=\"text-align: right;\">\n",
              "      <th></th>\n",
              "      <th>order_id</th>\n",
              "      <th>order_date</th>\n",
              "      <th>store_id</th>\n",
              "      <th>product_category</th>\n",
              "      <th>product_name</th>\n",
              "      <th>quantity</th>\n",
              "      <th>unit_price</th>\n",
              "      <th>total_sales</th>\n",
              "      <th>customer_id</th>\n",
              "      <th>customer_age</th>\n",
              "      <th>...</th>\n",
              "      <th>has_discount</th>\n",
              "      <th>age_group</th>\n",
              "      <th>purchase_power</th>\n",
              "      <th>category_avg_price</th>\n",
              "      <th>price_vs_category</th>\n",
              "      <th>price_ratio_to_category</th>\n",
              "      <th>monthly_avg_sales</th>\n",
              "      <th>weekday_avg_sales</th>\n",
              "      <th>is_high_value</th>\n",
              "      <th>is_bulk_purchase</th>\n",
              "    </tr>\n",
              "  </thead>\n",
              "  <tbody>\n",
              "    <tr>\n",
              "      <th>0</th>\n",
              "      <td>ORD_00001</td>\n",
              "      <td>2023-01-01</td>\n",
              "      <td>Store_007</td>\n",
              "      <td>Clothing</td>\n",
              "      <td>T-Shirt</td>\n",
              "      <td>8.0</td>\n",
              "      <td>1409.0</td>\n",
              "      <td>11272.0</td>\n",
              "      <td>CUST_9851</td>\n",
              "      <td>29.0</td>\n",
              "      <td>...</td>\n",
              "      <td>False</td>\n",
              "      <td>20代</td>\n",
              "      <td>11272.0</td>\n",
              "      <td>8753.883527</td>\n",
              "      <td>-7344.883527</td>\n",
              "      <td>0.160957</td>\n",
              "      <td>175257.903226</td>\n",
              "      <td>113583.806993</td>\n",
              "      <td>False</td>\n",
              "      <td>False</td>\n",
              "    </tr>\n",
              "    <tr>\n",
              "      <th>1</th>\n",
              "      <td>ORD_00002</td>\n",
              "      <td>2023-01-02</td>\n",
              "      <td>Store_004</td>\n",
              "      <td>Food</td>\n",
              "      <td>Drinks</td>\n",
              "      <td>8.0</td>\n",
              "      <td>2106.0</td>\n",
              "      <td>16848.0</td>\n",
              "      <td>CUST_1159</td>\n",
              "      <td>66.0</td>\n",
              "      <td>...</td>\n",
              "      <td>False</td>\n",
              "      <td>60代以上</td>\n",
              "      <td>16848.0</td>\n",
              "      <td>4796.521260</td>\n",
              "      <td>-2690.521260</td>\n",
              "      <td>0.439068</td>\n",
              "      <td>175257.903226</td>\n",
              "      <td>100738.226573</td>\n",
              "      <td>False</td>\n",
              "      <td>False</td>\n",
              "    </tr>\n",
              "    <tr>\n",
              "      <th>2</th>\n",
              "      <td>ORD_00003</td>\n",
              "      <td>2023-01-03</td>\n",
              "      <td>Store_008</td>\n",
              "      <td>Food</td>\n",
              "      <td>Snacks</td>\n",
              "      <td>9.0</td>\n",
              "      <td>1243.0</td>\n",
              "      <td>11187.0</td>\n",
              "      <td>CUST_7555</td>\n",
              "      <td>34.0</td>\n",
              "      <td>...</td>\n",
              "      <td>False</td>\n",
              "      <td>30代</td>\n",
              "      <td>11187.0</td>\n",
              "      <td>4796.521260</td>\n",
              "      <td>-3553.521260</td>\n",
              "      <td>0.259146</td>\n",
              "      <td>175257.903226</td>\n",
              "      <td>130259.546853</td>\n",
              "      <td>False</td>\n",
              "      <td>True</td>\n",
              "    </tr>\n",
              "    <tr>\n",
              "      <th>3</th>\n",
              "      <td>ORD_00004</td>\n",
              "      <td>2023-01-04</td>\n",
              "      <td>Store_005</td>\n",
              "      <td>Electronics</td>\n",
              "      <td>Smartphone</td>\n",
              "      <td>7.0</td>\n",
              "      <td>182392.0</td>\n",
              "      <td>1149069.6</td>\n",
              "      <td>CUST_9244</td>\n",
              "      <td>59.0</td>\n",
              "      <td>...</td>\n",
              "      <td>True</td>\n",
              "      <td>50代</td>\n",
              "      <td>1276744.0</td>\n",
              "      <td>100858.426294</td>\n",
              "      <td>81533.573706</td>\n",
              "      <td>1.808396</td>\n",
              "      <td>175257.903226</td>\n",
              "      <td>125584.804196</td>\n",
              "      <td>True</td>\n",
              "      <td>False</td>\n",
              "    </tr>\n",
              "    <tr>\n",
              "      <th>4</th>\n",
              "      <td>ORD_00005</td>\n",
              "      <td>2023-01-05</td>\n",
              "      <td>Store_007</td>\n",
              "      <td>Home</td>\n",
              "      <td>Decor</td>\n",
              "      <td>1.0</td>\n",
              "      <td>2712.0</td>\n",
              "      <td>2169.6</td>\n",
              "      <td>CUST_7846</td>\n",
              "      <td>47.0</td>\n",
              "      <td>...</td>\n",
              "      <td>True</td>\n",
              "      <td>40代</td>\n",
              "      <td>2712.0</td>\n",
              "      <td>8684.485775</td>\n",
              "      <td>-5972.485775</td>\n",
              "      <td>0.312281</td>\n",
              "      <td>175257.903226</td>\n",
              "      <td>160544.525874</td>\n",
              "      <td>False</td>\n",
              "      <td>False</td>\n",
              "    </tr>\n",
              "    <tr>\n",
              "      <th>...</th>\n",
              "      <td>...</td>\n",
              "      <td>...</td>\n",
              "      <td>...</td>\n",
              "      <td>...</td>\n",
              "      <td>...</td>\n",
              "      <td>...</td>\n",
              "      <td>...</td>\n",
              "      <td>...</td>\n",
              "      <td>...</td>\n",
              "      <td>...</td>\n",
              "      <td>...</td>\n",
              "      <td>...</td>\n",
              "      <td>...</td>\n",
              "      <td>...</td>\n",
              "      <td>...</td>\n",
              "      <td>...</td>\n",
              "      <td>...</td>\n",
              "      <td>...</td>\n",
              "      <td>...</td>\n",
              "      <td>...</td>\n",
              "      <td>...</td>\n",
              "    </tr>\n",
              "    <tr>\n",
              "      <th>995</th>\n",
              "      <td>ORD_00996</td>\n",
              "      <td>2025-09-22</td>\n",
              "      <td>Store_010</td>\n",
              "      <td>Clothing</td>\n",
              "      <td>Jacket</td>\n",
              "      <td>10.0</td>\n",
              "      <td>6021.0</td>\n",
              "      <td>60210.0</td>\n",
              "      <td>CUST_8431</td>\n",
              "      <td>61.0</td>\n",
              "      <td>...</td>\n",
              "      <td>False</td>\n",
              "      <td>60代以上</td>\n",
              "      <td>60210.0</td>\n",
              "      <td>8753.883527</td>\n",
              "      <td>-2732.883527</td>\n",
              "      <td>0.687809</td>\n",
              "      <td>160485.423256</td>\n",
              "      <td>100738.226573</td>\n",
              "      <td>False</td>\n",
              "      <td>True</td>\n",
              "    </tr>\n",
              "    <tr>\n",
              "      <th>996</th>\n",
              "      <td>ORD_00997</td>\n",
              "      <td>2025-09-23</td>\n",
              "      <td>Store_010</td>\n",
              "      <td>Home</td>\n",
              "      <td>Cookware</td>\n",
              "      <td>10.0</td>\n",
              "      <td>6936.0</td>\n",
              "      <td>48552.0</td>\n",
              "      <td>CUST_2230</td>\n",
              "      <td>51.0</td>\n",
              "      <td>...</td>\n",
              "      <td>True</td>\n",
              "      <td>50代</td>\n",
              "      <td>69360.0</td>\n",
              "      <td>8684.485775</td>\n",
              "      <td>-1748.485775</td>\n",
              "      <td>0.798666</td>\n",
              "      <td>160485.423256</td>\n",
              "      <td>130259.546853</td>\n",
              "      <td>False</td>\n",
              "      <td>True</td>\n",
              "    </tr>\n",
              "    <tr>\n",
              "      <th>997</th>\n",
              "      <td>ORD_00998</td>\n",
              "      <td>2025-09-24</td>\n",
              "      <td>Store_008</td>\n",
              "      <td>Electronics</td>\n",
              "      <td>Tablet</td>\n",
              "      <td>4.0</td>\n",
              "      <td>48684.0</td>\n",
              "      <td>194736.0</td>\n",
              "      <td>CUST_4805</td>\n",
              "      <td>30.0</td>\n",
              "      <td>...</td>\n",
              "      <td>False</td>\n",
              "      <td>20代</td>\n",
              "      <td>194736.0</td>\n",
              "      <td>100858.426294</td>\n",
              "      <td>-52174.426294</td>\n",
              "      <td>0.482696</td>\n",
              "      <td>160485.423256</td>\n",
              "      <td>125584.804196</td>\n",
              "      <td>False</td>\n",
              "      <td>False</td>\n",
              "    </tr>\n",
              "    <tr>\n",
              "      <th>998</th>\n",
              "      <td>ORD_00999</td>\n",
              "      <td>2025-09-25</td>\n",
              "      <td>Store_002</td>\n",
              "      <td>Home</td>\n",
              "      <td>Cookware</td>\n",
              "      <td>8.0</td>\n",
              "      <td>4879.0</td>\n",
              "      <td>39032.0</td>\n",
              "      <td>CUST_7419</td>\n",
              "      <td>59.0</td>\n",
              "      <td>...</td>\n",
              "      <td>False</td>\n",
              "      <td>50代</td>\n",
              "      <td>39032.0</td>\n",
              "      <td>8684.485775</td>\n",
              "      <td>-3805.485775</td>\n",
              "      <td>0.561806</td>\n",
              "      <td>160485.423256</td>\n",
              "      <td>160544.525874</td>\n",
              "      <td>False</td>\n",
              "      <td>False</td>\n",
              "    </tr>\n",
              "    <tr>\n",
              "      <th>999</th>\n",
              "      <td>ORD_01000</td>\n",
              "      <td>2025-09-26</td>\n",
              "      <td>Store_009</td>\n",
              "      <td>Clothing</td>\n",
              "      <td>Dress</td>\n",
              "      <td>6.0</td>\n",
              "      <td>1693.0</td>\n",
              "      <td>8126.4</td>\n",
              "      <td>CUST_6750</td>\n",
              "      <td>26.0</td>\n",
              "      <td>...</td>\n",
              "      <td>True</td>\n",
              "      <td>20代</td>\n",
              "      <td>10158.0</td>\n",
              "      <td>8753.883527</td>\n",
              "      <td>-7060.883527</td>\n",
              "      <td>0.193400</td>\n",
              "      <td>160485.423256</td>\n",
              "      <td>138059.148951</td>\n",
              "      <td>False</td>\n",
              "      <td>False</td>\n",
              "    </tr>\n",
              "  </tbody>\n",
              "</table>\n",
              "<p>1000 rows × 36 columns</p>\n",
              "</div>\n",
              "    <div class=\"colab-df-buttons\">\n",
              "\n",
              "  <div class=\"colab-df-container\">\n",
              "    <button class=\"colab-df-convert\" onclick=\"convertToInteractive('df-e7e062dc-f605-4dc3-8994-6268b0c3f0c9')\"\n",
              "            title=\"Convert this dataframe to an interactive table.\"\n",
              "            style=\"display:none;\">\n",
              "\n",
              "  <svg xmlns=\"http://www.w3.org/2000/svg\" height=\"24px\" viewBox=\"0 -960 960 960\">\n",
              "    <path d=\"M120-120v-720h720v720H120Zm60-500h600v-160H180v160Zm220 220h160v-160H400v160Zm0 220h160v-160H400v160ZM180-400h160v-160H180v160Zm440 0h160v-160H620v160ZM180-180h160v-160H180v160Zm440 0h160v-160H620v160Z\"/>\n",
              "  </svg>\n",
              "    </button>\n",
              "\n",
              "  <style>\n",
              "    .colab-df-container {\n",
              "      display:flex;\n",
              "      gap: 12px;\n",
              "    }\n",
              "\n",
              "    .colab-df-convert {\n",
              "      background-color: #E8F0FE;\n",
              "      border: none;\n",
              "      border-radius: 50%;\n",
              "      cursor: pointer;\n",
              "      display: none;\n",
              "      fill: #1967D2;\n",
              "      height: 32px;\n",
              "      padding: 0 0 0 0;\n",
              "      width: 32px;\n",
              "    }\n",
              "\n",
              "    .colab-df-convert:hover {\n",
              "      background-color: #E2EBFA;\n",
              "      box-shadow: 0px 1px 2px rgba(60, 64, 67, 0.3), 0px 1px 3px 1px rgba(60, 64, 67, 0.15);\n",
              "      fill: #174EA6;\n",
              "    }\n",
              "\n",
              "    .colab-df-buttons div {\n",
              "      margin-bottom: 4px;\n",
              "    }\n",
              "\n",
              "    [theme=dark] .colab-df-convert {\n",
              "      background-color: #3B4455;\n",
              "      fill: #D2E3FC;\n",
              "    }\n",
              "\n",
              "    [theme=dark] .colab-df-convert:hover {\n",
              "      background-color: #434B5C;\n",
              "      box-shadow: 0px 1px 3px 1px rgba(0, 0, 0, 0.15);\n",
              "      filter: drop-shadow(0px 1px 2px rgba(0, 0, 0, 0.3));\n",
              "      fill: #FFFFFF;\n",
              "    }\n",
              "  </style>\n",
              "\n",
              "    <script>\n",
              "      const buttonEl =\n",
              "        document.querySelector('#df-e7e062dc-f605-4dc3-8994-6268b0c3f0c9 button.colab-df-convert');\n",
              "      buttonEl.style.display =\n",
              "        google.colab.kernel.accessAllowed ? 'block' : 'none';\n",
              "\n",
              "      async function convertToInteractive(key) {\n",
              "        const element = document.querySelector('#df-e7e062dc-f605-4dc3-8994-6268b0c3f0c9');\n",
              "        const dataTable =\n",
              "          await google.colab.kernel.invokeFunction('convertToInteractive',\n",
              "                                                    [key], {});\n",
              "        if (!dataTable) return;\n",
              "\n",
              "        const docLinkHtml = 'Like what you see? Visit the ' +\n",
              "          '<a target=\"_blank\" href=https://colab.research.google.com/notebooks/data_table.ipynb>data table notebook</a>'\n",
              "          + ' to learn more about interactive tables.';\n",
              "        element.innerHTML = '';\n",
              "        dataTable['output_type'] = 'display_data';\n",
              "        await google.colab.output.renderOutput(dataTable, element);\n",
              "        const docLink = document.createElement('div');\n",
              "        docLink.innerHTML = docLinkHtml;\n",
              "        element.appendChild(docLink);\n",
              "      }\n",
              "    </script>\n",
              "  </div>\n",
              "\n",
              "\n",
              "    <div id=\"df-14ccf067-d65c-4864-8da2-99f59f5425ad\">\n",
              "      <button class=\"colab-df-quickchart\" onclick=\"quickchart('df-14ccf067-d65c-4864-8da2-99f59f5425ad')\"\n",
              "                title=\"Suggest charts\"\n",
              "                style=\"display:none;\">\n",
              "\n",
              "<svg xmlns=\"http://www.w3.org/2000/svg\" height=\"24px\"viewBox=\"0 0 24 24\"\n",
              "     width=\"24px\">\n",
              "    <g>\n",
              "        <path d=\"M19 3H5c-1.1 0-2 .9-2 2v14c0 1.1.9 2 2 2h14c1.1 0 2-.9 2-2V5c0-1.1-.9-2-2-2zM9 17H7v-7h2v7zm4 0h-2V7h2v10zm4 0h-2v-4h2v4z\"/>\n",
              "    </g>\n",
              "</svg>\n",
              "      </button>\n",
              "\n",
              "<style>\n",
              "  .colab-df-quickchart {\n",
              "      --bg-color: #E8F0FE;\n",
              "      --fill-color: #1967D2;\n",
              "      --hover-bg-color: #E2EBFA;\n",
              "      --hover-fill-color: #174EA6;\n",
              "      --disabled-fill-color: #AAA;\n",
              "      --disabled-bg-color: #DDD;\n",
              "  }\n",
              "\n",
              "  [theme=dark] .colab-df-quickchart {\n",
              "      --bg-color: #3B4455;\n",
              "      --fill-color: #D2E3FC;\n",
              "      --hover-bg-color: #434B5C;\n",
              "      --hover-fill-color: #FFFFFF;\n",
              "      --disabled-bg-color: #3B4455;\n",
              "      --disabled-fill-color: #666;\n",
              "  }\n",
              "\n",
              "  .colab-df-quickchart {\n",
              "    background-color: var(--bg-color);\n",
              "    border: none;\n",
              "    border-radius: 50%;\n",
              "    cursor: pointer;\n",
              "    display: none;\n",
              "    fill: var(--fill-color);\n",
              "    height: 32px;\n",
              "    padding: 0;\n",
              "    width: 32px;\n",
              "  }\n",
              "\n",
              "  .colab-df-quickchart:hover {\n",
              "    background-color: var(--hover-bg-color);\n",
              "    box-shadow: 0 1px 2px rgba(60, 64, 67, 0.3), 0 1px 3px 1px rgba(60, 64, 67, 0.15);\n",
              "    fill: var(--button-hover-fill-color);\n",
              "  }\n",
              "\n",
              "  .colab-df-quickchart-complete:disabled,\n",
              "  .colab-df-quickchart-complete:disabled:hover {\n",
              "    background-color: var(--disabled-bg-color);\n",
              "    fill: var(--disabled-fill-color);\n",
              "    box-shadow: none;\n",
              "  }\n",
              "\n",
              "  .colab-df-spinner {\n",
              "    border: 2px solid var(--fill-color);\n",
              "    border-color: transparent;\n",
              "    border-bottom-color: var(--fill-color);\n",
              "    animation:\n",
              "      spin 1s steps(1) infinite;\n",
              "  }\n",
              "\n",
              "  @keyframes spin {\n",
              "    0% {\n",
              "      border-color: transparent;\n",
              "      border-bottom-color: var(--fill-color);\n",
              "      border-left-color: var(--fill-color);\n",
              "    }\n",
              "    20% {\n",
              "      border-color: transparent;\n",
              "      border-left-color: var(--fill-color);\n",
              "      border-top-color: var(--fill-color);\n",
              "    }\n",
              "    30% {\n",
              "      border-color: transparent;\n",
              "      border-left-color: var(--fill-color);\n",
              "      border-top-color: var(--fill-color);\n",
              "      border-right-color: var(--fill-color);\n",
              "    }\n",
              "    40% {\n",
              "      border-color: transparent;\n",
              "      border-right-color: var(--fill-color);\n",
              "      border-top-color: var(--fill-color);\n",
              "    }\n",
              "    60% {\n",
              "      border-color: transparent;\n",
              "      border-right-color: var(--fill-color);\n",
              "    }\n",
              "    80% {\n",
              "      border-color: transparent;\n",
              "      border-right-color: var(--fill-color);\n",
              "      border-bottom-color: var(--fill-color);\n",
              "    }\n",
              "    90% {\n",
              "      border-color: transparent;\n",
              "      border-bottom-color: var(--fill-color);\n",
              "    }\n",
              "  }\n",
              "</style>\n",
              "\n",
              "      <script>\n",
              "        async function quickchart(key) {\n",
              "          const quickchartButtonEl =\n",
              "            document.querySelector('#' + key + ' button');\n",
              "          quickchartButtonEl.disabled = true;  // To prevent multiple clicks.\n",
              "          quickchartButtonEl.classList.add('colab-df-spinner');\n",
              "          try {\n",
              "            const charts = await google.colab.kernel.invokeFunction(\n",
              "                'suggestCharts', [key], {});\n",
              "          } catch (error) {\n",
              "            console.error('Error during call to suggestCharts:', error);\n",
              "          }\n",
              "          quickchartButtonEl.classList.remove('colab-df-spinner');\n",
              "          quickchartButtonEl.classList.add('colab-df-quickchart-complete');\n",
              "        }\n",
              "        (() => {\n",
              "          let quickchartButtonEl =\n",
              "            document.querySelector('#df-14ccf067-d65c-4864-8da2-99f59f5425ad button');\n",
              "          quickchartButtonEl.style.display =\n",
              "            google.colab.kernel.accessAllowed ? 'block' : 'none';\n",
              "        })();\n",
              "      </script>\n",
              "    </div>\n",
              "\n",
              "  <div id=\"id_4e873968-b947-4f83-8ac1-529339f328cc\">\n",
              "    <style>\n",
              "      .colab-df-generate {\n",
              "        background-color: #E8F0FE;\n",
              "        border: none;\n",
              "        border-radius: 50%;\n",
              "        cursor: pointer;\n",
              "        display: none;\n",
              "        fill: #1967D2;\n",
              "        height: 32px;\n",
              "        padding: 0 0 0 0;\n",
              "        width: 32px;\n",
              "      }\n",
              "\n",
              "      .colab-df-generate:hover {\n",
              "        background-color: #E2EBFA;\n",
              "        box-shadow: 0px 1px 2px rgba(60, 64, 67, 0.3), 0px 1px 3px 1px rgba(60, 64, 67, 0.15);\n",
              "        fill: #174EA6;\n",
              "      }\n",
              "\n",
              "      [theme=dark] .colab-df-generate {\n",
              "        background-color: #3B4455;\n",
              "        fill: #D2E3FC;\n",
              "      }\n",
              "\n",
              "      [theme=dark] .colab-df-generate:hover {\n",
              "        background-color: #434B5C;\n",
              "        box-shadow: 0px 1px 3px 1px rgba(0, 0, 0, 0.15);\n",
              "        filter: drop-shadow(0px 1px 2px rgba(0, 0, 0, 0.3));\n",
              "        fill: #FFFFFF;\n",
              "      }\n",
              "    </style>\n",
              "    <button class=\"colab-df-generate\" onclick=\"generateWithVariable('df_featured')\"\n",
              "            title=\"Generate code using this dataframe.\"\n",
              "            style=\"display:none;\">\n",
              "\n",
              "  <svg xmlns=\"http://www.w3.org/2000/svg\" height=\"24px\"viewBox=\"0 0 24 24\"\n",
              "       width=\"24px\">\n",
              "    <path d=\"M7,19H8.4L18.45,9,17,7.55,7,17.6ZM5,21V16.75L18.45,3.32a2,2,0,0,1,2.83,0l1.4,1.43a1.91,1.91,0,0,1,.58,1.4,1.91,1.91,0,0,1-.58,1.4L9.25,21ZM18.45,9,17,7.55Zm-12,3A5.31,5.31,0,0,0,4.9,8.1,5.31,5.31,0,0,0,1,6.5,5.31,5.31,0,0,0,4.9,4.9,5.31,5.31,0,0,0,6.5,1,5.31,5.31,0,0,0,8.1,4.9,5.31,5.31,0,0,0,12,6.5,5.46,5.46,0,0,0,6.5,12Z\"/>\n",
              "  </svg>\n",
              "    </button>\n",
              "    <script>\n",
              "      (() => {\n",
              "      const buttonEl =\n",
              "        document.querySelector('#id_4e873968-b947-4f83-8ac1-529339f328cc button.colab-df-generate');\n",
              "      buttonEl.style.display =\n",
              "        google.colab.kernel.accessAllowed ? 'block' : 'none';\n",
              "\n",
              "      buttonEl.onclick = () => {\n",
              "        google.colab.notebook.generateWithVariable('df_featured');\n",
              "      }\n",
              "      })();\n",
              "    </script>\n",
              "  </div>\n",
              "\n",
              "    </div>\n",
              "  </div>\n"
            ],
            "application/vnd.google.colaboratory.intrinsic+json": {
              "type": "dataframe",
              "variable_name": "df_featured"
            }
          },
          "metadata": {},
          "execution_count": 39
        }
      ]
    },
    {
      "cell_type": "code",
      "source": [
        "# 季節性の特徴量\n",
        "\n",
        "print(\"\\n季節性特徴量を作成:\")\n",
        "\n",
        "# 四半期\n",
        "if 'order_month' in df_featured.columns:\n",
        "    def get_quarter(month):\n",
        "        if month in [1, 2, 3]:\n",
        "            return 1\n",
        "        elif month in [4, 5, 6]:\n",
        "            return 2\n",
        "        elif month in [7, 8, 9]:\n",
        "            return 3\n",
        "        else:\n",
        "            return 4\n",
        "\n",
        "    df_featured['quarter'] = df_featured['order_month'].apply(get_quarter)\n",
        "    print(\"四半期を追加\")\n",
        "\n",
        "# 繁忙期フラグ（12月と8月）\n",
        "if 'order_month' in df_featured.columns:\n",
        "    df_featured['is_peak_season'] = df_featured['order_month'].isin([8, 12])\n",
        "    print(\"繁忙期フラグを追加\")"
      ],
      "metadata": {
        "colab": {
          "base_uri": "https://localhost:8080/"
        },
        "id": "RJgjgwPhYShb",
        "outputId": "d0684a5c-f6d3-4834-b172-af645147468f"
      },
      "execution_count": 40,
      "outputs": [
        {
          "output_type": "stream",
          "name": "stdout",
          "text": [
            "\n",
            "季節性特徴量を作成:\n",
            "四半期を追加\n",
            "繁忙期フラグを追加\n"
          ]
        }
      ]
    },
    {
      "cell_type": "code",
      "source": [
        "df_featured"
      ],
      "metadata": {
        "colab": {
          "base_uri": "https://localhost:8080/",
          "height": 617
        },
        "id": "PfFJwA1QYbip",
        "outputId": "c9e405e6-a4c6-48b4-da87-3c6595ec10b4"
      },
      "execution_count": 41,
      "outputs": [
        {
          "output_type": "execute_result",
          "data": {
            "text/plain": [
              "      order_id order_date   store_id product_category product_name  quantity  \\\n",
              "0    ORD_00001 2023-01-01  Store_007         Clothing      T-Shirt       8.0   \n",
              "1    ORD_00002 2023-01-02  Store_004             Food       Drinks       8.0   \n",
              "2    ORD_00003 2023-01-03  Store_008             Food       Snacks       9.0   \n",
              "3    ORD_00004 2023-01-04  Store_005      Electronics   Smartphone       7.0   \n",
              "4    ORD_00005 2023-01-05  Store_007             Home        Decor       1.0   \n",
              "..         ...        ...        ...              ...          ...       ...   \n",
              "995  ORD_00996 2025-09-22  Store_010         Clothing       Jacket      10.0   \n",
              "996  ORD_00997 2025-09-23  Store_010             Home     Cookware      10.0   \n",
              "997  ORD_00998 2025-09-24  Store_008      Electronics       Tablet       4.0   \n",
              "998  ORD_00999 2025-09-25  Store_002             Home     Cookware       8.0   \n",
              "999  ORD_01000 2025-09-26  Store_009         Clothing        Dress       6.0   \n",
              "\n",
              "     unit_price  total_sales customer_id  customer_age  ... purchase_power  \\\n",
              "0        1409.0      11272.0   CUST_9851          29.0  ...        11272.0   \n",
              "1        2106.0      16848.0   CUST_1159          66.0  ...        16848.0   \n",
              "2        1243.0      11187.0   CUST_7555          34.0  ...        11187.0   \n",
              "3      182392.0    1149069.6   CUST_9244          59.0  ...      1276744.0   \n",
              "4        2712.0       2169.6   CUST_7846          47.0  ...         2712.0   \n",
              "..          ...          ...         ...           ...  ...            ...   \n",
              "995      6021.0      60210.0   CUST_8431          61.0  ...        60210.0   \n",
              "996      6936.0      48552.0   CUST_2230          51.0  ...        69360.0   \n",
              "997     48684.0     194736.0   CUST_4805          30.0  ...       194736.0   \n",
              "998      4879.0      39032.0   CUST_7419          59.0  ...        39032.0   \n",
              "999      1693.0       8126.4   CUST_6750          26.0  ...        10158.0   \n",
              "\n",
              "    category_avg_price price_vs_category  price_ratio_to_category  \\\n",
              "0          8753.883527      -7344.883527                 0.160957   \n",
              "1          4796.521260      -2690.521260                 0.439068   \n",
              "2          4796.521260      -3553.521260                 0.259146   \n",
              "3        100858.426294      81533.573706                 1.808396   \n",
              "4          8684.485775      -5972.485775                 0.312281   \n",
              "..                 ...               ...                      ...   \n",
              "995        8753.883527      -2732.883527                 0.687809   \n",
              "996        8684.485775      -1748.485775                 0.798666   \n",
              "997      100858.426294     -52174.426294                 0.482696   \n",
              "998        8684.485775      -3805.485775                 0.561806   \n",
              "999        8753.883527      -7060.883527                 0.193400   \n",
              "\n",
              "     monthly_avg_sales  weekday_avg_sales  is_high_value  is_bulk_purchase  \\\n",
              "0        175257.903226      113583.806993          False             False   \n",
              "1        175257.903226      100738.226573          False             False   \n",
              "2        175257.903226      130259.546853          False              True   \n",
              "3        175257.903226      125584.804196           True             False   \n",
              "4        175257.903226      160544.525874          False             False   \n",
              "..                 ...                ...            ...               ...   \n",
              "995      160485.423256      100738.226573          False              True   \n",
              "996      160485.423256      130259.546853          False              True   \n",
              "997      160485.423256      125584.804196          False             False   \n",
              "998      160485.423256      160544.525874          False             False   \n",
              "999      160485.423256      138059.148951          False             False   \n",
              "\n",
              "     quarter  is_peak_season  \n",
              "0          1           False  \n",
              "1          1           False  \n",
              "2          1           False  \n",
              "3          1           False  \n",
              "4          1           False  \n",
              "..       ...             ...  \n",
              "995        3           False  \n",
              "996        3           False  \n",
              "997        3           False  \n",
              "998        3           False  \n",
              "999        3           False  \n",
              "\n",
              "[1000 rows x 38 columns]"
            ],
            "text/html": [
              "\n",
              "  <div id=\"df-67756d48-0e27-4b38-a9ae-ac344c19416a\" class=\"colab-df-container\">\n",
              "    <div>\n",
              "<style scoped>\n",
              "    .dataframe tbody tr th:only-of-type {\n",
              "        vertical-align: middle;\n",
              "    }\n",
              "\n",
              "    .dataframe tbody tr th {\n",
              "        vertical-align: top;\n",
              "    }\n",
              "\n",
              "    .dataframe thead th {\n",
              "        text-align: right;\n",
              "    }\n",
              "</style>\n",
              "<table border=\"1\" class=\"dataframe\">\n",
              "  <thead>\n",
              "    <tr style=\"text-align: right;\">\n",
              "      <th></th>\n",
              "      <th>order_id</th>\n",
              "      <th>order_date</th>\n",
              "      <th>store_id</th>\n",
              "      <th>product_category</th>\n",
              "      <th>product_name</th>\n",
              "      <th>quantity</th>\n",
              "      <th>unit_price</th>\n",
              "      <th>total_sales</th>\n",
              "      <th>customer_id</th>\n",
              "      <th>customer_age</th>\n",
              "      <th>...</th>\n",
              "      <th>purchase_power</th>\n",
              "      <th>category_avg_price</th>\n",
              "      <th>price_vs_category</th>\n",
              "      <th>price_ratio_to_category</th>\n",
              "      <th>monthly_avg_sales</th>\n",
              "      <th>weekday_avg_sales</th>\n",
              "      <th>is_high_value</th>\n",
              "      <th>is_bulk_purchase</th>\n",
              "      <th>quarter</th>\n",
              "      <th>is_peak_season</th>\n",
              "    </tr>\n",
              "  </thead>\n",
              "  <tbody>\n",
              "    <tr>\n",
              "      <th>0</th>\n",
              "      <td>ORD_00001</td>\n",
              "      <td>2023-01-01</td>\n",
              "      <td>Store_007</td>\n",
              "      <td>Clothing</td>\n",
              "      <td>T-Shirt</td>\n",
              "      <td>8.0</td>\n",
              "      <td>1409.0</td>\n",
              "      <td>11272.0</td>\n",
              "      <td>CUST_9851</td>\n",
              "      <td>29.0</td>\n",
              "      <td>...</td>\n",
              "      <td>11272.0</td>\n",
              "      <td>8753.883527</td>\n",
              "      <td>-7344.883527</td>\n",
              "      <td>0.160957</td>\n",
              "      <td>175257.903226</td>\n",
              "      <td>113583.806993</td>\n",
              "      <td>False</td>\n",
              "      <td>False</td>\n",
              "      <td>1</td>\n",
              "      <td>False</td>\n",
              "    </tr>\n",
              "    <tr>\n",
              "      <th>1</th>\n",
              "      <td>ORD_00002</td>\n",
              "      <td>2023-01-02</td>\n",
              "      <td>Store_004</td>\n",
              "      <td>Food</td>\n",
              "      <td>Drinks</td>\n",
              "      <td>8.0</td>\n",
              "      <td>2106.0</td>\n",
              "      <td>16848.0</td>\n",
              "      <td>CUST_1159</td>\n",
              "      <td>66.0</td>\n",
              "      <td>...</td>\n",
              "      <td>16848.0</td>\n",
              "      <td>4796.521260</td>\n",
              "      <td>-2690.521260</td>\n",
              "      <td>0.439068</td>\n",
              "      <td>175257.903226</td>\n",
              "      <td>100738.226573</td>\n",
              "      <td>False</td>\n",
              "      <td>False</td>\n",
              "      <td>1</td>\n",
              "      <td>False</td>\n",
              "    </tr>\n",
              "    <tr>\n",
              "      <th>2</th>\n",
              "      <td>ORD_00003</td>\n",
              "      <td>2023-01-03</td>\n",
              "      <td>Store_008</td>\n",
              "      <td>Food</td>\n",
              "      <td>Snacks</td>\n",
              "      <td>9.0</td>\n",
              "      <td>1243.0</td>\n",
              "      <td>11187.0</td>\n",
              "      <td>CUST_7555</td>\n",
              "      <td>34.0</td>\n",
              "      <td>...</td>\n",
              "      <td>11187.0</td>\n",
              "      <td>4796.521260</td>\n",
              "      <td>-3553.521260</td>\n",
              "      <td>0.259146</td>\n",
              "      <td>175257.903226</td>\n",
              "      <td>130259.546853</td>\n",
              "      <td>False</td>\n",
              "      <td>True</td>\n",
              "      <td>1</td>\n",
              "      <td>False</td>\n",
              "    </tr>\n",
              "    <tr>\n",
              "      <th>3</th>\n",
              "      <td>ORD_00004</td>\n",
              "      <td>2023-01-04</td>\n",
              "      <td>Store_005</td>\n",
              "      <td>Electronics</td>\n",
              "      <td>Smartphone</td>\n",
              "      <td>7.0</td>\n",
              "      <td>182392.0</td>\n",
              "      <td>1149069.6</td>\n",
              "      <td>CUST_9244</td>\n",
              "      <td>59.0</td>\n",
              "      <td>...</td>\n",
              "      <td>1276744.0</td>\n",
              "      <td>100858.426294</td>\n",
              "      <td>81533.573706</td>\n",
              "      <td>1.808396</td>\n",
              "      <td>175257.903226</td>\n",
              "      <td>125584.804196</td>\n",
              "      <td>True</td>\n",
              "      <td>False</td>\n",
              "      <td>1</td>\n",
              "      <td>False</td>\n",
              "    </tr>\n",
              "    <tr>\n",
              "      <th>4</th>\n",
              "      <td>ORD_00005</td>\n",
              "      <td>2023-01-05</td>\n",
              "      <td>Store_007</td>\n",
              "      <td>Home</td>\n",
              "      <td>Decor</td>\n",
              "      <td>1.0</td>\n",
              "      <td>2712.0</td>\n",
              "      <td>2169.6</td>\n",
              "      <td>CUST_7846</td>\n",
              "      <td>47.0</td>\n",
              "      <td>...</td>\n",
              "      <td>2712.0</td>\n",
              "      <td>8684.485775</td>\n",
              "      <td>-5972.485775</td>\n",
              "      <td>0.312281</td>\n",
              "      <td>175257.903226</td>\n",
              "      <td>160544.525874</td>\n",
              "      <td>False</td>\n",
              "      <td>False</td>\n",
              "      <td>1</td>\n",
              "      <td>False</td>\n",
              "    </tr>\n",
              "    <tr>\n",
              "      <th>...</th>\n",
              "      <td>...</td>\n",
              "      <td>...</td>\n",
              "      <td>...</td>\n",
              "      <td>...</td>\n",
              "      <td>...</td>\n",
              "      <td>...</td>\n",
              "      <td>...</td>\n",
              "      <td>...</td>\n",
              "      <td>...</td>\n",
              "      <td>...</td>\n",
              "      <td>...</td>\n",
              "      <td>...</td>\n",
              "      <td>...</td>\n",
              "      <td>...</td>\n",
              "      <td>...</td>\n",
              "      <td>...</td>\n",
              "      <td>...</td>\n",
              "      <td>...</td>\n",
              "      <td>...</td>\n",
              "      <td>...</td>\n",
              "      <td>...</td>\n",
              "    </tr>\n",
              "    <tr>\n",
              "      <th>995</th>\n",
              "      <td>ORD_00996</td>\n",
              "      <td>2025-09-22</td>\n",
              "      <td>Store_010</td>\n",
              "      <td>Clothing</td>\n",
              "      <td>Jacket</td>\n",
              "      <td>10.0</td>\n",
              "      <td>6021.0</td>\n",
              "      <td>60210.0</td>\n",
              "      <td>CUST_8431</td>\n",
              "      <td>61.0</td>\n",
              "      <td>...</td>\n",
              "      <td>60210.0</td>\n",
              "      <td>8753.883527</td>\n",
              "      <td>-2732.883527</td>\n",
              "      <td>0.687809</td>\n",
              "      <td>160485.423256</td>\n",
              "      <td>100738.226573</td>\n",
              "      <td>False</td>\n",
              "      <td>True</td>\n",
              "      <td>3</td>\n",
              "      <td>False</td>\n",
              "    </tr>\n",
              "    <tr>\n",
              "      <th>996</th>\n",
              "      <td>ORD_00997</td>\n",
              "      <td>2025-09-23</td>\n",
              "      <td>Store_010</td>\n",
              "      <td>Home</td>\n",
              "      <td>Cookware</td>\n",
              "      <td>10.0</td>\n",
              "      <td>6936.0</td>\n",
              "      <td>48552.0</td>\n",
              "      <td>CUST_2230</td>\n",
              "      <td>51.0</td>\n",
              "      <td>...</td>\n",
              "      <td>69360.0</td>\n",
              "      <td>8684.485775</td>\n",
              "      <td>-1748.485775</td>\n",
              "      <td>0.798666</td>\n",
              "      <td>160485.423256</td>\n",
              "      <td>130259.546853</td>\n",
              "      <td>False</td>\n",
              "      <td>True</td>\n",
              "      <td>3</td>\n",
              "      <td>False</td>\n",
              "    </tr>\n",
              "    <tr>\n",
              "      <th>997</th>\n",
              "      <td>ORD_00998</td>\n",
              "      <td>2025-09-24</td>\n",
              "      <td>Store_008</td>\n",
              "      <td>Electronics</td>\n",
              "      <td>Tablet</td>\n",
              "      <td>4.0</td>\n",
              "      <td>48684.0</td>\n",
              "      <td>194736.0</td>\n",
              "      <td>CUST_4805</td>\n",
              "      <td>30.0</td>\n",
              "      <td>...</td>\n",
              "      <td>194736.0</td>\n",
              "      <td>100858.426294</td>\n",
              "      <td>-52174.426294</td>\n",
              "      <td>0.482696</td>\n",
              "      <td>160485.423256</td>\n",
              "      <td>125584.804196</td>\n",
              "      <td>False</td>\n",
              "      <td>False</td>\n",
              "      <td>3</td>\n",
              "      <td>False</td>\n",
              "    </tr>\n",
              "    <tr>\n",
              "      <th>998</th>\n",
              "      <td>ORD_00999</td>\n",
              "      <td>2025-09-25</td>\n",
              "      <td>Store_002</td>\n",
              "      <td>Home</td>\n",
              "      <td>Cookware</td>\n",
              "      <td>8.0</td>\n",
              "      <td>4879.0</td>\n",
              "      <td>39032.0</td>\n",
              "      <td>CUST_7419</td>\n",
              "      <td>59.0</td>\n",
              "      <td>...</td>\n",
              "      <td>39032.0</td>\n",
              "      <td>8684.485775</td>\n",
              "      <td>-3805.485775</td>\n",
              "      <td>0.561806</td>\n",
              "      <td>160485.423256</td>\n",
              "      <td>160544.525874</td>\n",
              "      <td>False</td>\n",
              "      <td>False</td>\n",
              "      <td>3</td>\n",
              "      <td>False</td>\n",
              "    </tr>\n",
              "    <tr>\n",
              "      <th>999</th>\n",
              "      <td>ORD_01000</td>\n",
              "      <td>2025-09-26</td>\n",
              "      <td>Store_009</td>\n",
              "      <td>Clothing</td>\n",
              "      <td>Dress</td>\n",
              "      <td>6.0</td>\n",
              "      <td>1693.0</td>\n",
              "      <td>8126.4</td>\n",
              "      <td>CUST_6750</td>\n",
              "      <td>26.0</td>\n",
              "      <td>...</td>\n",
              "      <td>10158.0</td>\n",
              "      <td>8753.883527</td>\n",
              "      <td>-7060.883527</td>\n",
              "      <td>0.193400</td>\n",
              "      <td>160485.423256</td>\n",
              "      <td>138059.148951</td>\n",
              "      <td>False</td>\n",
              "      <td>False</td>\n",
              "      <td>3</td>\n",
              "      <td>False</td>\n",
              "    </tr>\n",
              "  </tbody>\n",
              "</table>\n",
              "<p>1000 rows × 38 columns</p>\n",
              "</div>\n",
              "    <div class=\"colab-df-buttons\">\n",
              "\n",
              "  <div class=\"colab-df-container\">\n",
              "    <button class=\"colab-df-convert\" onclick=\"convertToInteractive('df-67756d48-0e27-4b38-a9ae-ac344c19416a')\"\n",
              "            title=\"Convert this dataframe to an interactive table.\"\n",
              "            style=\"display:none;\">\n",
              "\n",
              "  <svg xmlns=\"http://www.w3.org/2000/svg\" height=\"24px\" viewBox=\"0 -960 960 960\">\n",
              "    <path d=\"M120-120v-720h720v720H120Zm60-500h600v-160H180v160Zm220 220h160v-160H400v160Zm0 220h160v-160H400v160ZM180-400h160v-160H180v160Zm440 0h160v-160H620v160ZM180-180h160v-160H180v160Zm440 0h160v-160H620v160Z\"/>\n",
              "  </svg>\n",
              "    </button>\n",
              "\n",
              "  <style>\n",
              "    .colab-df-container {\n",
              "      display:flex;\n",
              "      gap: 12px;\n",
              "    }\n",
              "\n",
              "    .colab-df-convert {\n",
              "      background-color: #E8F0FE;\n",
              "      border: none;\n",
              "      border-radius: 50%;\n",
              "      cursor: pointer;\n",
              "      display: none;\n",
              "      fill: #1967D2;\n",
              "      height: 32px;\n",
              "      padding: 0 0 0 0;\n",
              "      width: 32px;\n",
              "    }\n",
              "\n",
              "    .colab-df-convert:hover {\n",
              "      background-color: #E2EBFA;\n",
              "      box-shadow: 0px 1px 2px rgba(60, 64, 67, 0.3), 0px 1px 3px 1px rgba(60, 64, 67, 0.15);\n",
              "      fill: #174EA6;\n",
              "    }\n",
              "\n",
              "    .colab-df-buttons div {\n",
              "      margin-bottom: 4px;\n",
              "    }\n",
              "\n",
              "    [theme=dark] .colab-df-convert {\n",
              "      background-color: #3B4455;\n",
              "      fill: #D2E3FC;\n",
              "    }\n",
              "\n",
              "    [theme=dark] .colab-df-convert:hover {\n",
              "      background-color: #434B5C;\n",
              "      box-shadow: 0px 1px 3px 1px rgba(0, 0, 0, 0.15);\n",
              "      filter: drop-shadow(0px 1px 2px rgba(0, 0, 0, 0.3));\n",
              "      fill: #FFFFFF;\n",
              "    }\n",
              "  </style>\n",
              "\n",
              "    <script>\n",
              "      const buttonEl =\n",
              "        document.querySelector('#df-67756d48-0e27-4b38-a9ae-ac344c19416a button.colab-df-convert');\n",
              "      buttonEl.style.display =\n",
              "        google.colab.kernel.accessAllowed ? 'block' : 'none';\n",
              "\n",
              "      async function convertToInteractive(key) {\n",
              "        const element = document.querySelector('#df-67756d48-0e27-4b38-a9ae-ac344c19416a');\n",
              "        const dataTable =\n",
              "          await google.colab.kernel.invokeFunction('convertToInteractive',\n",
              "                                                    [key], {});\n",
              "        if (!dataTable) return;\n",
              "\n",
              "        const docLinkHtml = 'Like what you see? Visit the ' +\n",
              "          '<a target=\"_blank\" href=https://colab.research.google.com/notebooks/data_table.ipynb>data table notebook</a>'\n",
              "          + ' to learn more about interactive tables.';\n",
              "        element.innerHTML = '';\n",
              "        dataTable['output_type'] = 'display_data';\n",
              "        await google.colab.output.renderOutput(dataTable, element);\n",
              "        const docLink = document.createElement('div');\n",
              "        docLink.innerHTML = docLinkHtml;\n",
              "        element.appendChild(docLink);\n",
              "      }\n",
              "    </script>\n",
              "  </div>\n",
              "\n",
              "\n",
              "    <div id=\"df-a134c9cc-dc9f-443b-b589-474e252810f1\">\n",
              "      <button class=\"colab-df-quickchart\" onclick=\"quickchart('df-a134c9cc-dc9f-443b-b589-474e252810f1')\"\n",
              "                title=\"Suggest charts\"\n",
              "                style=\"display:none;\">\n",
              "\n",
              "<svg xmlns=\"http://www.w3.org/2000/svg\" height=\"24px\"viewBox=\"0 0 24 24\"\n",
              "     width=\"24px\">\n",
              "    <g>\n",
              "        <path d=\"M19 3H5c-1.1 0-2 .9-2 2v14c0 1.1.9 2 2 2h14c1.1 0 2-.9 2-2V5c0-1.1-.9-2-2-2zM9 17H7v-7h2v7zm4 0h-2V7h2v10zm4 0h-2v-4h2v4z\"/>\n",
              "    </g>\n",
              "</svg>\n",
              "      </button>\n",
              "\n",
              "<style>\n",
              "  .colab-df-quickchart {\n",
              "      --bg-color: #E8F0FE;\n",
              "      --fill-color: #1967D2;\n",
              "      --hover-bg-color: #E2EBFA;\n",
              "      --hover-fill-color: #174EA6;\n",
              "      --disabled-fill-color: #AAA;\n",
              "      --disabled-bg-color: #DDD;\n",
              "  }\n",
              "\n",
              "  [theme=dark] .colab-df-quickchart {\n",
              "      --bg-color: #3B4455;\n",
              "      --fill-color: #D2E3FC;\n",
              "      --hover-bg-color: #434B5C;\n",
              "      --hover-fill-color: #FFFFFF;\n",
              "      --disabled-bg-color: #3B4455;\n",
              "      --disabled-fill-color: #666;\n",
              "  }\n",
              "\n",
              "  .colab-df-quickchart {\n",
              "    background-color: var(--bg-color);\n",
              "    border: none;\n",
              "    border-radius: 50%;\n",
              "    cursor: pointer;\n",
              "    display: none;\n",
              "    fill: var(--fill-color);\n",
              "    height: 32px;\n",
              "    padding: 0;\n",
              "    width: 32px;\n",
              "  }\n",
              "\n",
              "  .colab-df-quickchart:hover {\n",
              "    background-color: var(--hover-bg-color);\n",
              "    box-shadow: 0 1px 2px rgba(60, 64, 67, 0.3), 0 1px 3px 1px rgba(60, 64, 67, 0.15);\n",
              "    fill: var(--button-hover-fill-color);\n",
              "  }\n",
              "\n",
              "  .colab-df-quickchart-complete:disabled,\n",
              "  .colab-df-quickchart-complete:disabled:hover {\n",
              "    background-color: var(--disabled-bg-color);\n",
              "    fill: var(--disabled-fill-color);\n",
              "    box-shadow: none;\n",
              "  }\n",
              "\n",
              "  .colab-df-spinner {\n",
              "    border: 2px solid var(--fill-color);\n",
              "    border-color: transparent;\n",
              "    border-bottom-color: var(--fill-color);\n",
              "    animation:\n",
              "      spin 1s steps(1) infinite;\n",
              "  }\n",
              "\n",
              "  @keyframes spin {\n",
              "    0% {\n",
              "      border-color: transparent;\n",
              "      border-bottom-color: var(--fill-color);\n",
              "      border-left-color: var(--fill-color);\n",
              "    }\n",
              "    20% {\n",
              "      border-color: transparent;\n",
              "      border-left-color: var(--fill-color);\n",
              "      border-top-color: var(--fill-color);\n",
              "    }\n",
              "    30% {\n",
              "      border-color: transparent;\n",
              "      border-left-color: var(--fill-color);\n",
              "      border-top-color: var(--fill-color);\n",
              "      border-right-color: var(--fill-color);\n",
              "    }\n",
              "    40% {\n",
              "      border-color: transparent;\n",
              "      border-right-color: var(--fill-color);\n",
              "      border-top-color: var(--fill-color);\n",
              "    }\n",
              "    60% {\n",
              "      border-color: transparent;\n",
              "      border-right-color: var(--fill-color);\n",
              "    }\n",
              "    80% {\n",
              "      border-color: transparent;\n",
              "      border-right-color: var(--fill-color);\n",
              "      border-bottom-color: var(--fill-color);\n",
              "    }\n",
              "    90% {\n",
              "      border-color: transparent;\n",
              "      border-bottom-color: var(--fill-color);\n",
              "    }\n",
              "  }\n",
              "</style>\n",
              "\n",
              "      <script>\n",
              "        async function quickchart(key) {\n",
              "          const quickchartButtonEl =\n",
              "            document.querySelector('#' + key + ' button');\n",
              "          quickchartButtonEl.disabled = true;  // To prevent multiple clicks.\n",
              "          quickchartButtonEl.classList.add('colab-df-spinner');\n",
              "          try {\n",
              "            const charts = await google.colab.kernel.invokeFunction(\n",
              "                'suggestCharts', [key], {});\n",
              "          } catch (error) {\n",
              "            console.error('Error during call to suggestCharts:', error);\n",
              "          }\n",
              "          quickchartButtonEl.classList.remove('colab-df-spinner');\n",
              "          quickchartButtonEl.classList.add('colab-df-quickchart-complete');\n",
              "        }\n",
              "        (() => {\n",
              "          let quickchartButtonEl =\n",
              "            document.querySelector('#df-a134c9cc-dc9f-443b-b589-474e252810f1 button');\n",
              "          quickchartButtonEl.style.display =\n",
              "            google.colab.kernel.accessAllowed ? 'block' : 'none';\n",
              "        })();\n",
              "      </script>\n",
              "    </div>\n",
              "\n",
              "  <div id=\"id_f8d50c21-cc0b-4a42-affe-912207cf7d16\">\n",
              "    <style>\n",
              "      .colab-df-generate {\n",
              "        background-color: #E8F0FE;\n",
              "        border: none;\n",
              "        border-radius: 50%;\n",
              "        cursor: pointer;\n",
              "        display: none;\n",
              "        fill: #1967D2;\n",
              "        height: 32px;\n",
              "        padding: 0 0 0 0;\n",
              "        width: 32px;\n",
              "      }\n",
              "\n",
              "      .colab-df-generate:hover {\n",
              "        background-color: #E2EBFA;\n",
              "        box-shadow: 0px 1px 2px rgba(60, 64, 67, 0.3), 0px 1px 3px 1px rgba(60, 64, 67, 0.15);\n",
              "        fill: #174EA6;\n",
              "      }\n",
              "\n",
              "      [theme=dark] .colab-df-generate {\n",
              "        background-color: #3B4455;\n",
              "        fill: #D2E3FC;\n",
              "      }\n",
              "\n",
              "      [theme=dark] .colab-df-generate:hover {\n",
              "        background-color: #434B5C;\n",
              "        box-shadow: 0px 1px 3px 1px rgba(0, 0, 0, 0.15);\n",
              "        filter: drop-shadow(0px 1px 2px rgba(0, 0, 0, 0.3));\n",
              "        fill: #FFFFFF;\n",
              "      }\n",
              "    </style>\n",
              "    <button class=\"colab-df-generate\" onclick=\"generateWithVariable('df_featured')\"\n",
              "            title=\"Generate code using this dataframe.\"\n",
              "            style=\"display:none;\">\n",
              "\n",
              "  <svg xmlns=\"http://www.w3.org/2000/svg\" height=\"24px\"viewBox=\"0 0 24 24\"\n",
              "       width=\"24px\">\n",
              "    <path d=\"M7,19H8.4L18.45,9,17,7.55,7,17.6ZM5,21V16.75L18.45,3.32a2,2,0,0,1,2.83,0l1.4,1.43a1.91,1.91,0,0,1,.58,1.4,1.91,1.91,0,0,1-.58,1.4L9.25,21ZM18.45,9,17,7.55Zm-12,3A5.31,5.31,0,0,0,4.9,8.1,5.31,5.31,0,0,0,1,6.5,5.31,5.31,0,0,0,4.9,4.9,5.31,5.31,0,0,0,6.5,1,5.31,5.31,0,0,0,8.1,4.9,5.31,5.31,0,0,0,12,6.5,5.46,5.46,0,0,0,6.5,12Z\"/>\n",
              "  </svg>\n",
              "    </button>\n",
              "    <script>\n",
              "      (() => {\n",
              "      const buttonEl =\n",
              "        document.querySelector('#id_f8d50c21-cc0b-4a42-affe-912207cf7d16 button.colab-df-generate');\n",
              "      buttonEl.style.display =\n",
              "        google.colab.kernel.accessAllowed ? 'block' : 'none';\n",
              "\n",
              "      buttonEl.onclick = () => {\n",
              "        google.colab.notebook.generateWithVariable('df_featured');\n",
              "      }\n",
              "      })();\n",
              "    </script>\n",
              "  </div>\n",
              "\n",
              "    </div>\n",
              "  </div>\n"
            ],
            "application/vnd.google.colaboratory.intrinsic+json": {
              "type": "dataframe",
              "variable_name": "df_featured"
            }
          },
          "metadata": {},
          "execution_count": 41
        }
      ]
    },
    {
      "cell_type": "code",
      "source": [
        "# 新しい特徴量だけを表示\n",
        "new_features = [col for col in df_featured.columns if col not in df_clean.columns]\n",
        "print(f\"新しく作成した特徴量 ({len(new_features)}個):\")\n",
        "for feature in new_features:\n",
        "    print(f\"  - {feature}\")\n",
        "\n",
        "# データの基本情報を表示\n",
        "print(f\"\\nデータ形状: {df_featured.shape}\")\n",
        "print(f\"列数: {len(df_featured.columns)}\")\n",
        "print(f\"行数: {len(df_featured)}\")\n",
        "\n",
        "# 最初の数行を確認\n",
        "print(\"\\n最初の3行を表示:\")\n",
        "print(df_featured.head(3))"
      ],
      "metadata": {
        "colab": {
          "base_uri": "https://localhost:8080/"
        },
        "id": "uIKCcuqxYj_B",
        "outputId": "5a748014-eaba-4955-a941-7fc392caceb0"
      },
      "execution_count": 42,
      "outputs": [
        {
          "output_type": "stream",
          "name": "stdout",
          "text": [
            "新しく作成した特徴量 (22個):\n",
            "  - order_year\n",
            "  - order_month\n",
            "  - order_day\n",
            "  - order_weekday\n",
            "  - order_weekday_jp\n",
            "  - is_weekend\n",
            "  - payment_method_code\n",
            "  - gender_code\n",
            "  - price_range\n",
            "  - sales_range\n",
            "  - has_discount\n",
            "  - age_group\n",
            "  - purchase_power\n",
            "  - category_avg_price\n",
            "  - price_vs_category\n",
            "  - price_ratio_to_category\n",
            "  - monthly_avg_sales\n",
            "  - weekday_avg_sales\n",
            "  - is_high_value\n",
            "  - is_bulk_purchase\n",
            "  - quarter\n",
            "  - is_peak_season\n",
            "\n",
            "データ形状: (1000, 38)\n",
            "列数: 38\n",
            "行数: 1000\n",
            "\n",
            "最初の3行を表示:\n",
            "    order_id order_date   store_id product_category product_name  quantity  \\\n",
            "0  ORD_00001 2023-01-01  Store_007         Clothing      T-Shirt       8.0   \n",
            "1  ORD_00002 2023-01-02  Store_004             Food       Drinks       8.0   \n",
            "2  ORD_00003 2023-01-03  Store_008             Food       Snacks       9.0   \n",
            "\n",
            "   unit_price  total_sales customer_id  customer_age  ... purchase_power  \\\n",
            "0      1409.0      11272.0   CUST_9851          29.0  ...        11272.0   \n",
            "1      2106.0      16848.0   CUST_1159          66.0  ...        16848.0   \n",
            "2      1243.0      11187.0   CUST_7555          34.0  ...        11187.0   \n",
            "\n",
            "  category_avg_price price_vs_category  price_ratio_to_category  \\\n",
            "0        8753.883527      -7344.883527                 0.160957   \n",
            "1        4796.521260      -2690.521260                 0.439068   \n",
            "2        4796.521260      -3553.521260                 0.259146   \n",
            "\n",
            "   monthly_avg_sales  weekday_avg_sales  is_high_value  is_bulk_purchase  \\\n",
            "0      175257.903226      113583.806993          False             False   \n",
            "1      175257.903226      100738.226573          False             False   \n",
            "2      175257.903226      130259.546853          False              True   \n",
            "\n",
            "   quarter  is_peak_season  \n",
            "0        1           False  \n",
            "1        1           False  \n",
            "2        1           False  \n",
            "\n",
            "[3 rows x 38 columns]\n"
          ]
        }
      ]
    },
    {
      "cell_type": "markdown",
      "source": [
        "## 4. データ分析と可視化"
      ],
      "metadata": {
        "id": "TWmuGpsxXd1e"
      }
    },
    {
      "cell_type": "markdown",
      "source": [
        "- 分析の準備"
      ],
      "metadata": {
        "id": "O0t3yCsmYtC5"
      }
    },
    {
      "cell_type": "code",
      "source": [
        "# 分析用のデータを準備\n",
        "df_analysis = df_featured.copy()\n",
        "\n",
        "print(\"分析データの確認:\")\n",
        "print(f\"データ形状: {df_analysis.shape}\")\n",
        "print(f\"分析可能期間: {df_analysis['order_date'].min()} 〜 {df_analysis['order_date'].max()}\")\n",
        "\n",
        "# 基本的な統計量の確認\n",
        "print(\"\\n基本統計量:\")\n",
        "print(df_analysis[['total_sales', 'quantity', 'unit_price']].describe().round(2))"
      ],
      "metadata": {
        "colab": {
          "base_uri": "https://localhost:8080/"
        },
        "id": "GqlAsXdgYvze",
        "outputId": "7aeb44a9-4091-4140-b24b-ef364448d825"
      },
      "execution_count": 43,
      "outputs": [
        {
          "output_type": "stream",
          "name": "stdout",
          "text": [
            "分析データの確認:\n",
            "データ形状: (1000, 38)\n",
            "分析可能期間: 2023-01-01 00:00:00 〜 2025-09-26 00:00:00\n",
            "\n",
            "基本統計量:\n",
            "       total_sales  quantity  unit_price\n",
            "count      1000.00   1000.00     1000.00\n",
            "mean     123840.35      5.51    25511.87\n",
            "std      264773.43      2.86    48010.43\n",
            "min         113.00      1.00      356.36\n",
            "25%        8821.58      3.00     2436.50\n",
            "50%       22969.45      5.00     4918.00\n",
            "75%       71988.75      8.00    12837.50\n",
            "max     1705167.00     10.45   202722.99\n"
          ]
        }
      ]
    },
    {
      "cell_type": "code",
      "source": [
        "!apt-get -y install fonts-ipafont-gothic\n",
        "!pip install japanize-matplotlib\n",
        "import japanize_matplotlib\n",
        "import matplotlib.pyplot as plt"
      ],
      "metadata": {
        "colab": {
          "base_uri": "https://localhost:8080/"
        },
        "id": "_iue3iu5aJNw",
        "outputId": "52495aea-88f3-48c8-d60f-7552cccdd8cc"
      },
      "execution_count": 51,
      "outputs": [
        {
          "output_type": "stream",
          "name": "stdout",
          "text": [
            "Reading package lists... Done\n",
            "Building dependency tree... Done\n",
            "Reading state information... Done\n",
            "fonts-ipafont-gothic is already the newest version (00303-21ubuntu1).\n",
            "0 upgraded, 0 newly installed, 0 to remove and 35 not upgraded.\n",
            "Requirement already satisfied: japanize-matplotlib in /usr/local/lib/python3.12/dist-packages (1.1.3)\n",
            "Requirement already satisfied: matplotlib in /usr/local/lib/python3.12/dist-packages (from japanize-matplotlib) (3.10.0)\n",
            "Requirement already satisfied: contourpy>=1.0.1 in /usr/local/lib/python3.12/dist-packages (from matplotlib->japanize-matplotlib) (1.3.3)\n",
            "Requirement already satisfied: cycler>=0.10 in /usr/local/lib/python3.12/dist-packages (from matplotlib->japanize-matplotlib) (0.12.1)\n",
            "Requirement already satisfied: fonttools>=4.22.0 in /usr/local/lib/python3.12/dist-packages (from matplotlib->japanize-matplotlib) (4.59.2)\n",
            "Requirement already satisfied: kiwisolver>=1.3.1 in /usr/local/lib/python3.12/dist-packages (from matplotlib->japanize-matplotlib) (1.4.9)\n",
            "Requirement already satisfied: numpy>=1.23 in /usr/local/lib/python3.12/dist-packages (from matplotlib->japanize-matplotlib) (2.0.2)\n",
            "Requirement already satisfied: packaging>=20.0 in /usr/local/lib/python3.12/dist-packages (from matplotlib->japanize-matplotlib) (25.0)\n",
            "Requirement already satisfied: pillow>=8 in /usr/local/lib/python3.12/dist-packages (from matplotlib->japanize-matplotlib) (11.3.0)\n",
            "Requirement already satisfied: pyparsing>=2.3.1 in /usr/local/lib/python3.12/dist-packages (from matplotlib->japanize-matplotlib) (3.2.3)\n",
            "Requirement already satisfied: python-dateutil>=2.7 in /usr/local/lib/python3.12/dist-packages (from matplotlib->japanize-matplotlib) (2.9.0.post0)\n",
            "Requirement already satisfied: six>=1.5 in /usr/local/lib/python3.12/dist-packages (from python-dateutil>=2.7->matplotlib->japanize-matplotlib) (1.17.0)\n"
          ]
        }
      ]
    },
    {
      "cell_type": "code",
      "source": [
        "import seaborn as sns\n",
        "import numpy as np\n",
        "\n",
        "# 場合によっては必要\n",
        "plt.rcParams['font.family'] = 'IPAPGothic'\n",
        "plt.rcParams['font.size'] = 12\n",
        "japanize_matplotlib.japanize()\n",
        "\n",
        "# スタイル設定\n",
        "sns.set_style(\"whitegrid\")\n",
        "plt.style.use('ggplot')"
      ],
      "metadata": {
        "id": "dcdUM9RKZlx_"
      },
      "execution_count": 55,
      "outputs": []
    },
    {
      "cell_type": "markdown",
      "source": [
        "- 売上トレンド分析"
      ],
      "metadata": {
        "id": "0PWXqMZUZlG_"
      }
    },
    {
      "cell_type": "code",
      "source": [
        "print(\"売上トレンド分析\")\n",
        "\n",
        "# 日別売上\n",
        "daily_sales = df_analysis.groupby('order_date')['total_sales'].sum().reset_index()\n",
        "\n",
        "# 月別売上\n",
        "monthly_sales = df_analysis.groupby('order_month')['total_sales'].sum().reset_index()\n",
        "\n",
        "print(\"月別売上:\")\n",
        "for _, row in monthly_sales.iterrows():\n",
        "    print(f\"  {row['order_month']}月: {row['total_sales']:,.0f}円\")"
      ],
      "metadata": {
        "colab": {
          "base_uri": "https://localhost:8080/"
        },
        "id": "iOtLyJizZKOl",
        "outputId": "79309370-917e-449c-b517-1340f97d182f"
      },
      "execution_count": 44,
      "outputs": [
        {
          "output_type": "stream",
          "name": "stdout",
          "text": [
            "売上トレンド分析\n",
            "月別売上:\n",
            "  1.0月: 16,298,985円\n",
            "  2.0月: 11,842,224円\n",
            "  3.0月: 9,054,413円\n",
            "  4.0月: 13,130,983円\n",
            "  5.0月: 8,939,292円\n",
            "  6.0月: 11,796,653円\n",
            "  7.0月: 8,047,531円\n",
            "  8.0月: 9,669,323円\n",
            "  9.0月: 13,801,746円\n",
            "  10.0月: 9,251,388円\n",
            "  11.0月: 4,543,436円\n",
            "  12.0月: 7,464,382円\n"
          ]
        }
      ]
    },
    {
      "cell_type": "markdown",
      "source": [
        "- 商品カテゴリ別分析"
      ],
      "metadata": {
        "id": "ZLhP3lDvaiRE"
      }
    },
    {
      "cell_type": "code",
      "source": [
        "print(\"\\n商品カテゴリ別分析\")\n",
        "\n",
        "category_sales = df_analysis.groupby('product_category')['total_sales'].sum().sort_values(ascending=False)\n",
        "category_count = df_analysis['product_category'].value_counts()\n",
        "\n",
        "print(\"カテゴリ別売上:\")\n",
        "for category, sales in category_sales.items():\n",
        "    count = category_count[category]\n",
        "    avg_sales = sales / count\n",
        "    print(f\"  {category}: {sales:,.0f}円 (平均{avg_sales:,.0f}円/件)\")"
      ],
      "metadata": {
        "colab": {
          "base_uri": "https://localhost:8080/"
        },
        "id": "o-uR-X9zZOok",
        "outputId": "6ebff2d4-7199-4817-9c9e-85870cd2ef2a"
      },
      "execution_count": 45,
      "outputs": [
        {
          "output_type": "stream",
          "name": "stdout",
          "text": [
            "\n",
            "📦 商品カテゴリ別分析\n",
            "カテゴリ別売上:\n",
            "  Electronics: 103,118,728円 (平均523,445円/件)\n",
            "  Clothing: 12,078,541円 (平均41,365円/件)\n",
            "  Home: 4,317,834円 (平均30,407円/件)\n",
            "  Food: 3,334,464円 (平均12,727円/件)\n",
            "  Books: 990,788円 (平均9,260円/件)\n"
          ]
        }
      ]
    },
    {
      "cell_type": "markdown",
      "source": [
        "- 顧客属性別分析"
      ],
      "metadata": {
        "id": "VVN8GCFmanXj"
      }
    },
    {
      "cell_type": "code",
      "source": [
        "print(\"\\n顧客属性別分析\")\n",
        "\n",
        "# 年齢層別売上\n",
        "if 'age_group' in df_analysis.columns:\n",
        "    age_sales = df_analysis.groupby('age_group')['total_sales'].sum()\n",
        "    print(\"年齢層別売上:\")\n",
        "    for age_group, sales in age_sales.items():\n",
        "        print(f\"  {age_group}: {sales:,.0f}円\")\n",
        "\n",
        "# 性別別売上\n",
        "if 'customer_gender' in df_analysis.columns:\n",
        "    gender_sales = df_analysis.groupby('customer_gender')['total_sales'].sum()\n",
        "    print(\"\\n性別別売上:\")\n",
        "    for gender, sales in gender_sales.items():\n",
        "        print(f\"  {gender}: {sales:,.0f}円\")"
      ],
      "metadata": {
        "colab": {
          "base_uri": "https://localhost:8080/"
        },
        "id": "xMAHaJBmZU9g",
        "outputId": "ab373be4-45e5-4a91-88fa-57a948407a0e"
      },
      "execution_count": 53,
      "outputs": [
        {
          "output_type": "stream",
          "name": "stdout",
          "text": [
            "\n",
            "顧客属性別分析\n",
            "年齢層別売上:\n",
            "  20代未満: 5,329,922円\n",
            "  20代: 19,824,970円\n",
            "  30代: 20,935,765円\n",
            "  40代: 22,466,047円\n",
            "  50代: 16,127,119円\n",
            "  60代以上: 38,464,114円\n",
            "\n",
            "性別別売上:\n",
            "  Female: 56,240,262円\n",
            "  Male: 61,879,066円\n",
            "  Other: 5,721,027円\n"
          ]
        },
        {
          "output_type": "stream",
          "name": "stderr",
          "text": [
            "/tmp/ipython-input-901170383.py:5: FutureWarning: The default of observed=False is deprecated and will be changed to True in a future version of pandas. Pass observed=False to retain current behavior or observed=True to adopt the future default and silence this warning.\n",
            "  age_sales = df_analysis.groupby('age_group')['total_sales'].sum()\n"
          ]
        }
      ]
    },
    {
      "cell_type": "markdown",
      "source": [
        "- 簡単な可視化"
      ],
      "metadata": {
        "id": "-NJ6HZaiZafu"
      }
    },
    {
      "cell_type": "code",
      "source": [
        "import japanize_matplotlib\n",
        "import matplotlib.pyplot as plt\n",
        "\n",
        "# 場合によっては必要\n",
        "plt.rcParams['font.family'] = 'IPAPGothic'\n",
        "japanize_matplotlib.japanize()\n",
        "\n",
        "\n",
        "print(\"棒グラフで可視化\")\n",
        "\n",
        "# カテゴリ別売上の棒グラフ\n",
        "plt.figure(figsize=(10, 6))\n",
        "category_sales.plot(kind='bar', color='skyblue')\n",
        "plt.title('商品カテゴリ別売上額')\n",
        "plt.xlabel('商品カテゴリ')\n",
        "plt.ylabel('売上額（円）')\n",
        "plt.xticks(rotation=45)\n",
        "plt.grid(True, alpha=0.3)\n",
        "plt.tight_layout()\n",
        "plt.show()"
      ],
      "metadata": {
        "colab": {
          "base_uri": "https://localhost:8080/",
          "height": 646
        },
        "id": "uBmZm4_IZflB",
        "outputId": "7f7abcc6-2a60-4d3e-f062-f1b3054ed3af"
      },
      "execution_count": 57,
      "outputs": [
        {
          "output_type": "stream",
          "name": "stdout",
          "text": [
            "棒グラフで可視化\n"
          ]
        },
        {
          "output_type": "display_data",
          "data": {
            "text/plain": [
              "<Figure size 1000x600 with 1 Axes>"
            ],
            "image/png": "[encoded data removed]"
          },
          "metadata": {}
        }
      ]
    },
    {
      "cell_type": "code",
      "source": [
        "# 月別売上の折れ線グラフ\n",
        "plt.figure(figsize=(12, 6))\n",
        "plt.plot(monthly_sales['order_month'], monthly_sales['total_sales'],\n",
        "         marker='o', linewidth=2, markersize=8, color='orange')\n",
        "plt.title('月別売上トレンド')\n",
        "plt.xlabel('月')\n",
        "plt.ylabel('売上額（円）')\n",
        "plt.grid(True, alpha=0.3)\n",
        "plt.xticks(range(1, 13))\n",
        "plt.tight_layout()\n",
        "plt.show()"
      ],
      "metadata": {
        "colab": {
          "base_uri": "https://localhost:8080/",
          "height": 423
        },
        "id": "7MVjFWqSbJTA",
        "outputId": "067c2055-87a5-4352-8060-352712ea4958"
      },
      "execution_count": 58,
      "outputs": [
        {
          "output_type": "display_data",
          "data": {
            "text/plain": [
              "<Figure size 1200x600 with 1 Axes>"
            ],
            "image/png": "[encoded data removed]"
          },
          "metadata": {}
        }
      ]
    },
    {
      "cell_type": "code",
      "source": [
        "# 支払方法別構成比\n",
        "if 'payment_method' in df_analysis.columns:\n",
        "    payment_counts = df_analysis['payment_method'].value_counts()\n",
        "\n",
        "    plt.figure(figsize=(8, 8))\n",
        "    plt.pie(payment_counts.values, labels=payment_counts.index, autopct='%1.1f%%',\n",
        "            colors=['#ff9999','#66b3ff','#99ff99','#ffcc99'])\n",
        "    plt.title('支払方法別利用割合')\n",
        "    plt.tight_layout()\n",
        "    plt.show()"
      ],
      "metadata": {
        "colab": {
          "base_uri": "https://localhost:8080/",
          "height": 807
        },
        "id": "qEuQK3WKbJWH",
        "outputId": "7f3d04b8-2d00-4a87-b276-061283e96da7"
      },
      "execution_count": 59,
      "outputs": [
        {
          "output_type": "display_data",
          "data": {
            "text/plain": [
              "<Figure size 800x800 with 1 Axes>"
            ],
            "image/png": "[encoded data removed]"
          },
          "metadata": {}
        }
      ]
    },
    {
      "cell_type": "markdown",
      "source": [
        "- クロス集計分析"
      ],
      "metadata": {
        "id": "qwYZ4Xn9bUaj"
      }
    },
    {
      "cell_type": "code",
      "source": [
        "print(\"クロス集計分析\")\n",
        "\n",
        "# 曜日別と時間帯別の売上\n",
        "if all(col in df_analysis.columns for col in ['order_weekday_jp', 'total_sales']):\n",
        "    weekday_sales = df_analysis.groupby('order_weekday_jp')['total_sales'].mean()\n",
        "    print(\"曜日別平均売上:\")\n",
        "    for weekday, sales in weekday_sales.items():\n",
        "        print(f\"  {weekday}: {sales:,.0f}円\")\n",
        "\n",
        "# 週末 vs 平日の比較\n",
        "if 'is_weekend' in df_analysis.columns:\n",
        "    weekend_sales = df_analysis.groupby('is_weekend')['total_sales'].mean()\n",
        "    print(\"\\n週末 vs 平日の平均売上:\")\n",
        "    print(f\"  平日: {weekend_sales[False]:,.0f}円\")\n",
        "    print(f\"  週末: {weekend_sales[True]:,.0f}円\")"
      ],
      "metadata": {
        "colab": {
          "base_uri": "https://localhost:8080/"
        },
        "id": "MLlcei2ebJfr",
        "outputId": "58fb83ee-8b7c-457b-bb92-15a6dc3d7e53"
      },
      "execution_count": 60,
      "outputs": [
        {
          "output_type": "stream",
          "name": "stdout",
          "text": [
            "クロス集計分析\n",
            "曜日別平均売上:\n",
            "  土曜: 97,931円\n",
            "  日曜: 113,584円\n",
            "  月曜: 100,738円\n",
            "  木曜: 160,545円\n",
            "  水曜: 125,585円\n",
            "  火曜: 130,260円\n",
            "  金曜: 138,059円\n",
            "\n",
            "週末 vs 平日の平均売上:\n",
            "  平日: 131,037円\n",
            "  週末: 105,785円\n"
          ]
        }
      ]
    },
    {
      "cell_type": "markdown",
      "source": [
        "- 相関分析"
      ],
      "metadata": {
        "id": "4EeRSux4baGr"
      }
    },
    {
      "cell_type": "code",
      "source": [
        "print(\"\\n相関分析\")\n",
        "\n",
        "# 数値列の相関関係\n",
        "numeric_cols = ['total_sales', 'quantity', 'unit_price', 'customer_age', 'discount_rate']\n",
        "numeric_df = df_analysis[numeric_cols].corr()\n",
        "\n",
        "print(\"数値項目間の相関係数:\")\n",
        "print(numeric_df.round(2))\n",
        "\n",
        "# 売上との相関が高い順\n",
        "sales_correlation = numeric_df['total_sales'].sort_values(ascending=False)\n",
        "print(\"\\n売上との相関（高い順）:\")\n",
        "for col, corr in sales_correlation.items():\n",
        "    if col != 'total_sales':\n",
        "        print(f\"  {col}: {corr:.2f}\")"
      ],
      "metadata": {
        "colab": {
          "base_uri": "https://localhost:8080/"
        },
        "id": "HqP_O5jnbZfV",
        "outputId": "d80a5827-d139-4bdd-f5d5-2bd7168a6912"
      },
      "execution_count": 61,
      "outputs": [
        {
          "output_type": "stream",
          "name": "stdout",
          "text": [
            "\n",
            "相関分析\n",
            "数値項目間の相関係数:\n",
            "               total_sales  quantity  unit_price  customer_age  discount_rate\n",
            "total_sales           1.00      0.23        0.81         -0.02          -0.06\n",
            "quantity              0.23      1.00        0.09          0.06           0.04\n",
            "unit_price            0.81      0.09        1.00         -0.03          -0.03\n",
            "customer_age         -0.02      0.06       -0.03          1.00          -0.02\n",
            "discount_rate        -0.06      0.04       -0.03         -0.02           1.00\n",
            "\n",
            "売上との相関（高い順）:\n",
            "  unit_price: 0.81\n",
            "  quantity: 0.23\n",
            "  customer_age: -0.02\n",
            "  discount_rate: -0.06\n"
          ]
        }
      ]
    },
    {
      "cell_type": "markdown",
      "source": [
        "- RFM分析（簡単版）"
      ],
      "metadata": {
        "id": "WPiKQNKIbpad"
      }
    },
    {
      "cell_type": "code",
      "source": [
        "print(\"RFM分析（顧客価値分析）\")\n",
        "\n",
        "# Recency: 最終購買日から今日までの日数\n",
        "# Frequency: 購買回数\n",
        "# Monetary: 総購買金額\n",
        "\n",
        "if all(col in df_analysis.columns for col in ['customer_id', 'order_date', 'total_sales']):\n",
        "    # 今日の日付を設定（データの最新日付を使用）\n",
        "    today = df_analysis['order_date'].max()\n",
        "\n",
        "    rfm = df_analysis.groupby('customer_id').agg({\n",
        "        'order_date': lambda x: (today - x.max()).days,  # Recency\n",
        "        'order_id': 'count',                            # Frequency\n",
        "        'total_sales': 'sum'                            # Monetary\n",
        "    }).rename(columns={'order_date': 'recency', 'order_id': 'frequency', 'total_sales': 'monetary'})\n",
        "\n",
        "    print(\"RFM分析結果（上位5顧客）:\")\n",
        "    print(rfm.sort_values('monetary', ascending=False).head())"
      ],
      "metadata": {
        "colab": {
          "base_uri": "https://localhost:8080/"
        },
        "id": "JC-Pmswzbros",
        "outputId": "de3c6451-8e50-4a11-e476-bdf2e726f6e4"
      },
      "execution_count": 62,
      "outputs": [
        {
          "output_type": "stream",
          "name": "stdout",
          "text": [
            "RFM分析（顧客価値分析）\n",
            "RFM分析結果（上位5顧客）:\n",
            "             recency  frequency   monetary\n",
            "customer_id                               \n",
            "CUST_7460        210          1  1705167.0\n",
            "CUST_9033        379          1  1595562.3\n",
            "CUST_6941        517          1  1507440.0\n",
            "CUST_1002        224          1  1462320.0\n",
            "CUST_4743        735          1  1413016.0\n"
          ]
        }
      ]
    },
    {
      "cell_type": "markdown",
      "source": [
        "- 価格帯別分析"
      ],
      "metadata": {
        "id": "EO5-XIyBbze5"
      }
    },
    {
      "cell_type": "code",
      "source": [
        "print(\"\\n価格帯別分析\")\n",
        "\n",
        "if 'price_range' in df_analysis.columns:\n",
        "    price_analysis = df_analysis.groupby('price_range').agg({\n",
        "        'total_sales': 'sum',\n",
        "        'quantity': 'sum',\n",
        "        'order_id': 'count'\n",
        "    }).rename(columns={'order_id': 'transaction_count'})\n",
        "\n",
        "    price_analysis['avg_sales_per_transaction'] = price_analysis['total_sales'] / price_analysis['transaction_count']\n",
        "\n",
        "    print(\"価格帯別分析:\")\n",
        "    print(price_analysis.round(0))"
      ],
      "metadata": {
        "colab": {
          "base_uri": "https://localhost:8080/"
        },
        "id": "PGPVtPJDb2sM",
        "outputId": "fd5d168b-e179-4cd7-84dd-eae940d4fee4"
      },
      "execution_count": 63,
      "outputs": [
        {
          "output_type": "stream",
          "name": "stdout",
          "text": [
            "\n",
            "価格帯別分析\n",
            "価格帯別分析:\n",
            "             total_sales  quantity  transaction_count  \\\n",
            "price_range                                             \n",
            "超安価             220131.0     352.0                 68   \n",
            "安価             6217394.0    2356.0                438   \n",
            "中価格            6601399.0     963.0                184   \n",
            "高価           110801432.0    1835.0                310   \n",
            "\n",
            "             avg_sales_per_transaction  \n",
            "price_range                             \n",
            "超安価                             3237.0  \n",
            "安価                             14195.0  \n",
            "中価格                            35877.0  \n",
            "高価                            357424.0  \n"
          ]
        },
        {
          "output_type": "stream",
          "name": "stderr",
          "text": [
            "/tmp/ipython-input-4006608819.py:4: FutureWarning: The default of observed=False is deprecated and will be changed to True in a future version of pandas. Pass observed=False to retain current behavior or observed=True to adopt the future default and silence this warning.\n",
            "  price_analysis = df_analysis.groupby('price_range').agg({\n"
          ]
        }
      ]
    },
    {
      "cell_type": "markdown",
      "source": [
        "- 分析結果のまとめ方"
      ],
      "metadata": {
        "id": "lXDJB6-Zb_VT"
      }
    },
    {
      "cell_type": "code",
      "source": [
        "def create_analysis_summary(df):\n",
        "    \"\"\"分析サマリーの作成\"\"\"\n",
        "    summary = {\n",
        "        '分析期間': f\"{df['order_date'].min().strftime('%Y/%m/%d')} 〜 {df['order_date'].max().strftime('%Y/%m/%d')}\",\n",
        "        '総売上額': f\"{df['total_sales'].sum():,.0f}円\",\n",
        "        '平均客単価': f\"{df['total_sales'].mean():,.0f}円\",\n",
        "        '総取引件数': f\"{len(df):,}件\",\n",
        "        '人気カテゴリ': df['product_category'].value_counts().idxmax(),\n",
        "        '最頻支払方法': df['payment_method'].value_counts().idxmax(),\n",
        "        '月間平均売上': f\"{df['total_sales'].sum() / df['order_month'].nunique():,.0f}円\"\n",
        "    }\n",
        "    return summary\n",
        "\n",
        "# サマリーの表示\n",
        "print(\"📋 分析サマリー:\")\n",
        "summary = create_analysis_summary(df_analysis)\n",
        "for key, value in summary.items():\n",
        "    print(f\"  {key}: {value}\")"
      ],
      "metadata": {
        "colab": {
          "base_uri": "https://localhost:8080/"
        },
        "id": "oyPQlhSAcB2B",
        "outputId": "a2d13c84-139b-49c1-e903-01622505e921"
      },
      "execution_count": 64,
      "outputs": [
        {
          "output_type": "stream",
          "name": "stdout",
          "text": [
            "📋 分析サマリー:\n",
            "  分析期間: 2023/01/01 〜 2025/09/26\n",
            "  総売上額: 123,840,355円\n",
            "  平均客単価: 123,840円\n",
            "  総取引件数: 1,000件\n",
            "  人気カテゴリ: Clothing\n",
            "  最頻支払方法: Credit Card\n",
            "  月間平均売上: 10,320,030円\n"
          ]
        }
      ]
    },
    {
      "cell_type": "markdown",
      "source": [
        "- ビジネス洞察の抽出"
      ],
      "metadata": {
        "id": "99YQrgVpcG1X"
      }
    },
    {
      "cell_type": "code",
      "source": [
        "print(\"\\nビジネス洞察:\")\n",
        "\n",
        "# 簡単な洞察の抽出\n",
        "insights = []\n",
        "\n",
        "# 売上トップの洞察\n",
        "top_category = df_analysis.groupby('product_category')['total_sales'].sum().idxmax()\n",
        "insights.append(f\"売上トップカテゴリ: {top_category}\")\n",
        "\n",
        "# 週末効果の洞察\n",
        "if 'is_weekend' in df_analysis.columns:\n",
        "    weekend_ratio = df_analysis[df_analysis['is_weekend']]['total_sales'].sum() / df_analysis['total_sales'].sum()\n",
        "    insights.append(f\"週末売上比率: {weekend_ratio:.1%}\")\n",
        "\n",
        "# 高額購買の洞察\n",
        "if 'is_high_value' in df_analysis.columns:\n",
        "    high_value_ratio = df_analysis['is_high_value'].mean()\n",
        "    insights.append(f\"高額購買比率: {high_value_ratio:.1%}\")\n",
        "\n",
        "# 洞察の表示\n",
        "for i, insight in enumerate(insights, 1):\n",
        "    print(f\"  {i}. {insight}\")"
      ],
      "metadata": {
        "colab": {
          "base_uri": "https://localhost:8080/"
        },
        "id": "_1i7pgSVcIMR",
        "outputId": "c1f232a9-48cc-41e5-bdac-b53a0d2c79b7"
      },
      "execution_count": 65,
      "outputs": [
        {
          "output_type": "stream",
          "name": "stdout",
          "text": [
            "\n",
            "ビジネス洞察:\n",
            "  1. 売上トップカテゴリ: Electronics\n",
            "  2. 週末売上比率: 24.3%\n",
            "  3. 高額購買比率: 10.0%\n"
          ]
        }
      ]
    },
    {
      "cell_type": "markdown",
      "source": [
        "## 機械学習"
      ],
      "metadata": {
        "id": "CblgsO_gWPSw"
      }
    },
    {
      "cell_type": "markdown",
      "source": [
        "### 機械学習の準備"
      ],
      "metadata": {
        "id": "x4-LsT5_cYPx"
      }
    },
    {
      "cell_type": "markdown",
      "source": [
        "1. 必要なライブラリのインポート"
      ],
      "metadata": {
        "id": "k3-mwM58cdfO"
      }
    },
    {
      "cell_type": "code",
      "source": [
        "# 機械学習の基本ライブラリ\n",
        "from sklearn.model_selection import train_test_split\n",
        "from sklearn.preprocessing import StandardScaler, LabelEncoder\n",
        "from sklearn.metrics import accuracy_score, mean_absolute_error, confusion_matrix\n",
        "\n",
        "# 機械学習アルゴリズム\n",
        "from sklearn.linear_model import LogisticRegression\n",
        "from sklearn.ensemble import RandomForestClassifier, RandomForestRegressor\n",
        "from sklearn.tree import DecisionTreeClassifier\n",
        "\n",
        "# 可視化\n",
        "import matplotlib.pyplot as plt\n",
        "import seaborn as sns\n",
        "import numpy as np\n",
        "\n",
        "print(\"機械学習ライブラリのインポート完了\")"
      ],
      "metadata": {
        "colab": {
          "base_uri": "https://localhost:8080/"
        },
        "id": "6JBQ9pCjcfp_",
        "outputId": "6adce4b4-39ab-4345-b22c-6a832f844574"
      },
      "execution_count": 66,
      "outputs": [
        {
          "output_type": "stream",
          "name": "stdout",
          "text": [
            "機械学習ライブラリのインポート完了\n"
          ]
        }
      ]
    },
    {
      "cell_type": "markdown",
      "source": [
        "2. データの準備と確認"
      ],
      "metadata": {
        "id": "GTjv7zVRcoO1"
      }
    },
    {
      "cell_type": "code",
      "source": [
        "# 分析用データの確認\n",
        "print(\"🔍 データ確認:\")\n",
        "print(f\"データ形状: {df_analysis.shape}\")\n",
        "print(f\"欠損値: {df_analysis.isnull().sum().sum()}箇所\")\n",
        "\n",
        "# 数値列とカテゴリ列の確認\n",
        "numeric_cols = df_analysis.select_dtypes(include=[np.number]).columns.tolist()\n",
        "category_cols = df_analysis.select_dtypes(include=['object', 'category']).columns.tolist()\n",
        "\n",
        "print(f\"数値列: {len(numeric_cols)}個\")\n",
        "print(f\"カテゴリ列: {len(category_cols)}個\")"
      ],
      "metadata": {
        "colab": {
          "base_uri": "https://localhost:8080/"
        },
        "id": "rpPtysRccp21",
        "outputId": "88f26453-e2e4-4e3e-9e85-35f40a5bc9c5"
      },
      "execution_count": 71,
      "outputs": [
        {
          "output_type": "stream",
          "name": "stdout",
          "text": [
            "🔍 データ確認:\n",
            "データ形状: (1000, 38)\n",
            "欠損値: 152箇所\n",
            "数値列: 20個\n",
            "カテゴリ列: 12個\n"
          ]
        }
      ]
    },
    {
      "cell_type": "markdown",
      "source": [
        "### 機械学習の3つの基本タイプ"
      ],
      "metadata": {
        "id": "VCCcIS46c-9Y"
      }
    },
    {
      "cell_type": "markdown",
      "source": [
        "1. 分類（Classification） - カテゴリを予測"
      ],
      "metadata": {
        "id": "-CS1cS2SdBIz"
      }
    },
    {
      "cell_type": "code",
      "source": [
        "# 例: 高額購買顧客を予測\n",
        "print(\"分類問題: 高額購買顧客の予測\")\n",
        "\n",
        "# 目的変数を作成（高額購買フラグ）\n",
        "df_analysis['is_high_value'] = (df_analysis['total_sales'] > df_analysis['total_sales'].quantile(0.8)).astype(int)\n",
        "\n",
        "# 特徴量と目的変数を分離\n",
        "X = df_analysis[['customer_age', 'quantity', 'unit_price', 'discount_rate']]\n",
        "y = df_analysis['is_high_value']\n",
        "\n",
        "print(f\"高額購買者: {y.sum()}人 (全体の{y.mean():.1%})\")"
      ],
      "metadata": {
        "colab": {
          "base_uri": "https://localhost:8080/"
        },
        "id": "iDiSJp_IdBU6",
        "outputId": "51adcc0b-4b25-4e4f-ec99-b74bcdb3c1d1"
      },
      "execution_count": 72,
      "outputs": [
        {
          "output_type": "stream",
          "name": "stdout",
          "text": [
            "分類問題: 高額購買顧客の予測\n",
            "高額購買者: 200人 (全体の20.0%)\n"
          ]
        }
      ]
    },
    {
      "cell_type": "markdown",
      "source": [
        "2. 回帰（Regression） - 数値を予測"
      ],
      "metadata": {
        "id": "q8lYZo9Vezif"
      }
    },
    {
      "cell_type": "code",
      "source": [
        "# 例: 売上金額を予測\n",
        "print(\"\\n回帰問題: 売上金額の予測\")\n",
        "\n",
        "# 特徴量と目的変数\n",
        "X_reg = df_analysis[['customer_age', 'quantity', 'unit_price', 'discount_rate']]\n",
        "y_reg = df_analysis['total_sales']\n",
        "\n",
        "print(f\"売上金額範囲: {y_reg.min():,.0f}円 〜 {y_reg.max():,.0f}円\")"
      ],
      "metadata": {
        "colab": {
          "base_uri": "https://localhost:8080/"
        },
        "id": "7CU9YTWneyqN",
        "outputId": "c2e7d13c-a57f-4c87-dbad-dfc1ef1bbcab"
      },
      "execution_count": 74,
      "outputs": [
        {
          "output_type": "stream",
          "name": "stdout",
          "text": [
            "\n",
            "回帰問題: 売上金額の予測\n",
            "売上金額範囲: 113円 〜 1,705,167円\n"
          ]
        }
      ]
    },
    {
      "cell_type": "markdown",
      "source": [
        "3. クラスタリング（Clustering） - グループ分け"
      ],
      "metadata": {
        "id": "fxzIMIWge7R_"
      }
    },
    {
      "cell_type": "code",
      "source": [
        "# 例: 顧客をグループ分け\n",
        "print(\"\\nクラスタリング: 顧客のセグメンテーション\")\n",
        "\n",
        "from sklearn.cluster import KMeans\n",
        "\n",
        "# クラスタリング用特徴量\n",
        "clustering_features = df_analysis[['total_sales', 'quantity', 'unit_price', 'customer_age']]"
      ],
      "metadata": {
        "colab": {
          "base_uri": "https://localhost:8080/"
        },
        "id": "YPCQqrure7o4",
        "outputId": "44df2a06-3833-43c9-b825-6b7888b131a1"
      },
      "execution_count": 75,
      "outputs": [
        {
          "output_type": "stream",
          "name": "stdout",
          "text": [
            "\n",
            "クラスタリング: 顧客のセグメンテーション\n"
          ]
        }
      ]
    },
    {
      "cell_type": "markdown",
      "source": [
        "### 実践的機械学習 - 詳細ステップバイステップ"
      ],
      "metadata": {
        "id": "4WoqLFZgdBLr"
      }
    },
    {
      "cell_type": "markdown",
      "source": [
        "ビジネス目標: 高額購買顧客を早期に特定し、マーケティング効率を向上させる"
      ],
      "metadata": {
        "id": "9Aow853ogkLH"
      }
    },
    {
      "cell_type": "markdown",
      "source": [
        "#### データ前処理の詳細"
      ],
      "metadata": {
        "id": "xTK6qar3dbxH"
      }
    },
    {
      "cell_type": "markdown",
      "source": [
        "1. 特徴量の選択とエンジニアリング"
      ],
      "metadata": {
        "id": "luXEH-9Ngs1j"
      }
    },
    {
      "cell_type": "code",
      "source": [
        "print(\"特徴量の選択とエンジニアリング\")\n",
        "\n",
        "# 基本特徴量\n",
        "base_features = [\n",
        "    'customer_age', 'quantity', 'unit_price', 'discount_rate',\n",
        "    'order_month', 'order_weekday', 'is_weekend'\n",
        "]\n",
        "\n",
        "# 新しい特徴量の作成\n",
        "df_ml = df_analysis.copy()\n",
        "\n",
        "# 購買頻度特徴量\n",
        "if 'customer_id' in df_ml.columns:\n",
        "    purchase_freq = df_ml.groupby('customer_id')['order_date'].count()\n",
        "    df_ml['purchase_frequency'] = df_ml['customer_id'].map(purchase_freq)\n",
        "\n",
        "# 平均単価特徴量\n",
        "if all(col in df_ml.columns for col in ['customer_id', 'unit_price']):\n",
        "    avg_unit_price = df_ml.groupby('customer_id')['unit_price'].mean()\n",
        "    df_ml['avg_unit_price'] = df_ml['customer_id'].map(avg_unit_price)\n",
        "\n",
        "# 時間帯特徴量（仮想的な時間データを追加）\n",
        "np.random.seed(42)\n",
        "df_ml['order_hour'] = np.random.randint(9, 22, len(df_ml))\n",
        "\n",
        "# 時間帯カテゴリ\n",
        "df_ml['time_category'] = pd.cut(df_ml['order_hour'],\n",
        "                               bins=[0, 12, 18, 24],\n",
        "                               labels=['朝', '昼', '夜'])\n",
        "\n",
        "print(f\"使用可能な特徴量: {len(df_ml.columns)}個\")"
      ],
      "metadata": {
        "colab": {
          "base_uri": "https://localhost:8080/"
        },
        "id": "bvc8rHDHdBYF",
        "outputId": "4b11da81-f8e7-4ebf-9980-d72e1ab541df"
      },
      "execution_count": 76,
      "outputs": [
        {
          "output_type": "stream",
          "name": "stdout",
          "text": [
            "特徴量の選択とエンジニアリング\n",
            "使用可能な特徴量: 42個\n"
          ]
        }
      ]
    },
    {
      "cell_type": "markdown",
      "source": [
        "2. 目的変数の定義"
      ],
      "metadata": {
        "id": "6Mr0s41_g5zJ"
      }
    },
    {
      "cell_type": "code",
      "source": [
        "print(\"\\n目的変数の定義\")\n",
        "\n",
        "# 高額購買の定義（上位20%）\n",
        "high_value_threshold = df_ml['total_sales'].quantile(0.8)\n",
        "df_ml['is_high_value'] = (df_ml['total_sales'] > high_value_threshold).astype(int)\n",
        "\n",
        "print(f\"高額購買閾値: {high_value_threshold:,.0f}円\")\n",
        "print(f\"高額購買者数: {df_ml['is_high_value'].sum()}人 ({df_ml['is_high_value'].mean():.1%})\")\n",
        "\n",
        "# クラスの偏りを確認\n",
        "class_balance = df_ml['is_high_value'].value_counts()\n",
        "print(\"クラス分布:\")\n",
        "for value, count in class_balance.items():\n",
        "    print(f\"  is_high_value={value}: {count}人 ({count/len(df_ml):.1%})\")"
      ],
      "metadata": {
        "colab": {
          "base_uri": "https://localhost:8080/"
        },
        "id": "HmLBjGKug6fa",
        "outputId": "a4b00de0-d391-49a5-adbb-1c8e7d81b6b1"
      },
      "execution_count": 77,
      "outputs": [
        {
          "output_type": "stream",
          "name": "stdout",
          "text": [
            "\n",
            "目的変数の定義\n",
            "高額購買閾値: 100,346円\n",
            "高額購買者数: 200人 (20.0%)\n",
            "クラス分布:\n",
            "  is_high_value=0: 800人 (80.0%)\n",
            "  is_high_value=1: 200人 (20.0%)\n"
          ]
        }
      ]
    },
    {
      "cell_type": "markdown",
      "source": [
        "3. 特徴量の選択"
      ],
      "metadata": {
        "id": "BqxleRAsg52L"
      }
    },
    {
      "cell_type": "code",
      "source": [
        "print(\"\\n最終的な特徴量選択\")\n",
        "\n",
        "# 使用する特徴量\n",
        "selected_features = [\n",
        "    'customer_age', 'quantity', 'unit_price', 'discount_rate',\n",
        "    'order_month', 'order_weekday', 'is_weekend', 'order_hour',\n",
        "    'purchase_frequency', 'avg_unit_price'\n",
        "]\n",
        "\n",
        "# 存在する特徴量のみ選択\n",
        "existing_features = [f for f in selected_features if f in df_ml.columns]\n",
        "X = df_ml[existing_features]\n",
        "y = df_ml['is_high_value']\n",
        "\n",
        "print(f\"使用特徴量 ({len(existing_features)}個):\")\n",
        "for i, feature in enumerate(existing_features, 1):\n",
        "    print(f\"  {i:2d}. {feature}\")\n",
        "\n",
        "print(f\"データ数: {len(X)}件\")\n",
        "print(f\"特徴量数: {len(existing_features)}個\")"
      ],
      "metadata": {
        "colab": {
          "base_uri": "https://localhost:8080/"
        },
        "id": "jQYG9bLBg64G",
        "outputId": "132bb3f2-1733-432d-8b67-22982293c175"
      },
      "execution_count": 78,
      "outputs": [
        {
          "output_type": "stream",
          "name": "stdout",
          "text": [
            "\n",
            "最終的な特徴量選択\n",
            "使用特徴量 (10個):\n",
            "   1. customer_age\n",
            "   2. quantity\n",
            "   3. unit_price\n",
            "   4. discount_rate\n",
            "   5. order_month\n",
            "   6. order_weekday\n",
            "   7. is_weekend\n",
            "   8. order_hour\n",
            "   9. purchase_frequency\n",
            "  10. avg_unit_price\n",
            "データ数: 1000件\n",
            "特徴量数: 10個\n"
          ]
        }
      ]
    },
    {
      "cell_type": "markdown",
      "source": [
        "####  機械学習モデルの構築"
      ],
      "metadata": {
        "id": "ntz8WRfog54k"
      }
    },
    {
      "cell_type": "markdown",
      "source": [
        "1. データの分割"
      ],
      "metadata": {
        "id": "IVTjMmVghX2A"
      }
    },
    {
      "cell_type": "code",
      "source": [
        "print(\"データの分割\")\n",
        "\n",
        "from sklearn.model_selection import train_test_split\n",
        "\n",
        "# 層化サンプリングで分割（クラスの比率を保持）\n",
        "X_train, X_test, y_train, y_test = train_test_split(\n",
        "    X, y,\n",
        "    test_size=0.2,\n",
        "    random_state=42,\n",
        "    stratify=y,  # クラス比率を保持\n",
        "    shuffle=True\n",
        ")\n",
        "\n",
        "print(f\"訓練データ: {X_train.shape[0]}件 ({X_train.shape[0]/len(X):.1%})\")\n",
        "print(f\"テストデータ: {X_test.shape[0]}件 ({X_test.shape[0]/len(X):.1%})\")\n",
        "print(f\"訓練データのクラス分布: {y_train.mean():.3f}\")\n",
        "print(f\"テストデータのクラス分布: {y_test.mean():.3f}\")"
      ],
      "metadata": {
        "colab": {
          "base_uri": "https://localhost:8080/"
        },
        "id": "6tLa5UcZg7PO",
        "outputId": "113cdc54-57d1-4382-9fc3-2aa0dea82c35"
      },
      "execution_count": 79,
      "outputs": [
        {
          "output_type": "stream",
          "name": "stdout",
          "text": [
            "データの分割\n",
            "訓練データ: 800件 (80.0%)\n",
            "テストデータ: 200件 (20.0%)\n",
            "訓練データのクラス分布: 0.200\n",
            "テストデータのクラス分布: 0.200\n"
          ]
        }
      ]
    },
    {
      "cell_type": "markdown",
      "source": [
        "2. 前処理パイプライン"
      ],
      "metadata": {
        "id": "gYEhAkLxg5_r"
      }
    },
    {
      "cell_type": "code",
      "source": [
        "print(\"\\n🔧 前処理パイプラインの構築\")\n",
        "\n",
        "from sklearn.pipeline import Pipeline\n",
        "from sklearn.impute import SimpleImputer\n",
        "from sklearn.preprocessing import StandardScaler, OneHotEncoder\n",
        "from sklearn.compose import ColumnTransformer\n",
        "\n",
        "# 数値特徴量とカテゴリ特徴量を分離\n",
        "numeric_features = X.select_dtypes(include=[np.number]).columns.tolist()\n",
        "categorical_features = X.select_dtypes(include=['object', 'category']).columns.tolist()\n",
        "\n",
        "print(f\"数値特徴量: {numeric_features}\")\n",
        "print(f\"カテゴリ特徴量: {categorical_features}\")\n",
        "\n",
        "# 数値特徴量の前処理\n",
        "numeric_transformer = Pipeline(steps=[\n",
        "    ('imputer', SimpleImputer(strategy='median')),  # 欠損値を中央値で補完\n",
        "    ('scaler', StandardScaler())  # 標準化\n",
        "])\n",
        "\n",
        "# カテゴリ特徴量の前処理\n",
        "categorical_transformer = Pipeline(steps=[\n",
        "    ('imputer', SimpleImputer(strategy='constant', fill_value='missing')),  # 欠損値を'missing'で補完\n",
        "    ('onehot', OneHotEncoder(handle_unknown='ignore', sparse_output=False))  # ワンホットエンコーディング\n",
        "])\n",
        "\n",
        "# カラムトランスフォーマー\n",
        "preprocessor = ColumnTransformer(\n",
        "    transformers=[\n",
        "        ('num', numeric_transformer, numeric_features),\n",
        "        ('cat', categorical_transformer, categorical_features)\n",
        "    ])\n",
        "\n",
        "print(\"✅ 前処理パイプライン構築完了\")"
      ],
      "metadata": {
        "colab": {
          "base_uri": "https://localhost:8080/"
        },
        "id": "QVqzqjyEg7rI",
        "outputId": "b4f81477-df07-4117-e6f0-1a4581a338b9"
      },
      "execution_count": 80,
      "outputs": [
        {
          "output_type": "stream",
          "name": "stdout",
          "text": [
            "\n",
            "🔧 前処理パイプラインの構築\n",
            "数値特徴量: ['customer_age', 'quantity', 'unit_price', 'discount_rate', 'order_month', 'order_weekday', 'order_hour', 'purchase_frequency', 'avg_unit_price']\n",
            "カテゴリ特徴量: []\n",
            "✅ 前処理パイプライン構築完了\n"
          ]
        }
      ]
    },
    {
      "cell_type": "markdown",
      "source": [
        "3. モデル訓練とチューニング"
      ],
      "metadata": {
        "id": "s01CYTKPg6CY"
      }
    },
    {
      "cell_type": "code",
      "source": [
        "print(\"\\nモデル訓練とハイパーパラメータチューニング\")\n",
        "\n",
        "from sklearn.ensemble import RandomForestClassifier\n",
        "from sklearn.model_selection import GridSearchCV\n",
        "from sklearn.metrics import make_scorer, f1_score\n",
        "\n",
        "# パイプラインの構築\n",
        "pipeline = Pipeline(steps=[\n",
        "    ('preprocessor', preprocessor),\n",
        "    ('classifier', RandomForestClassifier(random_state=42, class_weight='balanced'))\n",
        "])\n",
        "\n",
        "# ハイパーパラメータの設定\n",
        "param_grid = {\n",
        "    'classifier__n_estimators': [50, 100, 200],\n",
        "    'classifier__max_depth': [3, 5, 10, None],\n",
        "    'classifier__min_samples_split': [2, 5, 10],\n",
        "    'classifier__min_samples_leaf': [1, 2, 4]\n",
        "}\n",
        "\n",
        "# F1スコアで評価（不均衡データ向け）\n",
        "scorer = make_scorer(f1_score)\n",
        "\n",
        "# グリッドサーチ\n",
        "grid_search = GridSearchCV(\n",
        "    pipeline,\n",
        "    param_grid,\n",
        "    cv=5,  # 5分割交差検証\n",
        "    scoring=scorer,\n",
        "    n_jobs=-1,  # 全CPUコア使用\n",
        "    verbose=1\n",
        ")\n",
        "\n",
        "print(\"グリッドサーチ実行中...（数分かかります）\")\n",
        "grid_search.fit(X_train, y_train)\n",
        "\n",
        "print(\"最適なパラメータ見つかりました！\")\n",
        "print(f\"最良パラメータ: {grid_search.best_params_}\")\n",
        "print(f\"最良F1スコア: {grid_search.best_score_:.3f}\")\n",
        "\n",
        "# 最良モデルを取得\n",
        "best_model = grid_search.best_estimator_"
      ],
      "metadata": {
        "colab": {
          "base_uri": "https://localhost:8080/"
        },
        "id": "zZ3_Tw-xhxwv",
        "outputId": "dc545fb6-45cd-4c5f-b410-ce586f9835ad"
      },
      "execution_count": 81,
      "outputs": [
        {
          "output_type": "stream",
          "name": "stdout",
          "text": [
            "\n",
            "モデル訓練とハイパーパラメータチューニング\n",
            "グリッドサーチ実行中...（数分かかります）\n",
            "Fitting 5 folds for each of 108 candidates, totalling 540 fits\n",
            "最適なパラメータ見つかりました！\n",
            "最良パラメータ: {'classifier__max_depth': 10, 'classifier__min_samples_leaf': 1, 'classifier__min_samples_split': 10, 'classifier__n_estimators': 200}\n",
            "最良F1スコア: 0.955\n"
          ]
        }
      ]
    },
    {
      "cell_type": "markdown",
      "source": [
        "#### モデル評価の詳細"
      ],
      "metadata": {
        "id": "otEWazTuhx8V"
      }
    },
    {
      "cell_type": "markdown",
      "source": [
        "1. 包括的な評価"
      ],
      "metadata": {
        "id": "7U0uB8WSh-Q_"
      }
    },
    {
      "cell_type": "code",
      "source": [
        "print(\"モデルの詳細評価\")\n",
        "\n",
        "from sklearn.metrics import classification_report, confusion_matrix, roc_auc_score, precision_recall_curve\n",
        "import seaborn as sns\n",
        "\n",
        "# 予測\n",
        "y_pred = best_model.predict(X_test)\n",
        "y_pred_proba = best_model.predict_proba(X_test)[:, 1]  # 確率予測\n",
        "\n",
        "# 各種指標の計算\n",
        "accuracy = accuracy_score(y_test, y_pred)\n",
        "roc_auc = roc_auc_score(y_test, y_pred_proba)\n",
        "\n",
        "print(f\"基本指標:\")\n",
        "print(f\"  正解率 (Accuracy): {accuracy:.3f}\")\n",
        "print(f\"  ROC-AUC: {roc_auc:.3f}\")\n",
        "\n",
        "# 詳細な分類レポート\n",
        "print(\"\\n分類レポート:\")\n",
        "print(classification_report(y_test, y_pred, target_names=['通常顧客', '高額顧客']))\n",
        "\n",
        "# 混同行列\n",
        "print(\"混同行列:\")\n",
        "cm = confusion_matrix(y_test, y_pred)\n",
        "sns.heatmap(cm, annot=True, fmt='d', cmap='Blues',\n",
        "            xticklabels=['通常顧客', '高額顧客'],\n",
        "            yticklabels=['通常顧客', '高額顧客'])\n",
        "plt.ylabel('実際の値')\n",
        "plt.xlabel('予測値')\n",
        "plt.title('混同行列')\n",
        "plt.show()"
      ],
      "metadata": {
        "colab": {
          "base_uri": "https://localhost:8080/",
          "height": 774
        },
        "id": "ussAY5sOhyFG",
        "outputId": "43f018c1-744d-4085-e166-2c1f19675662"
      },
      "execution_count": 82,
      "outputs": [
        {
          "output_type": "stream",
          "name": "stdout",
          "text": [
            "モデルの詳細評価\n",
            "基本指標:\n",
            "  正解率 (Accuracy): 0.980\n",
            "  ROC-AUC: 0.995\n",
            "\n",
            "分類レポート:\n",
            "              precision    recall  f1-score   support\n",
            "\n",
            "        通常顧客       0.98      0.99      0.99       160\n",
            "        高額顧客       0.97      0.93      0.95        40\n",
            "\n",
            "    accuracy                           0.98       200\n",
            "   macro avg       0.98      0.96      0.97       200\n",
            "weighted avg       0.98      0.98      0.98       200\n",
            "\n",
            "混同行列:\n"
          ]
        },
        {
          "output_type": "display_data",
          "data": {
            "text/plain": [
              "<Figure size 640x480 with 2 Axes>"
            ],
            "image/png": "[encoded data removed]"
          },
          "metadata": {}
        }
      ]
    },
    {
      "cell_type": "markdown",
      "source": [
        "2. ビジネス視点での評価"
      ],
      "metadata": {
        "id": "9yC1EtyJhyNm"
      }
    },
    {
      "cell_type": "code",
      "source": [
        "print(\"ビジネス視点での評価\")\n",
        "\n",
        "# 混同行列の詳細分析\n",
        "tn, fp, fn, tp = cm.ravel()\n",
        "\n",
        "print(f\"真陽性 (TP): {tp}件 - 正しく高額顧客と予測\")\n",
        "print(f\"偽陽性 (FP): {fp}件 - 通常顧客を高額顧客と誤予測\")\n",
        "print(f\"偽陰性 (FN): {fn}件 - 高額顧客を見逃し\")\n",
        "print(f\"真陰性 (TN): {tn}件 - 正しく通常顧客と予測\")\n",
        "\n",
        "# ビジネス指標\n",
        "precision = tp / (tp + fp) if (tp + fp) > 0 else 0\n",
        "recall = tp / (tp + fn) if (tp + fn) > 0 else 0\n",
        "f1 = 2 * (precision * recall) / (precision + recall) if (precision + recall) > 0 else 0\n",
        "\n",
        "print(f\"\\n📈 ビジネス重要指標:\")\n",
        "print(f\"  適合率 (Precision): {precision:.3f} - 高額と予測したうち実際に高額だった割合\")\n",
        "print(f\"  再現率 (Recall): {recall:.3f} - 実際の高額顧客を正しく見つけられた割合\")\n",
        "print(f\"  F1スコア: {f1:.3f} - 適合率と再現率のバランス\")"
      ],
      "metadata": {
        "colab": {
          "base_uri": "https://localhost:8080/"
        },
        "id": "2mR6tr6mhyVU",
        "outputId": "96c82910-8078-47cf-a346-136efad31c9e"
      },
      "execution_count": 83,
      "outputs": [
        {
          "output_type": "stream",
          "name": "stdout",
          "text": [
            "ビジネス視点での評価\n",
            "真陽性 (TP): 37件 - 正しく高額顧客と予測\n",
            "偽陽性 (FP): 1件 - 通常顧客を高額顧客と誤予測\n",
            "偽陰性 (FN): 3件 - 高額顧客を見逃し\n",
            "真陰性 (TN): 159件 - 正しく通常顧客と予測\n",
            "\n",
            "📈 ビジネス重要指標:\n",
            "  適合率 (Precision): 0.974 - 高額と予測したうち実際に高額だった割合\n",
            "  再現率 (Recall): 0.925 - 実際の高額顧客を正しく見つけられた割合\n",
            "  F1スコア: 0.949 - 適合率と再現率のバランス\n"
          ]
        }
      ]
    },
    {
      "cell_type": "markdown",
      "source": [
        "3. 確率閾値の最適化"
      ],
      "metadata": {
        "id": "RSgvyPzShycK"
      }
    },
    {
      "cell_type": "code",
      "source": [
        "print(\"\\n確率閾値の最適化\")\n",
        "\n",
        "#  Precision-Recall曲線\n",
        "precision_vals, recall_vals, thresholds = precision_recall_curve(y_test, y_pred_proba)\n",
        "\n",
        "# 最適な閾値を見つける（F1スコア最大化）\n",
        "f1_scores = 2 * (precision_vals * recall_vals) / (precision_vals + recall_vals)\n",
        "best_threshold_idx = np.argmax(f1_scores)\n",
        "best_threshold = thresholds[best_threshold_idx]\n",
        "\n",
        "print(f\"最適な確率閾値: {best_threshold:.3f}\")\n",
        "print(f\"この閾値でのF1スコア: {f1_scores[best_threshold_idx]:.3f}\")\n",
        "\n",
        "# 閾値を適用した予測\n",
        "y_pred_optimized = (y_pred_proba >= best_threshold).astype(int)\n",
        "\n",
        "print(\"\\n閾値最適化後の性能:\")\n",
        "print(classification_report(y_test, y_pred_optimized, target_names=['通常顧客', '高額顧客']))"
      ],
      "metadata": {
        "colab": {
          "base_uri": "https://localhost:8080/"
        },
        "id": "eqF5Xd-Zhyiz",
        "outputId": "0788e50f-5b9b-4444-81b1-4863b7dd9d3a"
      },
      "execution_count": 84,
      "outputs": [
        {
          "output_type": "stream",
          "name": "stdout",
          "text": [
            "\n",
            "確率閾値の最適化\n",
            "最適な確率閾値: 0.721\n",
            "この閾値でのF1スコア: 0.961\n",
            "\n",
            "閾値最適化後の性能:\n",
            "              precision    recall  f1-score   support\n",
            "\n",
            "        通常顧客       0.98      1.00      0.99       160\n",
            "        高額顧客       1.00      0.93      0.96        40\n",
            "\n",
            "    accuracy                           0.98       200\n",
            "   macro avg       0.99      0.96      0.98       200\n",
            "weighted avg       0.99      0.98      0.98       200\n",
            "\n"
          ]
        }
      ]
    },
    {
      "cell_type": "markdown",
      "source": [
        "#### モデル解釈と洞察"
      ],
      "metadata": {
        "id": "zJeaLJV7g6FA"
      }
    },
    {
      "cell_type": "markdown",
      "source": [
        "1. 特徴量重要度の詳細分析"
      ],
      "metadata": {
        "id": "-Blnm2N3iaIw"
      }
    },
    {
      "cell_type": "code",
      "source": [
        "print(\"特徴量重要度の詳細分析\")\n",
        "\n",
        "# 前処理後の特徴量名を取得\n",
        "feature_names = numeric_features.copy()\n",
        "if categorical_features:\n",
        "    ohe = best_model.named_steps['preprocessor'].named_transformers_['cat'].named_steps['onehot']\n",
        "    cat_feature_names = ohe.get_feature_names_out(categorical_features)\n",
        "    feature_names.extend(cat_feature_names)\n",
        "\n",
        "# 特徴量重要度\n",
        "importances = best_model.named_steps['classifier'].feature_importances_\n",
        "feature_importance_df = pd.DataFrame({\n",
        "    'feature': feature_names,\n",
        "    'importance': importances\n",
        "}).sort_values('importance', ascending=False)\n",
        "\n",
        "print(\"特徴量重要度トップ10:\")\n",
        "for i, row in feature_importance_df.head(10).iterrows():\n",
        "    print(f\"  {row['feature']}: {row['importance']:.3f}\")\n",
        "\n",
        "# 可視化\n",
        "plt.figure(figsize=(12, 8))\n",
        "sns.barplot(x='importance', y='feature', data=feature_importance_df.head(15))\n",
        "plt.title('特徴量重要度トップ15')\n",
        "plt.tight_layout()\n",
        "plt.show()"
      ],
      "metadata": {
        "colab": {
          "base_uri": "https://localhost:8080/",
          "height": 766
        },
        "id": "YwzEaj8kiaUc",
        "outputId": "4a64cd75-5ecc-4737-f1fd-852b4cdd9630"
      },
      "execution_count": 85,
      "outputs": [
        {
          "output_type": "stream",
          "name": "stdout",
          "text": [
            "特徴量重要度の詳細分析\n",
            "特徴量重要度トップ10:\n",
            "  unit_price: 0.546\n",
            "  avg_unit_price: 0.354\n",
            "  quantity: 0.065\n",
            "  customer_age: 0.013\n",
            "  order_month: 0.008\n",
            "  order_hour: 0.005\n",
            "  order_weekday: 0.004\n",
            "  discount_rate: 0.002\n",
            "  purchase_frequency: 0.002\n"
          ]
        },
        {
          "output_type": "display_data",
          "data": {
            "text/plain": [
              "<Figure size 1200x800 with 1 Axes>"
            ],
            "image/png": "[encoded data removed]"
          },
          "metadata": {}
        }
      ]
    },
    {
      "cell_type": "markdown",
      "source": [
        "2. 部分依存プロット（Partial Dependence Plot）"
      ],
      "metadata": {
        "id": "VA_piYgciacc"
      }
    },
    {
      "cell_type": "code",
      "source": [
        "print(\"\\n部分依存プロットによる影響分析\")\n",
        "\n",
        "from sklearn.inspection import PartialDependenceDisplay\n",
        "\n",
        "# 重要な数値特徴量に対して部分依存プロット\n",
        "important_numeric_features = [f for f in feature_importance_df.head(5)['feature']\n",
        "                             if f in numeric_features]\n",
        "\n",
        "fig, ax = plt.subplots(figsize=(15, 10))\n",
        "PartialDependenceDisplay.from_estimator(\n",
        "    best_model, X_train, important_numeric_features,\n",
        "    ax=ax, grid_resolution=20\n",
        ")\n",
        "plt.suptitle('部分依存プロット - 重要な数値特徴量')\n",
        "plt.tight_layout()\n",
        "plt.show()"
      ],
      "metadata": {
        "colab": {
          "base_uri": "https://localhost:8080/",
          "height": 596
        },
        "id": "gNSt1nJSiakd",
        "outputId": "9f004768-ee35-426a-f23a-cc3bbd46879e"
      },
      "execution_count": 86,
      "outputs": [
        {
          "output_type": "stream",
          "name": "stdout",
          "text": [
            "\n",
            "部分依存プロットによる影響分析\n"
          ]
        },
        {
          "output_type": "display_data",
          "data": {
            "text/plain": [
              "<Figure size 1500x1000 with 6 Axes>"
            ],
            "image/png": "[encoded data removed]"
          },
          "metadata": {}
        }
      ]
    },
    {
      "cell_type": "markdown",
      "source": [
        "#### モデルの実装と適用"
      ],
      "metadata": {
        "id": "XBPiBtuoiaqh"
      }
    },
    {
      "cell_type": "code",
      "source": [
        "print(\"本番環境用推論関数\")\n",
        "\n",
        "def predict_high_value_customer(new_data, model=best_model, threshold=best_threshold):\n",
        "    \"\"\"\n",
        "    新しい顧客データに対して高額購買確率を予測\n",
        "\n",
        "    Parameters:\n",
        "    new_data: 新しい顧客データ（DataFrame）\n",
        "    model: 訓練済みモデル\n",
        "    threshold: 判定閾値\n",
        "\n",
        "    Returns:\n",
        "    dict: 予測結果\n",
        "    \"\"\"\n",
        "\n",
        "    # 前処理\n",
        "    X_new = new_data[existing_features]\n",
        "\n",
        "    # 予測\n",
        "    proba = model.predict_proba(X_new)[:, 1]\n",
        "    prediction = (proba >= threshold).astype(int)\n",
        "\n",
        "    # 結果の整形\n",
        "    results = []\n",
        "    for i, (prob, pred) in enumerate(zip(proba, prediction)):\n",
        "        result = {\n",
        "            'customer_id': new_data.iloc[i]['customer_id'] if 'customer_id' in new_data.columns else i,\n",
        "            'high_value_probability': float(prob),\n",
        "            'predicted_class': int(pred),\n",
        "            'prediction_label': '高額顧客' if pred == 1 else '通常顧客',\n",
        "            'confidence': '高' if prob > 0.7 else '中' if prob > 0.5 else '低'\n",
        "        }\n",
        "        results.append(result)\n",
        "\n",
        "    return results\n",
        "\n",
        "# テストデータで試す\n",
        "test_customers = X_test.copy()\n",
        "test_customers['customer_id'] = df_ml.iloc[X_test.index]['customer_id'].values\n",
        "\n",
        "predictions = predict_high_value_customer(test_customers.head(5))\n",
        "print(\"\\n新しい顧客に対する予測例:\")\n",
        "for pred in predictions:\n",
        "    print(f\"  顧客 {pred['customer_id']}: {pred['prediction_label']} (確率: {pred['high_value_probability']:.3f})\")"
      ],
      "metadata": {
        "colab": {
          "base_uri": "https://localhost:8080/"
        },
        "id": "4C5Di5wciayy",
        "outputId": "aa68397c-082d-4f53-e90c-ceed7eefce89"
      },
      "execution_count": 87,
      "outputs": [
        {
          "output_type": "stream",
          "name": "stdout",
          "text": [
            "本番環境用推論関数\n",
            "\n",
            "新しい顧客に対する予測例:\n",
            "  顧客 CUST_4005: 通常顧客 (確率: 0.040)\n",
            "  顧客 CUST_5804: 通常顧客 (確率: 0.000)\n",
            "  顧客 CUST_3041: 通常顧客 (確率: 0.000)\n",
            "  顧客 CUST_9758: 通常顧客 (確率: 0.005)\n",
            "  顧客 CUST_3346: 通常顧客 (確率: 0.000)\n"
          ]
        }
      ]
    },
    {
      "cell_type": "markdown",
      "source": [
        "2. モデルの保存と読み込み"
      ],
      "metadata": {
        "id": "zVGF6FFlia4r"
      }
    },
    {
      "cell_type": "code",
      "source": [
        "print(\"\\nモデルの保存\")\n",
        "\n",
        "import joblib\n",
        "import datetime\n",
        "\n",
        "# モデルと前処理器の保存\n",
        "model_info = {\n",
        "    'model': best_model,\n",
        "    'features': existing_features,\n",
        "    'threshold': best_threshold,\n",
        "    'training_date': datetime.datetime.now(),\n",
        "    'performance': {\n",
        "        'accuracy': accuracy,\n",
        "        'roc_auc': roc_auc,\n",
        "        'f1_score': f1\n",
        "    }\n",
        "}\n",
        "\n",
        "# 保存\n",
        "joblib.dump(model_info, 'high_value_customer_model.pkl')\n",
        "print(\"✅ モデルを保存しました: high_value_customer_model.pkl\")\n",
        "\n",
        "# 読み込みの例\n",
        "print(\"モデル読み込み例:\")\n",
        "loaded_model_info = joblib.load('high_value_customer_model.pkl')\n",
        "print(f\"  訓練日: {loaded_model_info['training_date']}\")\n",
        "print(f\"  精度: {loaded_model_info['performance']['accuracy']:.3f}\")"
      ],
      "metadata": {
        "colab": {
          "base_uri": "https://localhost:8080/"
        },
        "id": "fSd8YLzcia-c",
        "outputId": "fb7a9ce8-c4c2-4c88-b9ae-da8a568097e2"
      },
      "execution_count": 88,
      "outputs": [
        {
          "output_type": "stream",
          "name": "stdout",
          "text": [
            "\n",
            "モデルの保存\n",
            "✅ モデルを保存しました: high_value_customer_model.pkl\n",
            "モデル読み込み例:\n",
            "  訓練日: 2025-09-11 02:16:54.216633\n",
            "  精度: 0.980\n"
          ]
        }
      ]
    },
    {
      "cell_type": "markdown",
      "source": [
        "ビジネスレポートの自動生成"
      ],
      "metadata": {
        "id": "-sIkAPskj_h1"
      }
    },
    {
      "cell_type": "code",
      "source": [
        "print(\"機械学習レポートの生成\")\n",
        "\n",
        "def generate_ml_report(model, X_test, y_test):\n",
        "    \"\"\"機械学習結果のレポート生成\"\"\"\n",
        "\n",
        "    report = {\n",
        "        'モデル概要': {\n",
        "            'モデルタイプ': 'Random Forest Classifier',\n",
        "            '特徴量数': len(existing_features),\n",
        "            '訓練データ数': len(X_train),\n",
        "            '最終更新日': datetime.datetime.now().strftime('%Y-%m-%d')\n",
        "        },\n",
        "        '性能指標': {\n",
        "            '正解率': f\"{accuracy:.3f}\",\n",
        "            'ROC-AUC': f\"{roc_auc:.3f}\",\n",
        "            'F1スコア': f\"{f1:.3f}\",\n",
        "            '適合率': f\"{precision:.3f}\",\n",
        "            '再現率': f\"{recall:.3f}\"\n",
        "        },\n",
        "        'ビジネスインパクト': {\n",
        "            '高額顧客捕捉率': f\"{recall:.1%}\",\n",
        "            '誤判定率': f\"{fp/len(y_test):.1%}\",\n",
        "            '推定ROI向上率': '15-25%'  # 仮の値\n",
        "        },\n",
        "        '主要洞察': [\n",
        "            f\"最も重要な特徴量: {feature_importance_df.iloc[0]['feature']}\",\n",
        "            f\"単価と数量が購買価値に強い影響\",\n",
        "            f\"時間帯と曜日に一定のパターン存在\"\n",
        "        ]\n",
        "    }\n",
        "\n",
        "    return report\n",
        "\n",
        "# レポート生成と表示\n",
        "ml_report = generate_ml_report(best_model, X_test, y_test)\n",
        "print(\"機械学習実施結果レポート:\")\n",
        "for section, content in ml_report.items():\n",
        "    print(f\"\\n{section}:\")\n",
        "    if isinstance(content, dict):\n",
        "        for k, v in content.items():\n",
        "            print(f\"  {k}: {v}\")\n",
        "    else:\n",
        "        for item in content:\n",
        "            print(f\"  • {item}\")"
      ],
      "metadata": {
        "colab": {
          "base_uri": "https://localhost:8080/"
        },
        "id": "AeBPjUXEibIg",
        "outputId": "59a96774-c499-4498-a070-f72d604f10bf"
      },
      "execution_count": 89,
      "outputs": [
        {
          "output_type": "stream",
          "name": "stdout",
          "text": [
            "機械学習レポートの生成\n",
            "機械学習実施結果レポート:\n",
            "\n",
            "モデル概要:\n",
            "  モデルタイプ: Random Forest Classifier\n",
            "  特徴量数: 10\n",
            "  訓練データ数: 800\n",
            "  最終更新日: 2025-09-11\n",
            "\n",
            "性能指標:\n",
            "  正解率: 0.980\n",
            "  ROC-AUC: 0.995\n",
            "  F1スコア: 0.949\n",
            "  適合率: 0.974\n",
            "  再現率: 0.925\n",
            "\n",
            "ビジネスインパクト:\n",
            "  高額顧客捕捉率: 92.5%\n",
            "  誤判定率: 0.5%\n",
            "  推定ROI向上率: 15-25%\n",
            "\n",
            "主要洞察:\n",
            "  • 最も重要な特徴量: unit_price\n",
            "  • 単価と数量が購買価値に強い影響\n",
            "  • 時間帯と曜日に一定のパターン存在\n"
          ]
        }
      ]
    },
    {
      "cell_type": "code",
      "source": [
        "print(\"次のステップと改善提案\")\n",
        "\n",
        "next_steps = [\n",
        "    \"1. 追加データの取得: 顧客デモグラフィックデータの追加\",\n",
        "    \"2. モデルアンサンブル: 複数モデルの組み合わせ\",\n",
        "    \"3. 時系列特徴量: 購買履歴の時系列パターン\",\n",
        "    \"4. 深層学習: ニューラルネットワークの試用\",\n",
        "    \"5. A/Bテスト: モデル予測に基づくマーケティングテスト\",\n",
        "    \"6. リアルタイム推論: API化による実時間予測\",\n",
        "    \"7. モデルモニタリング: 性能劣化の検知\",\n",
        "    \"8. ビジネスKPI連携: 売上への直接影響測定\"\n",
        "]\n",
        "\n",
        "print(\"💡 改善のための次のステップ:\")\n",
        "for step in next_steps:\n",
        "    print(f\"  {step}\")"
      ],
      "metadata": {
        "colab": {
          "base_uri": "https://localhost:8080/"
        },
        "id": "eVL7T4ayiZed",
        "outputId": "9a0f3951-b59e-4883-f3a8-ebb03fa40d22"
      },
      "execution_count": 90,
      "outputs": [
        {
          "output_type": "stream",
          "name": "stdout",
          "text": [
            "次のステップと改善提案\n",
            "💡 改善のための次のステップ:\n",
            "  1. 追加データの取得: 顧客デモグラフィックデータの追加\n",
            "  2. モデルアンサンブル: 複数モデルの組み合わせ\n",
            "  3. 時系列特徴量: 購買履歴の時系列パターン\n",
            "  4. 深層学習: ニューラルネットワークの試用\n",
            "  5. A/Bテスト: モデル予測に基づくマーケティングテスト\n",
            "  6. リアルタイム推論: API化による実時間予測\n",
            "  7. モデルモニタリング: 性能劣化の検知\n",
            "  8. ビジネスKPI連携: 売上への直接影響測定\n"
          ]
        }
      ]
    }
  ],
  "metadata": {
    "kernelspec": {
      "display_name": "Python 3",
      "language": "python",
      "name": "python3"
    },
    "language_info": {
      "codemirror_mode": {
        "name": "ipython",
        "version": 3
      },
      "file_extension": ".py",
      "mimetype": "text/x-python",
      "name": "python",
      "nbconvert_exporter": "python",
      "pygments_lexer": "ipython3",
      "version": "3.9.13"
    },
    "orig_nbformat": 4,
    "colab": {
      "provenance": [],
      "include_colab_link": true
    }
  },
  "nbformat": 4,
  "nbformat_minor": 0
}